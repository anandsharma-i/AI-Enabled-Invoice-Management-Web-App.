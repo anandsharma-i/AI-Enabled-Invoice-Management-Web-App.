{
 "cells": [
  {
   "cell_type": "markdown",
   "metadata": {
    "id": "wcq6dWzy1ZR0"
   },
   "source": [
    "# Payment Date Prediction "
   ]
  },
  {
   "cell_type": "markdown",
   "metadata": {
    "id": "2778654e"
   },
   "source": [
    "\n",
    "### Importing related Libraries "
   ]
  },
  {
   "cell_type": "code",
   "execution_count": 1,
   "metadata": {
    "executionInfo": {
     "elapsed": 1812,
     "status": "ok",
     "timestamp": 1645686992191,
     "user": {
      "displayName": "Anand Sharma",
      "photoUrl": "https://lh3.googleusercontent.com/a-/AOh14GgGUoK9JeU7aspVqtif0DmXDU4_ZbP-HQf5O3V9d6k=s64",
      "userId": "10219635889505679537"
     },
     "user_tz": -330
    },
    "id": "304c9e38"
   },
   "outputs": [],
   "source": [
    "import numpy as np\n",
    "import pandas as pd\n",
    "import matplotlib.pyplot as plt\n",
    "import seaborn as sns\n",
    "import math \n",
    "from sklearn.model_selection import train_test_split \n",
    "from sklearn.feature_selection import VarianceThreshold\n",
    "from sklearn.linear_model import LinearRegression \n",
    "from sklearn import metrics \n",
    "from sklearn.preprocessing import StandardScaler, MinMaxScaler, LabelEncoder\n",
    "import warnings\n",
    "warnings.filterwarnings(\"ignore\")"
   ]
  },
  {
   "cell_type": "markdown",
   "metadata": {
    "id": "8724f5ee"
   },
   "source": [
    "### Store the dataset into the Dataframe\n"
   ]
  },
  {
   "cell_type": "code",
   "execution_count": 2,
   "metadata": {
    "colab": {
     "base_uri": "https://localhost:8080/",
     "height": 357
    },
    "executionInfo": {
     "elapsed": 1639,
     "status": "ok",
     "timestamp": 1645687116924,
     "user": {
      "displayName": "Anand Sharma",
      "photoUrl": "https://lh3.googleusercontent.com/a-/AOh14GgGUoK9JeU7aspVqtif0DmXDU4_ZbP-HQf5O3V9d6k=s64",
      "userId": "10219635889505679537"
     },
     "user_tz": -330
    },
    "id": "415db50a",
    "outputId": "3e6e829a-a7d3-4a22-d4dc-1ca986b499a3",
    "scrolled": false
   },
   "outputs": [
    {
     "data": {
      "text/html": [
       "<div>\n",
       "<style scoped>\n",
       "    .dataframe tbody tr th:only-of-type {\n",
       "        vertical-align: middle;\n",
       "    }\n",
       "\n",
       "    .dataframe tbody tr th {\n",
       "        vertical-align: top;\n",
       "    }\n",
       "\n",
       "    .dataframe thead th {\n",
       "        text-align: right;\n",
       "    }\n",
       "</style>\n",
       "<table border=\"1\" class=\"dataframe\">\n",
       "  <thead>\n",
       "    <tr style=\"text-align: right;\">\n",
       "      <th></th>\n",
       "      <th>business_code</th>\n",
       "      <th>cust_number</th>\n",
       "      <th>name_customer</th>\n",
       "      <th>clear_date</th>\n",
       "      <th>buisness_year</th>\n",
       "      <th>doc_id</th>\n",
       "      <th>posting_date</th>\n",
       "      <th>document_create_date</th>\n",
       "      <th>document_create_date.1</th>\n",
       "      <th>due_in_date</th>\n",
       "      <th>invoice_currency</th>\n",
       "      <th>document type</th>\n",
       "      <th>posting_id</th>\n",
       "      <th>area_business</th>\n",
       "      <th>total_open_amount</th>\n",
       "      <th>baseline_create_date</th>\n",
       "      <th>cust_payment_terms</th>\n",
       "      <th>invoice_id</th>\n",
       "      <th>isOpen</th>\n",
       "    </tr>\n",
       "  </thead>\n",
       "  <tbody>\n",
       "    <tr>\n",
       "      <th>0</th>\n",
       "      <td>U001</td>\n",
       "      <td>200769623</td>\n",
       "      <td>WAL-MAR corp</td>\n",
       "      <td>11-02-2020 00:00</td>\n",
       "      <td>2020</td>\n",
       "      <td>1930438491</td>\n",
       "      <td>26-01-2020</td>\n",
       "      <td>20200125</td>\n",
       "      <td>20200126</td>\n",
       "      <td>20200210</td>\n",
       "      <td>USD</td>\n",
       "      <td>RV</td>\n",
       "      <td>1</td>\n",
       "      <td>NaN</td>\n",
       "      <td>54273.28</td>\n",
       "      <td>20200126</td>\n",
       "      <td>NAH4</td>\n",
       "      <td>1.930438e+09</td>\n",
       "      <td>0</td>\n",
       "    </tr>\n",
       "    <tr>\n",
       "      <th>1</th>\n",
       "      <td>U001</td>\n",
       "      <td>200980828</td>\n",
       "      <td>BEN E</td>\n",
       "      <td>08-08-2019 00:00</td>\n",
       "      <td>2019</td>\n",
       "      <td>1929646410</td>\n",
       "      <td>22-07-2019</td>\n",
       "      <td>20190722</td>\n",
       "      <td>20190722</td>\n",
       "      <td>20190811</td>\n",
       "      <td>USD</td>\n",
       "      <td>RV</td>\n",
       "      <td>1</td>\n",
       "      <td>NaN</td>\n",
       "      <td>79656.60</td>\n",
       "      <td>20190722</td>\n",
       "      <td>NAD1</td>\n",
       "      <td>1.929646e+09</td>\n",
       "      <td>0</td>\n",
       "    </tr>\n",
       "    <tr>\n",
       "      <th>2</th>\n",
       "      <td>U001</td>\n",
       "      <td>200792734</td>\n",
       "      <td>MDV/ trust</td>\n",
       "      <td>30-12-2019 00:00</td>\n",
       "      <td>2019</td>\n",
       "      <td>1929873765</td>\n",
       "      <td>14-09-2019</td>\n",
       "      <td>20190914</td>\n",
       "      <td>20190914</td>\n",
       "      <td>20190929</td>\n",
       "      <td>USD</td>\n",
       "      <td>RV</td>\n",
       "      <td>1</td>\n",
       "      <td>NaN</td>\n",
       "      <td>2253.86</td>\n",
       "      <td>20190914</td>\n",
       "      <td>NAA8</td>\n",
       "      <td>1.929874e+09</td>\n",
       "      <td>0</td>\n",
       "    </tr>\n",
       "    <tr>\n",
       "      <th>3</th>\n",
       "      <td>CA02</td>\n",
       "      <td>140105686</td>\n",
       "      <td>SYSC llc</td>\n",
       "      <td>NaN</td>\n",
       "      <td>2020</td>\n",
       "      <td>2960623488</td>\n",
       "      <td>30-03-2020</td>\n",
       "      <td>20200330</td>\n",
       "      <td>20200330</td>\n",
       "      <td>20200410</td>\n",
       "      <td>CAD</td>\n",
       "      <td>RV</td>\n",
       "      <td>1</td>\n",
       "      <td>NaN</td>\n",
       "      <td>3299.70</td>\n",
       "      <td>20200331</td>\n",
       "      <td>CA10</td>\n",
       "      <td>2.960623e+09</td>\n",
       "      <td>1</td>\n",
       "    </tr>\n",
       "    <tr>\n",
       "      <th>4</th>\n",
       "      <td>U001</td>\n",
       "      <td>200769623</td>\n",
       "      <td>WAL-MAR foundation</td>\n",
       "      <td>25-11-2019 00:00</td>\n",
       "      <td>2019</td>\n",
       "      <td>1930147974</td>\n",
       "      <td>13-11-2019</td>\n",
       "      <td>20191113</td>\n",
       "      <td>20191113</td>\n",
       "      <td>20191128</td>\n",
       "      <td>USD</td>\n",
       "      <td>RV</td>\n",
       "      <td>1</td>\n",
       "      <td>NaN</td>\n",
       "      <td>33133.29</td>\n",
       "      <td>20191113</td>\n",
       "      <td>NAH4</td>\n",
       "      <td>1.930148e+09</td>\n",
       "      <td>0</td>\n",
       "    </tr>\n",
       "  </tbody>\n",
       "</table>\n",
       "</div>"
      ],
      "text/plain": [
       "  business_code cust_number       name_customer        clear_date  \\\n",
       "0          U001   200769623        WAL-MAR corp  11-02-2020 00:00   \n",
       "1          U001   200980828              BEN E   08-08-2019 00:00   \n",
       "2          U001   200792734          MDV/ trust  30-12-2019 00:00   \n",
       "3          CA02   140105686            SYSC llc               NaN   \n",
       "4          U001   200769623  WAL-MAR foundation  25-11-2019 00:00   \n",
       "\n",
       "   buisness_year      doc_id posting_date  document_create_date  \\\n",
       "0           2020  1930438491   26-01-2020              20200125   \n",
       "1           2019  1929646410   22-07-2019              20190722   \n",
       "2           2019  1929873765   14-09-2019              20190914   \n",
       "3           2020  2960623488   30-03-2020              20200330   \n",
       "4           2019  1930147974   13-11-2019              20191113   \n",
       "\n",
       "   document_create_date.1  due_in_date invoice_currency document type  \\\n",
       "0                20200126     20200210              USD            RV   \n",
       "1                20190722     20190811              USD            RV   \n",
       "2                20190914     20190929              USD            RV   \n",
       "3                20200330     20200410              CAD            RV   \n",
       "4                20191113     20191128              USD            RV   \n",
       "\n",
       "   posting_id  area_business  total_open_amount  baseline_create_date  \\\n",
       "0           1            NaN           54273.28              20200126   \n",
       "1           1            NaN           79656.60              20190722   \n",
       "2           1            NaN            2253.86              20190914   \n",
       "3           1            NaN            3299.70              20200331   \n",
       "4           1            NaN           33133.29              20191113   \n",
       "\n",
       "  cust_payment_terms    invoice_id  isOpen  \n",
       "0               NAH4  1.930438e+09       0  \n",
       "1               NAD1  1.929646e+09       0  \n",
       "2               NAA8  1.929874e+09       0  \n",
       "3               CA10  2.960623e+09       1  \n",
       "4               NAH4  1.930148e+09       0  "
      ]
     },
     "execution_count": 2,
     "metadata": {},
     "output_type": "execute_result"
    }
   ],
   "source": [
    "data=pd.read_csv(\"new_dataset.csv\")\n",
    "data.head()"
   ]
  },
  {
   "cell_type": "markdown",
   "metadata": {
    "id": "42e37f05"
   },
   "source": [
    "### Check the shape of the dataframe\n"
   ]
  },
  {
   "cell_type": "code",
   "execution_count": 3,
   "metadata": {
    "colab": {
     "base_uri": "https://localhost:8080/"
    },
    "executionInfo": {
     "elapsed": 529,
     "status": "ok",
     "timestamp": 1645596190099,
     "user": {
      "displayName": "Anand Sharma",
      "photoUrl": "https://lh3.googleusercontent.com/a-/AOh14GgGUoK9JeU7aspVqtif0DmXDU4_ZbP-HQf5O3V9d6k=s64",
      "userId": "10219635889505679537"
     },
     "user_tz": -330
    },
    "id": "WKFiq9qn8owL",
    "outputId": "80451c18-c704-4f43-b98d-b5b9878ba325"
   },
   "outputs": [
    {
     "data": {
      "text/plain": [
       "(50099, 19)"
      ]
     },
     "execution_count": 3,
     "metadata": {},
     "output_type": "execute_result"
    }
   ],
   "source": [
    "data.shape"
   ]
  },
  {
   "cell_type": "markdown",
   "metadata": {
    "id": "b68c955d"
   },
   "source": [
    "### Check the Detail information of the dataframe"
   ]
  },
  {
   "cell_type": "code",
   "execution_count": 4,
   "metadata": {
    "colab": {
     "base_uri": "https://localhost:8080/"
    },
    "executionInfo": {
     "elapsed": 324,
     "status": "ok",
     "timestamp": 1645687150498,
     "user": {
      "displayName": "Anand Sharma",
      "photoUrl": "https://lh3.googleusercontent.com/a-/AOh14GgGUoK9JeU7aspVqtif0DmXDU4_ZbP-HQf5O3V9d6k=s64",
      "userId": "10219635889505679537"
     },
     "user_tz": -330
    },
    "id": "e092ec9e",
    "outputId": "3989f184-8f2b-40f9-e7fc-4fb63e022818"
   },
   "outputs": [
    {
     "name": "stdout",
     "output_type": "stream",
     "text": [
      "<class 'pandas.core.frame.DataFrame'>\n",
      "RangeIndex: 50099 entries, 0 to 50098\n",
      "Data columns (total 19 columns):\n",
      " #   Column                  Non-Null Count  Dtype  \n",
      "---  ------                  --------------  -----  \n",
      " 0   business_code           50099 non-null  object \n",
      " 1   cust_number             50099 non-null  object \n",
      " 2   name_customer           50099 non-null  object \n",
      " 3   clear_date              40000 non-null  object \n",
      " 4   buisness_year           50099 non-null  int64  \n",
      " 5   doc_id                  50099 non-null  int64  \n",
      " 6   posting_date            50099 non-null  object \n",
      " 7   document_create_date    50099 non-null  int64  \n",
      " 8   document_create_date.1  50099 non-null  int64  \n",
      " 9   due_in_date             50099 non-null  int64  \n",
      " 10  invoice_currency        50099 non-null  object \n",
      " 11  document type           50099 non-null  object \n",
      " 12  posting_id              50099 non-null  int64  \n",
      " 13  area_business           0 non-null      float64\n",
      " 14  total_open_amount       50099 non-null  float64\n",
      " 15  baseline_create_date    50099 non-null  int64  \n",
      " 16  cust_payment_terms      50099 non-null  object \n",
      " 17  invoice_id              50093 non-null  float64\n",
      " 18  isOpen                  50099 non-null  int64  \n",
      "dtypes: float64(3), int64(8), object(8)\n",
      "memory usage: 7.3+ MB\n"
     ]
    }
   ],
   "source": [
    "data.info()"
   ]
  },
  {
   "cell_type": "markdown",
   "metadata": {
    "id": "112f2d0e"
   },
   "source": [
    "### Display All the column names"
   ]
  },
  {
   "cell_type": "code",
   "execution_count": 5,
   "metadata": {
    "colab": {
     "base_uri": "https://localhost:8080/"
    },
    "executionInfo": {
     "elapsed": 399,
     "status": "ok",
     "timestamp": 1645525468253,
     "user": {
      "displayName": "Anand Sharma",
      "photoUrl": "https://lh3.googleusercontent.com/a-/AOh14GgGUoK9JeU7aspVqtif0DmXDU4_ZbP-HQf5O3V9d6k=s64",
      "userId": "10219635889505679537"
     },
     "user_tz": -330
    },
    "id": "1416e2fd",
    "outputId": "988fac1d-978b-415c-92f3-6a1197d98d1b"
   },
   "outputs": [
    {
     "name": "stdout",
     "output_type": "stream",
     "text": [
      "['business_code', 'cust_number', 'name_customer', 'clear_date', 'buisness_year', 'doc_id', 'posting_date', 'document_create_date', 'document_create_date.1', 'due_in_date', 'invoice_currency', 'document type', 'posting_id', 'area_business', 'total_open_amount', 'baseline_create_date', 'cust_payment_terms', 'invoice_id', 'isOpen']\n"
     ]
    }
   ],
   "source": [
    "cols=list(data)\n",
    "print(cols)"
   ]
  },
  {
   "cell_type": "markdown",
   "metadata": {
    "id": "d465ed7a"
   },
   "source": [
    "### Describe the entire dataset"
   ]
  },
  {
   "cell_type": "code",
   "execution_count": 6,
   "metadata": {
    "colab": {
     "base_uri": "https://localhost:8080/",
     "height": 295
    },
    "executionInfo": {
     "elapsed": 389,
     "status": "ok",
     "timestamp": 1645525560953,
     "user": {
      "displayName": "Anand Sharma",
      "photoUrl": "https://lh3.googleusercontent.com/a-/AOh14GgGUoK9JeU7aspVqtif0DmXDU4_ZbP-HQf5O3V9d6k=s64",
      "userId": "10219635889505679537"
     },
     "user_tz": -330
    },
    "id": "25f65e1b",
    "outputId": "b0054c33-16a9-4a23-a5fd-7a3502e2bd73"
   },
   "outputs": [
    {
     "data": {
      "text/html": [
       "<div>\n",
       "<style scoped>\n",
       "    .dataframe tbody tr th:only-of-type {\n",
       "        vertical-align: middle;\n",
       "    }\n",
       "\n",
       "    .dataframe tbody tr th {\n",
       "        vertical-align: top;\n",
       "    }\n",
       "\n",
       "    .dataframe thead th {\n",
       "        text-align: right;\n",
       "    }\n",
       "</style>\n",
       "<table border=\"1\" class=\"dataframe\">\n",
       "  <thead>\n",
       "    <tr style=\"text-align: right;\">\n",
       "      <th></th>\n",
       "      <th>buisness_year</th>\n",
       "      <th>doc_id</th>\n",
       "      <th>document_create_date</th>\n",
       "      <th>document_create_date.1</th>\n",
       "      <th>due_in_date</th>\n",
       "      <th>posting_id</th>\n",
       "      <th>area_business</th>\n",
       "      <th>total_open_amount</th>\n",
       "      <th>baseline_create_date</th>\n",
       "      <th>invoice_id</th>\n",
       "      <th>isOpen</th>\n",
       "    </tr>\n",
       "  </thead>\n",
       "  <tbody>\n",
       "    <tr>\n",
       "      <th>count</th>\n",
       "      <td>50099.000000</td>\n",
       "      <td>5.009900e+04</td>\n",
       "      <td>5.009900e+04</td>\n",
       "      <td>5.009900e+04</td>\n",
       "      <td>5.009900e+04</td>\n",
       "      <td>50099.0</td>\n",
       "      <td>0.0</td>\n",
       "      <td>50099.000000</td>\n",
       "      <td>5.009900e+04</td>\n",
       "      <td>5.009300e+04</td>\n",
       "      <td>50099.000000</td>\n",
       "    </tr>\n",
       "    <tr>\n",
       "      <th>mean</th>\n",
       "      <td>2019.307072</td>\n",
       "      <td>2.014112e+09</td>\n",
       "      <td>2.019353e+07</td>\n",
       "      <td>2.019355e+07</td>\n",
       "      <td>2.019369e+07</td>\n",
       "      <td>1.0</td>\n",
       "      <td>NaN</td>\n",
       "      <td>32456.565546</td>\n",
       "      <td>2.019355e+07</td>\n",
       "      <td>2.013216e+09</td>\n",
       "      <td>0.201581</td>\n",
       "    </tr>\n",
       "    <tr>\n",
       "      <th>std</th>\n",
       "      <td>0.461284</td>\n",
       "      <td>2.912992e+08</td>\n",
       "      <td>4.501712e+03</td>\n",
       "      <td>4.487779e+03</td>\n",
       "      <td>4.475909e+03</td>\n",
       "      <td>0.0</td>\n",
       "      <td>NaN</td>\n",
       "      <td>39259.249400</td>\n",
       "      <td>4.488339e+03</td>\n",
       "      <td>2.795573e+08</td>\n",
       "      <td>0.401185</td>\n",
       "    </tr>\n",
       "    <tr>\n",
       "      <th>min</th>\n",
       "      <td>2019.000000</td>\n",
       "      <td>1.928502e+09</td>\n",
       "      <td>2.018123e+07</td>\n",
       "      <td>2.018123e+07</td>\n",
       "      <td>2.018122e+07</td>\n",
       "      <td>1.0</td>\n",
       "      <td>NaN</td>\n",
       "      <td>0.720000</td>\n",
       "      <td>2.018121e+07</td>\n",
       "      <td>1.928502e+09</td>\n",
       "      <td>0.000000</td>\n",
       "    </tr>\n",
       "    <tr>\n",
       "      <th>25%</th>\n",
       "      <td>2019.000000</td>\n",
       "      <td>1.929343e+09</td>\n",
       "      <td>2.019051e+07</td>\n",
       "      <td>2.019051e+07</td>\n",
       "      <td>2.019052e+07</td>\n",
       "      <td>1.0</td>\n",
       "      <td>NaN</td>\n",
       "      <td>4943.480000</td>\n",
       "      <td>2.019051e+07</td>\n",
       "      <td>1.929343e+09</td>\n",
       "      <td>0.000000</td>\n",
       "    </tr>\n",
       "    <tr>\n",
       "      <th>50%</th>\n",
       "      <td>2019.000000</td>\n",
       "      <td>1.929968e+09</td>\n",
       "      <td>2.019091e+07</td>\n",
       "      <td>2.019091e+07</td>\n",
       "      <td>2.019093e+07</td>\n",
       "      <td>1.0</td>\n",
       "      <td>NaN</td>\n",
       "      <td>17700.000000</td>\n",
       "      <td>2.019091e+07</td>\n",
       "      <td>1.929968e+09</td>\n",
       "      <td>0.000000</td>\n",
       "    </tr>\n",
       "    <tr>\n",
       "      <th>75%</th>\n",
       "      <td>2020.000000</td>\n",
       "      <td>1.930621e+09</td>\n",
       "      <td>2.020013e+07</td>\n",
       "      <td>2.020013e+07</td>\n",
       "      <td>2.020022e+07</td>\n",
       "      <td>1.0</td>\n",
       "      <td>NaN</td>\n",
       "      <td>47385.590000</td>\n",
       "      <td>2.020013e+07</td>\n",
       "      <td>1.930621e+09</td>\n",
       "      <td>0.000000</td>\n",
       "    </tr>\n",
       "    <tr>\n",
       "      <th>max</th>\n",
       "      <td>2020.000000</td>\n",
       "      <td>9.500000e+09</td>\n",
       "      <td>2.020052e+07</td>\n",
       "      <td>2.020052e+07</td>\n",
       "      <td>2.020071e+07</td>\n",
       "      <td>1.0</td>\n",
       "      <td>NaN</td>\n",
       "      <td>668593.360000</td>\n",
       "      <td>2.020052e+07</td>\n",
       "      <td>2.960636e+09</td>\n",
       "      <td>1.000000</td>\n",
       "    </tr>\n",
       "  </tbody>\n",
       "</table>\n",
       "</div>"
      ],
      "text/plain": [
       "       buisness_year        doc_id  document_create_date  \\\n",
       "count   50099.000000  5.009900e+04          5.009900e+04   \n",
       "mean     2019.307072  2.014112e+09          2.019353e+07   \n",
       "std         0.461284  2.912992e+08          4.501712e+03   \n",
       "min      2019.000000  1.928502e+09          2.018123e+07   \n",
       "25%      2019.000000  1.929343e+09          2.019051e+07   \n",
       "50%      2019.000000  1.929968e+09          2.019091e+07   \n",
       "75%      2020.000000  1.930621e+09          2.020013e+07   \n",
       "max      2020.000000  9.500000e+09          2.020052e+07   \n",
       "\n",
       "       document_create_date.1   due_in_date  posting_id  area_business  \\\n",
       "count            5.009900e+04  5.009900e+04     50099.0            0.0   \n",
       "mean             2.019355e+07  2.019369e+07         1.0            NaN   \n",
       "std              4.487779e+03  4.475909e+03         0.0            NaN   \n",
       "min              2.018123e+07  2.018122e+07         1.0            NaN   \n",
       "25%              2.019051e+07  2.019052e+07         1.0            NaN   \n",
       "50%              2.019091e+07  2.019093e+07         1.0            NaN   \n",
       "75%              2.020013e+07  2.020022e+07         1.0            NaN   \n",
       "max              2.020052e+07  2.020071e+07         1.0            NaN   \n",
       "\n",
       "       total_open_amount  baseline_create_date    invoice_id        isOpen  \n",
       "count       50099.000000          5.009900e+04  5.009300e+04  50099.000000  \n",
       "mean        32456.565546          2.019355e+07  2.013216e+09      0.201581  \n",
       "std         39259.249400          4.488339e+03  2.795573e+08      0.401185  \n",
       "min             0.720000          2.018121e+07  1.928502e+09      0.000000  \n",
       "25%          4943.480000          2.019051e+07  1.929343e+09      0.000000  \n",
       "50%         17700.000000          2.019091e+07  1.929968e+09      0.000000  \n",
       "75%         47385.590000          2.020013e+07  1.930621e+09      0.000000  \n",
       "max        668593.360000          2.020052e+07  2.960636e+09      1.000000  "
      ]
     },
     "execution_count": 6,
     "metadata": {},
     "output_type": "execute_result"
    }
   ],
   "source": [
    "data.describe()"
   ]
  },
  {
   "cell_type": "markdown",
   "metadata": {
    "id": "0f2c8d02"
   },
   "source": [
    "# Data Cleaning\n",
    "\n",
    "- Show top 5 records from the dataset"
   ]
  },
  {
   "cell_type": "code",
   "execution_count": 7,
   "metadata": {
    "colab": {
     "base_uri": "https://localhost:8080/",
     "height": 363
    },
    "executionInfo": {
     "elapsed": 379,
     "status": "ok",
     "timestamp": 1645525778809,
     "user": {
      "displayName": "Anand Sharma",
      "photoUrl": "https://lh3.googleusercontent.com/a-/AOh14GgGUoK9JeU7aspVqtif0DmXDU4_ZbP-HQf5O3V9d6k=s64",
      "userId": "10219635889505679537"
     },
     "user_tz": -330
    },
    "id": "LXM6jNDz-qEq",
    "outputId": "176d870e-4de0-48eb-9285-9dfcb33d812c"
   },
   "outputs": [
    {
     "data": {
      "text/html": [
       "<div>\n",
       "<style scoped>\n",
       "    .dataframe tbody tr th:only-of-type {\n",
       "        vertical-align: middle;\n",
       "    }\n",
       "\n",
       "    .dataframe tbody tr th {\n",
       "        vertical-align: top;\n",
       "    }\n",
       "\n",
       "    .dataframe thead th {\n",
       "        text-align: right;\n",
       "    }\n",
       "</style>\n",
       "<table border=\"1\" class=\"dataframe\">\n",
       "  <thead>\n",
       "    <tr style=\"text-align: right;\">\n",
       "      <th></th>\n",
       "      <th>business_code</th>\n",
       "      <th>cust_number</th>\n",
       "      <th>name_customer</th>\n",
       "      <th>clear_date</th>\n",
       "      <th>buisness_year</th>\n",
       "      <th>doc_id</th>\n",
       "      <th>posting_date</th>\n",
       "      <th>document_create_date</th>\n",
       "      <th>document_create_date.1</th>\n",
       "      <th>due_in_date</th>\n",
       "      <th>invoice_currency</th>\n",
       "      <th>document type</th>\n",
       "      <th>posting_id</th>\n",
       "      <th>area_business</th>\n",
       "      <th>total_open_amount</th>\n",
       "      <th>baseline_create_date</th>\n",
       "      <th>cust_payment_terms</th>\n",
       "      <th>invoice_id</th>\n",
       "      <th>isOpen</th>\n",
       "    </tr>\n",
       "  </thead>\n",
       "  <tbody>\n",
       "    <tr>\n",
       "      <th>0</th>\n",
       "      <td>U001</td>\n",
       "      <td>200769623</td>\n",
       "      <td>WAL-MAR corp</td>\n",
       "      <td>11-02-2020 00:00</td>\n",
       "      <td>2020</td>\n",
       "      <td>1930438491</td>\n",
       "      <td>26-01-2020</td>\n",
       "      <td>20200125</td>\n",
       "      <td>20200126</td>\n",
       "      <td>20200210</td>\n",
       "      <td>USD</td>\n",
       "      <td>RV</td>\n",
       "      <td>1</td>\n",
       "      <td>NaN</td>\n",
       "      <td>54273.28</td>\n",
       "      <td>20200126</td>\n",
       "      <td>NAH4</td>\n",
       "      <td>1.930438e+09</td>\n",
       "      <td>0</td>\n",
       "    </tr>\n",
       "    <tr>\n",
       "      <th>1</th>\n",
       "      <td>U001</td>\n",
       "      <td>200980828</td>\n",
       "      <td>BEN E</td>\n",
       "      <td>08-08-2019 00:00</td>\n",
       "      <td>2019</td>\n",
       "      <td>1929646410</td>\n",
       "      <td>22-07-2019</td>\n",
       "      <td>20190722</td>\n",
       "      <td>20190722</td>\n",
       "      <td>20190811</td>\n",
       "      <td>USD</td>\n",
       "      <td>RV</td>\n",
       "      <td>1</td>\n",
       "      <td>NaN</td>\n",
       "      <td>79656.60</td>\n",
       "      <td>20190722</td>\n",
       "      <td>NAD1</td>\n",
       "      <td>1.929646e+09</td>\n",
       "      <td>0</td>\n",
       "    </tr>\n",
       "    <tr>\n",
       "      <th>2</th>\n",
       "      <td>U001</td>\n",
       "      <td>200792734</td>\n",
       "      <td>MDV/ trust</td>\n",
       "      <td>30-12-2019 00:00</td>\n",
       "      <td>2019</td>\n",
       "      <td>1929873765</td>\n",
       "      <td>14-09-2019</td>\n",
       "      <td>20190914</td>\n",
       "      <td>20190914</td>\n",
       "      <td>20190929</td>\n",
       "      <td>USD</td>\n",
       "      <td>RV</td>\n",
       "      <td>1</td>\n",
       "      <td>NaN</td>\n",
       "      <td>2253.86</td>\n",
       "      <td>20190914</td>\n",
       "      <td>NAA8</td>\n",
       "      <td>1.929874e+09</td>\n",
       "      <td>0</td>\n",
       "    </tr>\n",
       "    <tr>\n",
       "      <th>3</th>\n",
       "      <td>CA02</td>\n",
       "      <td>140105686</td>\n",
       "      <td>SYSC llc</td>\n",
       "      <td>NaN</td>\n",
       "      <td>2020</td>\n",
       "      <td>2960623488</td>\n",
       "      <td>30-03-2020</td>\n",
       "      <td>20200330</td>\n",
       "      <td>20200330</td>\n",
       "      <td>20200410</td>\n",
       "      <td>CAD</td>\n",
       "      <td>RV</td>\n",
       "      <td>1</td>\n",
       "      <td>NaN</td>\n",
       "      <td>3299.70</td>\n",
       "      <td>20200331</td>\n",
       "      <td>CA10</td>\n",
       "      <td>2.960623e+09</td>\n",
       "      <td>1</td>\n",
       "    </tr>\n",
       "    <tr>\n",
       "      <th>4</th>\n",
       "      <td>U001</td>\n",
       "      <td>200769623</td>\n",
       "      <td>WAL-MAR foundation</td>\n",
       "      <td>25-11-2019 00:00</td>\n",
       "      <td>2019</td>\n",
       "      <td>1930147974</td>\n",
       "      <td>13-11-2019</td>\n",
       "      <td>20191113</td>\n",
       "      <td>20191113</td>\n",
       "      <td>20191128</td>\n",
       "      <td>USD</td>\n",
       "      <td>RV</td>\n",
       "      <td>1</td>\n",
       "      <td>NaN</td>\n",
       "      <td>33133.29</td>\n",
       "      <td>20191113</td>\n",
       "      <td>NAH4</td>\n",
       "      <td>1.930148e+09</td>\n",
       "      <td>0</td>\n",
       "    </tr>\n",
       "  </tbody>\n",
       "</table>\n",
       "</div>"
      ],
      "text/plain": [
       "  business_code cust_number       name_customer        clear_date  \\\n",
       "0          U001   200769623        WAL-MAR corp  11-02-2020 00:00   \n",
       "1          U001   200980828              BEN E   08-08-2019 00:00   \n",
       "2          U001   200792734          MDV/ trust  30-12-2019 00:00   \n",
       "3          CA02   140105686            SYSC llc               NaN   \n",
       "4          U001   200769623  WAL-MAR foundation  25-11-2019 00:00   \n",
       "\n",
       "   buisness_year      doc_id posting_date  document_create_date  \\\n",
       "0           2020  1930438491   26-01-2020              20200125   \n",
       "1           2019  1929646410   22-07-2019              20190722   \n",
       "2           2019  1929873765   14-09-2019              20190914   \n",
       "3           2020  2960623488   30-03-2020              20200330   \n",
       "4           2019  1930147974   13-11-2019              20191113   \n",
       "\n",
       "   document_create_date.1  due_in_date invoice_currency document type  \\\n",
       "0                20200126     20200210              USD            RV   \n",
       "1                20190722     20190811              USD            RV   \n",
       "2                20190914     20190929              USD            RV   \n",
       "3                20200330     20200410              CAD            RV   \n",
       "4                20191113     20191128              USD            RV   \n",
       "\n",
       "   posting_id  area_business  total_open_amount  baseline_create_date  \\\n",
       "0           1            NaN           54273.28              20200126   \n",
       "1           1            NaN           79656.60              20190722   \n",
       "2           1            NaN            2253.86              20190914   \n",
       "3           1            NaN            3299.70              20200331   \n",
       "4           1            NaN           33133.29              20191113   \n",
       "\n",
       "  cust_payment_terms    invoice_id  isOpen  \n",
       "0               NAH4  1.930438e+09       0  \n",
       "1               NAD1  1.929646e+09       0  \n",
       "2               NAA8  1.929874e+09       0  \n",
       "3               CA10  2.960623e+09       1  \n",
       "4               NAH4  1.930148e+09       0  "
      ]
     },
     "execution_count": 7,
     "metadata": {},
     "output_type": "execute_result"
    }
   ],
   "source": [
    "data.head()"
   ]
  },
  {
   "cell_type": "markdown",
   "metadata": {
    "id": "92b044e4"
   },
   "source": [
    "### Display the Null values percentage against every columns (compare to the total number of records)\n",
    "\n",
    "- Output expected : area_business - 100% null, clear_data = 20% null, invoice_id = 0.012% null"
   ]
  },
  {
   "cell_type": "code",
   "execution_count": 8,
   "metadata": {
    "colab": {
     "base_uri": "https://localhost:8080/"
    },
    "executionInfo": {
     "elapsed": 411,
     "status": "ok",
     "timestamp": 1645526549818,
     "user": {
      "displayName": "Anand Sharma",
      "photoUrl": "https://lh3.googleusercontent.com/a-/AOh14GgGUoK9JeU7aspVqtif0DmXDU4_ZbP-HQf5O3V9d6k=s64",
      "userId": "10219635889505679537"
     },
     "user_tz": -330
    },
    "id": "24c7b13d",
    "outputId": "1b629eef-a555-4a04-9cf6-27a350d0efad"
   },
   "outputs": [
    {
     "name": "stdout",
     "output_type": "stream",
     "text": [
      "business_code               0.000\n",
      "cust_number                 0.000\n",
      "name_customer               0.000\n",
      "clear_date                 20.198\n",
      "buisness_year               0.000\n",
      "doc_id                      0.000\n",
      "posting_date                0.000\n",
      "document_create_date        0.000\n",
      "document_create_date.1      0.000\n",
      "due_in_date                 0.000\n",
      "invoice_currency            0.000\n",
      "document type               0.000\n",
      "posting_id                  0.000\n",
      "area_business             100.198\n",
      "total_open_amount           0.000\n",
      "baseline_create_date        0.000\n",
      "cust_payment_terms          0.000\n",
      "invoice_id                  0.012\n",
      "isOpen                      0.000\n",
      "dtype: float64\n"
     ]
    }
   ],
   "source": [
    "print((data.isna().sum()/50000)*100)"
   ]
  },
  {
   "cell_type": "markdown",
   "metadata": {
    "id": "2c46a98b"
   },
   "source": [
    "### Display Invoice_id and Doc_Id\n",
    "\n",
    "- Note - Many of the would have same invoice_id and doc_id\n"
   ]
  },
  {
   "cell_type": "code",
   "execution_count": 9,
   "metadata": {
    "colab": {
     "base_uri": "https://localhost:8080/",
     "height": 672
    },
    "executionInfo": {
     "elapsed": 402,
     "status": "ok",
     "timestamp": 1645526616478,
     "user": {
      "displayName": "Anand Sharma",
      "photoUrl": "https://lh3.googleusercontent.com/a-/AOh14GgGUoK9JeU7aspVqtif0DmXDU4_ZbP-HQf5O3V9d6k=s64",
      "userId": "10219635889505679537"
     },
     "user_tz": -330
    },
    "id": "038f24bb",
    "outputId": "58b055aa-e5bb-4de1-ed18-7caebd9456d8"
   },
   "outputs": [
    {
     "data": {
      "text/html": [
       "<div>\n",
       "<style scoped>\n",
       "    .dataframe tbody tr th:only-of-type {\n",
       "        vertical-align: middle;\n",
       "    }\n",
       "\n",
       "    .dataframe tbody tr th {\n",
       "        vertical-align: top;\n",
       "    }\n",
       "\n",
       "    .dataframe thead th {\n",
       "        text-align: right;\n",
       "    }\n",
       "</style>\n",
       "<table border=\"1\" class=\"dataframe\">\n",
       "  <thead>\n",
       "    <tr style=\"text-align: right;\">\n",
       "      <th></th>\n",
       "      <th>invoice_id</th>\n",
       "      <th>doc_id</th>\n",
       "    </tr>\n",
       "  </thead>\n",
       "  <tbody>\n",
       "    <tr>\n",
       "      <th>0</th>\n",
       "      <td>1.930438e+09</td>\n",
       "      <td>1930438491</td>\n",
       "    </tr>\n",
       "    <tr>\n",
       "      <th>1</th>\n",
       "      <td>1.929646e+09</td>\n",
       "      <td>1929646410</td>\n",
       "    </tr>\n",
       "    <tr>\n",
       "      <th>2</th>\n",
       "      <td>1.929874e+09</td>\n",
       "      <td>1929873765</td>\n",
       "    </tr>\n",
       "    <tr>\n",
       "      <th>3</th>\n",
       "      <td>2.960623e+09</td>\n",
       "      <td>2960623488</td>\n",
       "    </tr>\n",
       "    <tr>\n",
       "      <th>4</th>\n",
       "      <td>1.930148e+09</td>\n",
       "      <td>1930147974</td>\n",
       "    </tr>\n",
       "    <tr>\n",
       "      <th>...</th>\n",
       "      <td>...</td>\n",
       "      <td>...</td>\n",
       "    </tr>\n",
       "    <tr>\n",
       "      <th>50094</th>\n",
       "      <td>2.960619e+09</td>\n",
       "      <td>2960618884</td>\n",
       "    </tr>\n",
       "    <tr>\n",
       "      <th>50095</th>\n",
       "      <td>2.960619e+09</td>\n",
       "      <td>2960618885</td>\n",
       "    </tr>\n",
       "    <tr>\n",
       "      <th>50096</th>\n",
       "      <td>2.960619e+09</td>\n",
       "      <td>2960618886</td>\n",
       "    </tr>\n",
       "    <tr>\n",
       "      <th>50097</th>\n",
       "      <td>2.960619e+09</td>\n",
       "      <td>2960618887</td>\n",
       "    </tr>\n",
       "    <tr>\n",
       "      <th>50098</th>\n",
       "      <td>2.960619e+09</td>\n",
       "      <td>2960618888</td>\n",
       "    </tr>\n",
       "  </tbody>\n",
       "</table>\n",
       "<p>50099 rows × 2 columns</p>\n",
       "</div>"
      ],
      "text/plain": [
       "         invoice_id      doc_id\n",
       "0      1.930438e+09  1930438491\n",
       "1      1.929646e+09  1929646410\n",
       "2      1.929874e+09  1929873765\n",
       "3      2.960623e+09  2960623488\n",
       "4      1.930148e+09  1930147974\n",
       "...             ...         ...\n",
       "50094  2.960619e+09  2960618884\n",
       "50095  2.960619e+09  2960618885\n",
       "50096  2.960619e+09  2960618886\n",
       "50097  2.960619e+09  2960618887\n",
       "50098  2.960619e+09  2960618888\n",
       "\n",
       "[50099 rows x 2 columns]"
      ]
     },
     "execution_count": 9,
     "metadata": {},
     "output_type": "execute_result"
    }
   ],
   "source": [
    "data[['invoice_id','doc_id']]"
   ]
  },
  {
   "cell_type": "markdown",
   "metadata": {
    "id": "18cfe10a"
   },
   "source": [
    "#### Write a code to check - 'baseline_create_date',\"document_create_date\",'document_create_date.1' - these columns are almost same.\n",
    "\n",
    "- Please note, if they are same, we need to drop them later\n",
    "\n"
   ]
  },
  {
   "cell_type": "code",
   "execution_count": 10,
   "metadata": {
    "colab": {
     "base_uri": "https://localhost:8080/"
    },
    "executionInfo": {
     "elapsed": 4652,
     "status": "ok",
     "timestamp": 1645526805060,
     "user": {
      "displayName": "Anand Sharma",
      "photoUrl": "https://lh3.googleusercontent.com/a-/AOh14GgGUoK9JeU7aspVqtif0DmXDU4_ZbP-HQf5O3V9d6k=s64",
      "userId": "10219635889505679537"
     },
     "user_tz": -330
    },
    "id": "cf5b40ff",
    "outputId": "a455fa65-6961-4d41-c038-0f32eb3ba7c8"
   },
   "outputs": [
    {
     "name": "stdout",
     "output_type": "stream",
     "text": [
      "Same Data count :  16062\n"
     ]
    }
   ],
   "source": [
    "#document_create_date and baseline_create_date is same 15963 times.\n",
    "ctr=0\n",
    "for i, j in data.iterrows():\n",
    "  if j[7]==int(j[15]):\n",
    "    ctr+=1\n",
    "  #else:  \n",
    "    #print(j[7],j[15])\n",
    "    #print()\n",
    "print(\"Same Data count : \",ctr)    "
   ]
  },
  {
   "cell_type": "code",
   "execution_count": 11,
   "metadata": {
    "colab": {
     "base_uri": "https://localhost:8080/"
    },
    "executionInfo": {
     "elapsed": 4459,
     "status": "ok",
     "timestamp": 1645526868288,
     "user": {
      "displayName": "Anand Sharma",
      "photoUrl": "https://lh3.googleusercontent.com/a-/AOh14GgGUoK9JeU7aspVqtif0DmXDU4_ZbP-HQf5O3V9d6k=s64",
      "userId": "10219635889505679537"
     },
     "user_tz": -330
    },
    "id": "Fh455gIoCsoX",
    "outputId": "2f89e1da-6bfd-4cbf-a654-f0b09eaffb09"
   },
   "outputs": [
    {
     "name": "stdout",
     "output_type": "stream",
     "text": [
      "Same Data count :  44551\n"
     ]
    }
   ],
   "source": [
    "#document_create_date.1 and baseline_create_date is same 44452 times.\n",
    "ctr=0\n",
    "for i, j in data.iterrows():\n",
    "  if j[8]==int(j[15]):\n",
    "    ctr+=1\n",
    "  #else:  \n",
    "    #print(j[8],j[15])\n",
    "print(\"Same Data count : \",ctr)"
   ]
  },
  {
   "cell_type": "code",
   "execution_count": 12,
   "metadata": {
    "colab": {
     "base_uri": "https://localhost:8080/"
    },
    "executionInfo": {
     "elapsed": 4583,
     "status": "ok",
     "timestamp": 1645526992465,
     "user": {
      "displayName": "Anand Sharma",
      "photoUrl": "https://lh3.googleusercontent.com/a-/AOh14GgGUoK9JeU7aspVqtif0DmXDU4_ZbP-HQf5O3V9d6k=s64",
      "userId": "10219635889505679537"
     },
     "user_tz": -330
    },
    "id": "Zzs2fzDbDG2o",
    "outputId": "1e15e784-d348-4508-d97b-fede9e295d5d"
   },
   "outputs": [
    {
     "name": "stdout",
     "output_type": "stream",
     "text": [
      "Same Data count :  21331\n"
     ]
    }
   ],
   "source": [
    "#document_create_date.1 and document_create_date is same 21232 times.\n",
    "ctr=0\n",
    "for i, j in data.iterrows():\n",
    "  if j[8]==int(j[7]):\n",
    "    ctr+=1\n",
    "  #else:  \n",
    "    #print(j[8],j[7])\n",
    "print(\"Same Data count : \",ctr)"
   ]
  },
  {
   "cell_type": "markdown",
   "metadata": {
    "id": "33110576"
   },
   "source": [
    "#### Please check, Column 'posting_id' is constant columns or not\n"
   ]
  },
  {
   "cell_type": "code",
   "execution_count": 13,
   "metadata": {
    "colab": {
     "base_uri": "https://localhost:8080/"
    },
    "executionInfo": {
     "elapsed": 472,
     "status": "ok",
     "timestamp": 1645527479693,
     "user": {
      "displayName": "Anand Sharma",
      "photoUrl": "https://lh3.googleusercontent.com/a-/AOh14GgGUoK9JeU7aspVqtif0DmXDU4_ZbP-HQf5O3V9d6k=s64",
      "userId": "10219635889505679537"
     },
     "user_tz": -330
    },
    "id": "ecce2664",
    "outputId": "104d6f57-b17e-4703-ecff-3de1fbddd332"
   },
   "outputs": [
    {
     "name": "stdout",
     "output_type": "stream",
     "text": [
      "Constant Column\n"
     ]
    }
   ],
   "source": [
    "if data['posting_id'].nunique()==1:\n",
    "    print(\"Constant Column\")\n",
    "else:\n",
    "    print(\"Not a Constant Column\")"
   ]
  },
  {
   "cell_type": "markdown",
   "metadata": {
    "id": "e5fb8daf"
   },
   "source": [
    "#### Please check 'isOpen' is a constant column and relevant column for this project or not"
   ]
  },
  {
   "cell_type": "code",
   "execution_count": 14,
   "metadata": {
    "colab": {
     "base_uri": "https://localhost:8080/"
    },
    "executionInfo": {
     "elapsed": 783,
     "status": "ok",
     "timestamp": 1645527543807,
     "user": {
      "displayName": "Anand Sharma",
      "photoUrl": "https://lh3.googleusercontent.com/a-/AOh14GgGUoK9JeU7aspVqtif0DmXDU4_ZbP-HQf5O3V9d6k=s64",
      "userId": "10219635889505679537"
     },
     "user_tz": -330
    },
    "id": "8db9956b",
    "outputId": "37469aba-38e1-496d-bf58-bfe6c7176645"
   },
   "outputs": [
    {
     "name": "stdout",
     "output_type": "stream",
     "text": [
      "Not a Constant Column\n"
     ]
    }
   ],
   "source": [
    "#isOpen col tells if an invoice is open or not, which is a very relevant information for the model ,\n",
    "#as we must know which invoics are still open,so as to predict their clear date.\n",
    "if data['isOpen'].nunique()==1:\n",
    "    print(\"Constant Column\")\n",
    "else:\n",
    "    print(\"Not a Constant Column\")"
   ]
  },
  {
   "cell_type": "code",
   "execution_count": 15,
   "metadata": {
    "colab": {
     "base_uri": "https://localhost:8080/"
    },
    "executionInfo": {
     "elapsed": 1482,
     "status": "ok",
     "timestamp": 1645527814291,
     "user": {
      "displayName": "Anand Sharma",
      "photoUrl": "https://lh3.googleusercontent.com/a-/AOh14GgGUoK9JeU7aspVqtif0DmXDU4_ZbP-HQf5O3V9d6k=s64",
      "userId": "10219635889505679537"
     },
     "user_tz": -330
    },
    "id": "FWQrxTe0Gbkc",
    "outputId": "c1998c10-b9a1-45d9-e57e-2019b78561e8"
   },
   "outputs": [
    {
     "name": "stdout",
     "output_type": "stream",
     "text": [
      "closed invoice count :  40000\n",
      "Percentage of closed invoice :  80.0 %\n",
      "open invoice count :  10099\n",
      "Percentage of open invoice :  20.198 %\n"
     ]
    }
   ],
   "source": [
    "#80% of invoices has been closed , 20% invoices are yet to be closed\n",
    "#we have to predict clear_date for those invoices\n",
    "ctr=0\n",
    "ctr1=0\n",
    "for i in data['isOpen']:\n",
    "  if i==0:\n",
    "    ctr+=1  \n",
    "  else:\n",
    "    ctr1+=1  \n",
    "print(\"closed invoice count : \",ctr)    \n",
    "print(\"Percentage of closed invoice : \",(ctr/50000)*100,\"%\")\n",
    "print(\"open invoice count : \",ctr1)\n",
    "print(\"Percentage of open invoice : \",(ctr1/50000)*100,\"%\")"
   ]
  },
  {
   "cell_type": "markdown",
   "metadata": {
    "id": "45a11a62"
   },
   "source": [
    "### Write the code to drop all the following columns from the dataframe\n",
    "\n",
    "- 'area_business'\n",
    "- \"posting_id\"\n",
    "- \"invoice_id\"\n",
    "- \"document_create_date\"\n",
    "- \"isOpen\"\n",
    "- 'document type' \n",
    "- 'document_create_date.1"
   ]
  },
  {
   "cell_type": "code",
   "execution_count": 16,
   "metadata": {
    "executionInfo": {
     "elapsed": 324,
     "status": "ok",
     "timestamp": 1645687258208,
     "user": {
      "displayName": "Anand Sharma",
      "photoUrl": "https://lh3.googleusercontent.com/a-/AOh14GgGUoK9JeU7aspVqtif0DmXDU4_ZbP-HQf5O3V9d6k=s64",
      "userId": "10219635889505679537"
     },
     "user_tz": -330
    },
    "id": "270d85d1"
   },
   "outputs": [],
   "source": [
    "lst=['area_business',\"posting_id\",\"invoice_id\",\"document_create_date\",\"isOpen\",'document type','document_create_date.1']\n",
    "\n",
    "data=data.drop(lst,axis=1)"
   ]
  },
  {
   "cell_type": "markdown",
   "metadata": {
    "id": "K5LHAM2XVGnk"
   },
   "source": [
    "### Please check from the dataframe whether all the columns are removed or not "
   ]
  },
  {
   "cell_type": "code",
   "execution_count": 17,
   "metadata": {
    "colab": {
     "base_uri": "https://localhost:8080/",
     "height": 627
    },
    "executionInfo": {
     "elapsed": 593,
     "status": "ok",
     "timestamp": 1645687265032,
     "user": {
      "displayName": "Anand Sharma",
      "photoUrl": "https://lh3.googleusercontent.com/a-/AOh14GgGUoK9JeU7aspVqtif0DmXDU4_ZbP-HQf5O3V9d6k=s64",
      "userId": "10219635889505679537"
     },
     "user_tz": -330
    },
    "id": "ef3f7d2b",
    "outputId": "4ac12c0b-1f9a-404d-a343-48fcbb2510b4"
   },
   "outputs": [
    {
     "data": {
      "text/html": [
       "<div>\n",
       "<style scoped>\n",
       "    .dataframe tbody tr th:only-of-type {\n",
       "        vertical-align: middle;\n",
       "    }\n",
       "\n",
       "    .dataframe tbody tr th {\n",
       "        vertical-align: top;\n",
       "    }\n",
       "\n",
       "    .dataframe thead th {\n",
       "        text-align: right;\n",
       "    }\n",
       "</style>\n",
       "<table border=\"1\" class=\"dataframe\">\n",
       "  <thead>\n",
       "    <tr style=\"text-align: right;\">\n",
       "      <th></th>\n",
       "      <th>business_code</th>\n",
       "      <th>cust_number</th>\n",
       "      <th>name_customer</th>\n",
       "      <th>clear_date</th>\n",
       "      <th>buisness_year</th>\n",
       "      <th>doc_id</th>\n",
       "      <th>posting_date</th>\n",
       "      <th>due_in_date</th>\n",
       "      <th>invoice_currency</th>\n",
       "      <th>total_open_amount</th>\n",
       "      <th>baseline_create_date</th>\n",
       "      <th>cust_payment_terms</th>\n",
       "    </tr>\n",
       "  </thead>\n",
       "  <tbody>\n",
       "    <tr>\n",
       "      <th>0</th>\n",
       "      <td>U001</td>\n",
       "      <td>200769623</td>\n",
       "      <td>WAL-MAR corp</td>\n",
       "      <td>11-02-2020 00:00</td>\n",
       "      <td>2020</td>\n",
       "      <td>1930438491</td>\n",
       "      <td>26-01-2020</td>\n",
       "      <td>20200210</td>\n",
       "      <td>USD</td>\n",
       "      <td>54273.28</td>\n",
       "      <td>20200126</td>\n",
       "      <td>NAH4</td>\n",
       "    </tr>\n",
       "    <tr>\n",
       "      <th>1</th>\n",
       "      <td>U001</td>\n",
       "      <td>200980828</td>\n",
       "      <td>BEN E</td>\n",
       "      <td>08-08-2019 00:00</td>\n",
       "      <td>2019</td>\n",
       "      <td>1929646410</td>\n",
       "      <td>22-07-2019</td>\n",
       "      <td>20190811</td>\n",
       "      <td>USD</td>\n",
       "      <td>79656.60</td>\n",
       "      <td>20190722</td>\n",
       "      <td>NAD1</td>\n",
       "    </tr>\n",
       "    <tr>\n",
       "      <th>2</th>\n",
       "      <td>U001</td>\n",
       "      <td>200792734</td>\n",
       "      <td>MDV/ trust</td>\n",
       "      <td>30-12-2019 00:00</td>\n",
       "      <td>2019</td>\n",
       "      <td>1929873765</td>\n",
       "      <td>14-09-2019</td>\n",
       "      <td>20190929</td>\n",
       "      <td>USD</td>\n",
       "      <td>2253.86</td>\n",
       "      <td>20190914</td>\n",
       "      <td>NAA8</td>\n",
       "    </tr>\n",
       "    <tr>\n",
       "      <th>3</th>\n",
       "      <td>CA02</td>\n",
       "      <td>140105686</td>\n",
       "      <td>SYSC llc</td>\n",
       "      <td>NaN</td>\n",
       "      <td>2020</td>\n",
       "      <td>2960623488</td>\n",
       "      <td>30-03-2020</td>\n",
       "      <td>20200410</td>\n",
       "      <td>CAD</td>\n",
       "      <td>3299.70</td>\n",
       "      <td>20200331</td>\n",
       "      <td>CA10</td>\n",
       "    </tr>\n",
       "    <tr>\n",
       "      <th>4</th>\n",
       "      <td>U001</td>\n",
       "      <td>200769623</td>\n",
       "      <td>WAL-MAR foundation</td>\n",
       "      <td>25-11-2019 00:00</td>\n",
       "      <td>2019</td>\n",
       "      <td>1930147974</td>\n",
       "      <td>13-11-2019</td>\n",
       "      <td>20191128</td>\n",
       "      <td>USD</td>\n",
       "      <td>33133.29</td>\n",
       "      <td>20191113</td>\n",
       "      <td>NAH4</td>\n",
       "    </tr>\n",
       "    <tr>\n",
       "      <th>...</th>\n",
       "      <td>...</td>\n",
       "      <td>...</td>\n",
       "      <td>...</td>\n",
       "      <td>...</td>\n",
       "      <td>...</td>\n",
       "      <td>...</td>\n",
       "      <td>...</td>\n",
       "      <td>...</td>\n",
       "      <td>...</td>\n",
       "      <td>...</td>\n",
       "      <td>...</td>\n",
       "      <td>...</td>\n",
       "    </tr>\n",
       "    <tr>\n",
       "      <th>50094</th>\n",
       "      <td>CA02</td>\n",
       "      <td>140106408</td>\n",
       "      <td>WAL-M corp</td>\n",
       "      <td>NaN</td>\n",
       "      <td>2020</td>\n",
       "      <td>2960618884</td>\n",
       "      <td>06-03-2020</td>\n",
       "      <td>20200316</td>\n",
       "      <td>CAD</td>\n",
       "      <td>92832.27</td>\n",
       "      <td>20200306</td>\n",
       "      <td>CA10</td>\n",
       "    </tr>\n",
       "    <tr>\n",
       "      <th>50095</th>\n",
       "      <td>CA02</td>\n",
       "      <td>140106408</td>\n",
       "      <td>WAL-M corp</td>\n",
       "      <td>NaN</td>\n",
       "      <td>2020</td>\n",
       "      <td>2960618885</td>\n",
       "      <td>06-03-2020</td>\n",
       "      <td>20200316</td>\n",
       "      <td>CAD</td>\n",
       "      <td>92832.27</td>\n",
       "      <td>20200306</td>\n",
       "      <td>CA10</td>\n",
       "    </tr>\n",
       "    <tr>\n",
       "      <th>50096</th>\n",
       "      <td>CA02</td>\n",
       "      <td>140106408</td>\n",
       "      <td>WAL-M corp</td>\n",
       "      <td>NaN</td>\n",
       "      <td>2020</td>\n",
       "      <td>2960618886</td>\n",
       "      <td>06-03-2020</td>\n",
       "      <td>20200316</td>\n",
       "      <td>CAD</td>\n",
       "      <td>92832.27</td>\n",
       "      <td>20200306</td>\n",
       "      <td>CA10</td>\n",
       "    </tr>\n",
       "    <tr>\n",
       "      <th>50097</th>\n",
       "      <td>CA02</td>\n",
       "      <td>140106408</td>\n",
       "      <td>WAL-M corp</td>\n",
       "      <td>NaN</td>\n",
       "      <td>2020</td>\n",
       "      <td>2960618887</td>\n",
       "      <td>06-03-2020</td>\n",
       "      <td>20200316</td>\n",
       "      <td>CAD</td>\n",
       "      <td>92832.27</td>\n",
       "      <td>20200306</td>\n",
       "      <td>CA10</td>\n",
       "    </tr>\n",
       "    <tr>\n",
       "      <th>50098</th>\n",
       "      <td>CA02</td>\n",
       "      <td>140106408</td>\n",
       "      <td>WAL-M corp</td>\n",
       "      <td>NaN</td>\n",
       "      <td>2020</td>\n",
       "      <td>2960618888</td>\n",
       "      <td>06-03-2020</td>\n",
       "      <td>20200316</td>\n",
       "      <td>CAD</td>\n",
       "      <td>92832.27</td>\n",
       "      <td>20200306</td>\n",
       "      <td>CA10</td>\n",
       "    </tr>\n",
       "  </tbody>\n",
       "</table>\n",
       "<p>50099 rows × 12 columns</p>\n",
       "</div>"
      ],
      "text/plain": [
       "      business_code cust_number       name_customer        clear_date  \\\n",
       "0              U001   200769623        WAL-MAR corp  11-02-2020 00:00   \n",
       "1              U001   200980828              BEN E   08-08-2019 00:00   \n",
       "2              U001   200792734          MDV/ trust  30-12-2019 00:00   \n",
       "3              CA02   140105686            SYSC llc               NaN   \n",
       "4              U001   200769623  WAL-MAR foundation  25-11-2019 00:00   \n",
       "...             ...         ...                 ...               ...   \n",
       "50094          CA02   140106408          WAL-M corp               NaN   \n",
       "50095          CA02   140106408          WAL-M corp               NaN   \n",
       "50096          CA02   140106408          WAL-M corp               NaN   \n",
       "50097          CA02   140106408          WAL-M corp               NaN   \n",
       "50098          CA02   140106408          WAL-M corp               NaN   \n",
       "\n",
       "       buisness_year      doc_id posting_date  due_in_date invoice_currency  \\\n",
       "0               2020  1930438491   26-01-2020     20200210              USD   \n",
       "1               2019  1929646410   22-07-2019     20190811              USD   \n",
       "2               2019  1929873765   14-09-2019     20190929              USD   \n",
       "3               2020  2960623488   30-03-2020     20200410              CAD   \n",
       "4               2019  1930147974   13-11-2019     20191128              USD   \n",
       "...              ...         ...          ...          ...              ...   \n",
       "50094           2020  2960618884   06-03-2020     20200316              CAD   \n",
       "50095           2020  2960618885   06-03-2020     20200316              CAD   \n",
       "50096           2020  2960618886   06-03-2020     20200316              CAD   \n",
       "50097           2020  2960618887   06-03-2020     20200316              CAD   \n",
       "50098           2020  2960618888   06-03-2020     20200316              CAD   \n",
       "\n",
       "       total_open_amount  baseline_create_date cust_payment_terms  \n",
       "0               54273.28              20200126               NAH4  \n",
       "1               79656.60              20190722               NAD1  \n",
       "2                2253.86              20190914               NAA8  \n",
       "3                3299.70              20200331               CA10  \n",
       "4               33133.29              20191113               NAH4  \n",
       "...                  ...                   ...                ...  \n",
       "50094           92832.27              20200306               CA10  \n",
       "50095           92832.27              20200306               CA10  \n",
       "50096           92832.27              20200306               CA10  \n",
       "50097           92832.27              20200306               CA10  \n",
       "50098           92832.27              20200306               CA10  \n",
       "\n",
       "[50099 rows x 12 columns]"
      ]
     },
     "execution_count": 17,
     "metadata": {},
     "output_type": "execute_result"
    }
   ],
   "source": [
    "data"
   ]
  },
  {
   "cell_type": "markdown",
   "metadata": {
    "id": "6bc052c7"
   },
   "source": [
    "### Show all the Duplicate rows from the dataframe"
   ]
  },
  {
   "cell_type": "code",
   "execution_count": 18,
   "metadata": {
    "colab": {
     "base_uri": "https://localhost:8080/",
     "height": 644
    },
    "executionInfo": {
     "elapsed": 380,
     "status": "ok",
     "timestamp": 1645529094759,
     "user": {
      "displayName": "Anand Sharma",
      "photoUrl": "https://lh3.googleusercontent.com/a-/AOh14GgGUoK9JeU7aspVqtif0DmXDU4_ZbP-HQf5O3V9d6k=s64",
      "userId": "10219635889505679537"
     },
     "user_tz": -330
    },
    "id": "1ae3c7e4",
    "outputId": "0d1c9757-2773-42c6-a0cf-f2fab1cb2fe4"
   },
   "outputs": [
    {
     "data": {
      "text/html": [
       "<div>\n",
       "<style scoped>\n",
       "    .dataframe tbody tr th:only-of-type {\n",
       "        vertical-align: middle;\n",
       "    }\n",
       "\n",
       "    .dataframe tbody tr th {\n",
       "        vertical-align: top;\n",
       "    }\n",
       "\n",
       "    .dataframe thead th {\n",
       "        text-align: right;\n",
       "    }\n",
       "</style>\n",
       "<table border=\"1\" class=\"dataframe\">\n",
       "  <thead>\n",
       "    <tr style=\"text-align: right;\">\n",
       "      <th></th>\n",
       "      <th>business_code</th>\n",
       "      <th>cust_number</th>\n",
       "      <th>name_customer</th>\n",
       "      <th>clear_date</th>\n",
       "      <th>buisness_year</th>\n",
       "      <th>doc_id</th>\n",
       "      <th>posting_date</th>\n",
       "      <th>due_in_date</th>\n",
       "      <th>invoice_currency</th>\n",
       "      <th>total_open_amount</th>\n",
       "      <th>baseline_create_date</th>\n",
       "      <th>cust_payment_terms</th>\n",
       "    </tr>\n",
       "  </thead>\n",
       "  <tbody>\n",
       "    <tr>\n",
       "      <th>1041</th>\n",
       "      <td>U001</td>\n",
       "      <td>200769623</td>\n",
       "      <td>WAL-MAR in</td>\n",
       "      <td>12-03-2019 00:00</td>\n",
       "      <td>2019</td>\n",
       "      <td>1928870382</td>\n",
       "      <td>28-02-2019</td>\n",
       "      <td>20190315</td>\n",
       "      <td>USD</td>\n",
       "      <td>19557.41</td>\n",
       "      <td>20190228</td>\n",
       "      <td>NAH4</td>\n",
       "    </tr>\n",
       "    <tr>\n",
       "      <th>2400</th>\n",
       "      <td>U001</td>\n",
       "      <td>200769623</td>\n",
       "      <td>WAL-MAR trust</td>\n",
       "      <td>28-08-2019 00:00</td>\n",
       "      <td>2019</td>\n",
       "      <td>1929758460</td>\n",
       "      <td>18-08-2019</td>\n",
       "      <td>20190902</td>\n",
       "      <td>USD</td>\n",
       "      <td>5600.41</td>\n",
       "      <td>20190818</td>\n",
       "      <td>NAH4</td>\n",
       "    </tr>\n",
       "    <tr>\n",
       "      <th>2584</th>\n",
       "      <td>U001</td>\n",
       "      <td>200769623</td>\n",
       "      <td>WAL-MAR corporation</td>\n",
       "      <td>16-12-2019 00:00</td>\n",
       "      <td>2019</td>\n",
       "      <td>1930216806</td>\n",
       "      <td>04-12-2019</td>\n",
       "      <td>20191219</td>\n",
       "      <td>USD</td>\n",
       "      <td>35352.17</td>\n",
       "      <td>20191204</td>\n",
       "      <td>NAH4</td>\n",
       "    </tr>\n",
       "    <tr>\n",
       "      <th>3755</th>\n",
       "      <td>U001</td>\n",
       "      <td>200769623</td>\n",
       "      <td>WAL-MAR</td>\n",
       "      <td>22-11-2019 00:00</td>\n",
       "      <td>2019</td>\n",
       "      <td>1930137035</td>\n",
       "      <td>12-11-2019</td>\n",
       "      <td>20191127</td>\n",
       "      <td>USD</td>\n",
       "      <td>2982.64</td>\n",
       "      <td>20191112</td>\n",
       "      <td>NAH4</td>\n",
       "    </tr>\n",
       "    <tr>\n",
       "      <th>3873</th>\n",
       "      <td>CA02</td>\n",
       "      <td>140104409</td>\n",
       "      <td>LOB associates</td>\n",
       "      <td>NaN</td>\n",
       "      <td>2020</td>\n",
       "      <td>2960628616</td>\n",
       "      <td>14-04-2020</td>\n",
       "      <td>20200425</td>\n",
       "      <td>CAD</td>\n",
       "      <td>82975.82</td>\n",
       "      <td>20200415</td>\n",
       "      <td>CA10</td>\n",
       "    </tr>\n",
       "    <tr>\n",
       "      <th>...</th>\n",
       "      <td>...</td>\n",
       "      <td>...</td>\n",
       "      <td>...</td>\n",
       "      <td>...</td>\n",
       "      <td>...</td>\n",
       "      <td>...</td>\n",
       "      <td>...</td>\n",
       "      <td>...</td>\n",
       "      <td>...</td>\n",
       "      <td>...</td>\n",
       "      <td>...</td>\n",
       "      <td>...</td>\n",
       "    </tr>\n",
       "    <tr>\n",
       "      <th>49963</th>\n",
       "      <td>U001</td>\n",
       "      <td>200759878</td>\n",
       "      <td>SA us</td>\n",
       "      <td>29-01-2019 00:00</td>\n",
       "      <td>2019</td>\n",
       "      <td>1928613993</td>\n",
       "      <td>13-01-2019</td>\n",
       "      <td>20190128</td>\n",
       "      <td>USD</td>\n",
       "      <td>10968.24</td>\n",
       "      <td>20190113</td>\n",
       "      <td>NAH4</td>\n",
       "    </tr>\n",
       "    <tr>\n",
       "      <th>49986</th>\n",
       "      <td>U001</td>\n",
       "      <td>200772670</td>\n",
       "      <td>ASSOCIAT foundation</td>\n",
       "      <td>12-06-2019 00:00</td>\n",
       "      <td>2019</td>\n",
       "      <td>1929403090</td>\n",
       "      <td>29-05-2019</td>\n",
       "      <td>20190613</td>\n",
       "      <td>USD</td>\n",
       "      <td>155837.53</td>\n",
       "      <td>20190529</td>\n",
       "      <td>NAU5</td>\n",
       "    </tr>\n",
       "    <tr>\n",
       "      <th>49990</th>\n",
       "      <td>U001</td>\n",
       "      <td>200765011</td>\n",
       "      <td>MAINES llc</td>\n",
       "      <td>06-06-2019 00:00</td>\n",
       "      <td>2019</td>\n",
       "      <td>1929365364</td>\n",
       "      <td>22-05-2019</td>\n",
       "      <td>20190606</td>\n",
       "      <td>USD</td>\n",
       "      <td>4008.05</td>\n",
       "      <td>20190522</td>\n",
       "      <td>NAA8</td>\n",
       "    </tr>\n",
       "    <tr>\n",
       "      <th>49991</th>\n",
       "      <td>U001</td>\n",
       "      <td>200704045</td>\n",
       "      <td>RA trust</td>\n",
       "      <td>25-10-2019 00:00</td>\n",
       "      <td>2019</td>\n",
       "      <td>1930001131</td>\n",
       "      <td>10-10-2019</td>\n",
       "      <td>20191025</td>\n",
       "      <td>USD</td>\n",
       "      <td>73002.24</td>\n",
       "      <td>20191010</td>\n",
       "      <td>NAA8</td>\n",
       "    </tr>\n",
       "    <tr>\n",
       "      <th>50000</th>\n",
       "      <td>CA02</td>\n",
       "      <td>140106408</td>\n",
       "      <td>WAL-M corp</td>\n",
       "      <td>NaN</td>\n",
       "      <td>2020</td>\n",
       "      <td>2960618790</td>\n",
       "      <td>06-03-2020</td>\n",
       "      <td>20200316</td>\n",
       "      <td>CAD</td>\n",
       "      <td>92832.27</td>\n",
       "      <td>20200306</td>\n",
       "      <td>CA10</td>\n",
       "    </tr>\n",
       "  </tbody>\n",
       "</table>\n",
       "<p>1162 rows × 12 columns</p>\n",
       "</div>"
      ],
      "text/plain": [
       "      business_code cust_number        name_customer        clear_date  \\\n",
       "1041           U001   200769623           WAL-MAR in  12-03-2019 00:00   \n",
       "2400           U001   200769623        WAL-MAR trust  28-08-2019 00:00   \n",
       "2584           U001   200769623  WAL-MAR corporation  16-12-2019 00:00   \n",
       "3755           U001   200769623             WAL-MAR   22-11-2019 00:00   \n",
       "3873           CA02   140104409       LOB associates               NaN   \n",
       "...             ...         ...                  ...               ...   \n",
       "49963          U001   200759878                SA us  29-01-2019 00:00   \n",
       "49986          U001   200772670  ASSOCIAT foundation  12-06-2019 00:00   \n",
       "49990          U001   200765011           MAINES llc  06-06-2019 00:00   \n",
       "49991          U001   200704045             RA trust  25-10-2019 00:00   \n",
       "50000          CA02   140106408           WAL-M corp               NaN   \n",
       "\n",
       "       buisness_year      doc_id posting_date  due_in_date invoice_currency  \\\n",
       "1041            2019  1928870382   28-02-2019     20190315              USD   \n",
       "2400            2019  1929758460   18-08-2019     20190902              USD   \n",
       "2584            2019  1930216806   04-12-2019     20191219              USD   \n",
       "3755            2019  1930137035   12-11-2019     20191127              USD   \n",
       "3873            2020  2960628616   14-04-2020     20200425              CAD   \n",
       "...              ...         ...          ...          ...              ...   \n",
       "49963           2019  1928613993   13-01-2019     20190128              USD   \n",
       "49986           2019  1929403090   29-05-2019     20190613              USD   \n",
       "49990           2019  1929365364   22-05-2019     20190606              USD   \n",
       "49991           2019  1930001131   10-10-2019     20191025              USD   \n",
       "50000           2020  2960618790   06-03-2020     20200316              CAD   \n",
       "\n",
       "       total_open_amount  baseline_create_date cust_payment_terms  \n",
       "1041            19557.41              20190228               NAH4  \n",
       "2400             5600.41              20190818               NAH4  \n",
       "2584            35352.17              20191204               NAH4  \n",
       "3755             2982.64              20191112               NAH4  \n",
       "3873            82975.82              20200415               CA10  \n",
       "...                  ...                   ...                ...  \n",
       "49963           10968.24              20190113               NAH4  \n",
       "49986          155837.53              20190529               NAU5  \n",
       "49990            4008.05              20190522               NAA8  \n",
       "49991           73002.24              20191010               NAA8  \n",
       "50000           92832.27              20200306               CA10  \n",
       "\n",
       "[1162 rows x 12 columns]"
      ]
     },
     "execution_count": 18,
     "metadata": {},
     "output_type": "execute_result"
    }
   ],
   "source": [
    "data[data.duplicated()]"
   ]
  },
  {
   "cell_type": "markdown",
   "metadata": {
    "id": "464fab09"
   },
   "source": [
    "### Display the Number of Duplicate Rows"
   ]
  },
  {
   "cell_type": "code",
   "execution_count": 19,
   "metadata": {
    "colab": {
     "base_uri": "https://localhost:8080/"
    },
    "executionInfo": {
     "elapsed": 341,
     "status": "ok",
     "timestamp": 1645687282829,
     "user": {
      "displayName": "Anand Sharma",
      "photoUrl": "https://lh3.googleusercontent.com/a-/AOh14GgGUoK9JeU7aspVqtif0DmXDU4_ZbP-HQf5O3V9d6k=s64",
      "userId": "10219635889505679537"
     },
     "user_tz": -330
    },
    "id": "b1ea2397",
    "outputId": "bfb9a130-8d9d-4492-9540-1a4e206bb462"
   },
   "outputs": [
    {
     "data": {
      "text/plain": [
       "business_code           1162\n",
       "cust_number             1162\n",
       "name_customer           1162\n",
       "clear_date               842\n",
       "buisness_year           1162\n",
       "doc_id                  1162\n",
       "posting_date            1162\n",
       "due_in_date             1162\n",
       "invoice_currency        1162\n",
       "total_open_amount       1162\n",
       "baseline_create_date    1162\n",
       "cust_payment_terms      1162\n",
       "dtype: int64"
      ]
     },
     "execution_count": 19,
     "metadata": {},
     "output_type": "execute_result"
    }
   ],
   "source": [
    "data[data.duplicated()].count()"
   ]
  },
  {
   "cell_type": "markdown",
   "metadata": {
    "id": "827a6718"
   },
   "source": [
    "### Drop all the Duplicate Rows"
   ]
  },
  {
   "cell_type": "code",
   "execution_count": 20,
   "metadata": {
    "executionInfo": {
     "elapsed": 332,
     "status": "ok",
     "timestamp": 1645687291808,
     "user": {
      "displayName": "Anand Sharma",
      "photoUrl": "https://lh3.googleusercontent.com/a-/AOh14GgGUoK9JeU7aspVqtif0DmXDU4_ZbP-HQf5O3V9d6k=s64",
      "userId": "10219635889505679537"
     },
     "user_tz": -330
    },
    "id": "5d10151c"
   },
   "outputs": [],
   "source": [
    "data=data.drop_duplicates()"
   ]
  },
  {
   "cell_type": "markdown",
   "metadata": {
    "id": "7e5d1f9b"
   },
   "source": [
    "#### Now check for all duplicate rows now\n",
    "\n",
    "- Note - It must be 0 by now"
   ]
  },
  {
   "cell_type": "code",
   "execution_count": 21,
   "metadata": {
    "colab": {
     "base_uri": "https://localhost:8080/"
    },
    "executionInfo": {
     "elapsed": 2,
     "status": "ok",
     "timestamp": 1645687295323,
     "user": {
      "displayName": "Anand Sharma",
      "photoUrl": "https://lh3.googleusercontent.com/a-/AOh14GgGUoK9JeU7aspVqtif0DmXDU4_ZbP-HQf5O3V9d6k=s64",
      "userId": "10219635889505679537"
     },
     "user_tz": -330
    },
    "id": "9accc9fc",
    "outputId": "3c2dbea4-1cb4-4de6-fc0e-14d172d596e9"
   },
   "outputs": [
    {
     "data": {
      "text/plain": [
       "business_code           0\n",
       "cust_number             0\n",
       "name_customer           0\n",
       "clear_date              0\n",
       "buisness_year           0\n",
       "doc_id                  0\n",
       "posting_date            0\n",
       "due_in_date             0\n",
       "invoice_currency        0\n",
       "total_open_amount       0\n",
       "baseline_create_date    0\n",
       "cust_payment_terms      0\n",
       "dtype: int64"
      ]
     },
     "execution_count": 21,
     "metadata": {},
     "output_type": "execute_result"
    }
   ],
   "source": [
    "data[data.duplicated()].count()"
   ]
  },
  {
   "cell_type": "markdown",
   "metadata": {
    "id": "d0704898"
   },
   "source": [
    "### Check for the number of Rows and Columns in your dataset"
   ]
  },
  {
   "cell_type": "code",
   "execution_count": 22,
   "metadata": {
    "colab": {
     "base_uri": "https://localhost:8080/"
    },
    "executionInfo": {
     "elapsed": 331,
     "status": "ok",
     "timestamp": 1645687305732,
     "user": {
      "displayName": "Anand Sharma",
      "photoUrl": "https://lh3.googleusercontent.com/a-/AOh14GgGUoK9JeU7aspVqtif0DmXDU4_ZbP-HQf5O3V9d6k=s64",
      "userId": "10219635889505679537"
     },
     "user_tz": -330
    },
    "id": "582748a8",
    "outputId": "324b5db9-2f4c-4c61-979b-9960772f36bc"
   },
   "outputs": [
    {
     "name": "stdout",
     "output_type": "stream",
     "text": [
      "Rows :  48937 \n",
      "Columns :  12\n"
     ]
    }
   ],
   "source": [
    "print('Rows : ',len(data),'\\nColumns : ',len(data.columns))"
   ]
  },
  {
   "cell_type": "markdown",
   "metadata": {
    "id": "4o9c5UodWRtl"
   },
   "source": [
    "### Find out the total count of null values in each columns"
   ]
  },
  {
   "cell_type": "code",
   "execution_count": 23,
   "metadata": {
    "colab": {
     "base_uri": "https://localhost:8080/"
    },
    "executionInfo": {
     "elapsed": 325,
     "status": "ok",
     "timestamp": 1645687316741,
     "user": {
      "displayName": "Anand Sharma",
      "photoUrl": "https://lh3.googleusercontent.com/a-/AOh14GgGUoK9JeU7aspVqtif0DmXDU4_ZbP-HQf5O3V9d6k=s64",
      "userId": "10219635889505679537"
     },
     "user_tz": -330
    },
    "id": "b0612cb5",
    "outputId": "bff32453-f1d5-4de2-ea8a-30b73bdb4800"
   },
   "outputs": [
    {
     "data": {
      "text/plain": [
       "business_code              0\n",
       "cust_number                0\n",
       "name_customer              0\n",
       "clear_date              9779\n",
       "buisness_year              0\n",
       "doc_id                     0\n",
       "posting_date               0\n",
       "due_in_date                0\n",
       "invoice_currency           0\n",
       "total_open_amount          0\n",
       "baseline_create_date       0\n",
       "cust_payment_terms         0\n",
       "dtype: int64"
      ]
     },
     "execution_count": 23,
     "metadata": {},
     "output_type": "execute_result"
    }
   ],
   "source": [
    "data.isna().sum()\n"
   ]
  },
  {
   "cell_type": "markdown",
   "metadata": {
    "id": "7abdb98b"
   },
   "source": [
    "#Data type Conversion "
   ]
  },
  {
   "cell_type": "markdown",
   "metadata": {
    "id": "LPfSUSp-WpPj"
   },
   "source": [
    "### Please check the data type of each column of the dataframe"
   ]
  },
  {
   "cell_type": "code",
   "execution_count": 24,
   "metadata": {
    "colab": {
     "base_uri": "https://localhost:8080/"
    },
    "executionInfo": {
     "elapsed": 395,
     "status": "ok",
     "timestamp": 1645530319721,
     "user": {
      "displayName": "Anand Sharma",
      "photoUrl": "https://lh3.googleusercontent.com/a-/AOh14GgGUoK9JeU7aspVqtif0DmXDU4_ZbP-HQf5O3V9d6k=s64",
      "userId": "10219635889505679537"
     },
     "user_tz": -330
    },
    "id": "689c8592",
    "outputId": "0b8350db-e426-4074-d0c0-80ef9f45dc45"
   },
   "outputs": [
    {
     "data": {
      "text/plain": [
       "business_code            object\n",
       "cust_number              object\n",
       "name_customer            object\n",
       "clear_date               object\n",
       "buisness_year             int64\n",
       "doc_id                    int64\n",
       "posting_date             object\n",
       "due_in_date               int64\n",
       "invoice_currency         object\n",
       "total_open_amount       float64\n",
       "baseline_create_date      int64\n",
       "cust_payment_terms       object\n",
       "dtype: object"
      ]
     },
     "execution_count": 24,
     "metadata": {},
     "output_type": "execute_result"
    }
   ],
   "source": [
    "data.dtypes"
   ]
  },
  {
   "cell_type": "markdown",
   "metadata": {
    "id": "0nsem0_3XzOt"
   },
   "source": [
    "### Check the datatype format of below columns\n",
    "\n",
    "- clear_date  \n",
    "- posting_date\n",
    "- due_in_date \n",
    "- baseline_create_date"
   ]
  },
  {
   "cell_type": "code",
   "execution_count": 25,
   "metadata": {
    "colab": {
     "base_uri": "https://localhost:8080/"
    },
    "executionInfo": {
     "elapsed": 360,
     "status": "ok",
     "timestamp": 1645530479810,
     "user": {
      "displayName": "Anand Sharma",
      "photoUrl": "https://lh3.googleusercontent.com/a-/AOh14GgGUoK9JeU7aspVqtif0DmXDU4_ZbP-HQf5O3V9d6k=s64",
      "userId": "10219635889505679537"
     },
     "user_tz": -330
    },
    "id": "-yyODyW3X6pL",
    "outputId": "6f97a1f0-b5cb-4281-dd4d-5ead75bcd681"
   },
   "outputs": [
    {
     "data": {
      "text/plain": [
       "clear_date              object\n",
       "posting_date            object\n",
       "due_in_date              int64\n",
       "baseline_create_date     int64\n",
       "dtype: object"
      ]
     },
     "execution_count": 25,
     "metadata": {},
     "output_type": "execute_result"
    }
   ],
   "source": [
    "data[['clear_date','posting_date','due_in_date','baseline_create_date']].dtypes"
   ]
  },
  {
   "cell_type": "markdown",
   "metadata": {
    "id": "11cf9478"
   },
   "source": [
    "### converting date columns into date time formats\n",
    "\n",
    "- clear_date  \n",
    "- posting_date\n",
    "- due_in_date \n",
    "- baseline_create_date\n",
    "\n",
    "\n",
    "- **Note - You have to convert all these above columns into \"%Y%m%d\" format**"
   ]
  },
  {
   "cell_type": "code",
   "execution_count": 26,
   "metadata": {
    "colab": {
     "base_uri": "https://localhost:8080/"
    },
    "executionInfo": {
     "elapsed": 352,
     "status": "ok",
     "timestamp": 1645687376684,
     "user": {
      "displayName": "Anand Sharma",
      "photoUrl": "https://lh3.googleusercontent.com/a-/AOh14GgGUoK9JeU7aspVqtif0DmXDU4_ZbP-HQf5O3V9d6k=s64",
      "userId": "10219635889505679537"
     },
     "user_tz": -330
    },
    "id": "9a8c6c71",
    "outputId": "4e785a74-71f4-4285-e64d-82dcc49f5149",
    "scrolled": true
   },
   "outputs": [],
   "source": [
    "data['clear_date']=pd.to_datetime(data['clear_date'])\n",
    "data['posting_date']=pd.to_datetime(data['posting_date'])\n",
    "data['baseline_create_date']=pd.to_datetime(data['baseline_create_date'],format='%Y%m%d')\n",
    "data['due_in_date']=pd.to_datetime(data['due_in_date'],format='%Y%m%d')"
   ]
  },
  {
   "cell_type": "markdown",
   "metadata": {
    "id": "7adq0wSIYSCS"
   },
   "source": [
    "### Please check the datatype of all the columns after conversion of the above 4 columns"
   ]
  },
  {
   "cell_type": "code",
   "execution_count": 27,
   "metadata": {
    "colab": {
     "base_uri": "https://localhost:8080/"
    },
    "executionInfo": {
     "elapsed": 345,
     "status": "ok",
     "timestamp": 1645687399891,
     "user": {
      "displayName": "Anand Sharma",
      "photoUrl": "https://lh3.googleusercontent.com/a-/AOh14GgGUoK9JeU7aspVqtif0DmXDU4_ZbP-HQf5O3V9d6k=s64",
      "userId": "10219635889505679537"
     },
     "user_tz": -330
    },
    "id": "fd028c61",
    "outputId": "8c080b73-159c-4cdf-de54-2e598446b0d1"
   },
   "outputs": [
    {
     "data": {
      "text/plain": [
       "clear_date              datetime64[ns]\n",
       "posting_date            datetime64[ns]\n",
       "due_in_date             datetime64[ns]\n",
       "baseline_create_date    datetime64[ns]\n",
       "dtype: object"
      ]
     },
     "execution_count": 27,
     "metadata": {},
     "output_type": "execute_result"
    }
   ],
   "source": [
    "data[['clear_date','posting_date','due_in_date','baseline_create_date']].dtypes"
   ]
  },
  {
   "cell_type": "markdown",
   "metadata": {
    "id": "8c9882fa"
   },
   "source": [
    "#### the invoice_currency column contains two different categories, USD and CAD\n",
    "\n",
    "- Please do a count of each currency "
   ]
  },
  {
   "cell_type": "code",
   "execution_count": 28,
   "metadata": {
    "colab": {
     "base_uri": "https://localhost:8080/"
    },
    "executionInfo": {
     "elapsed": 606,
     "status": "ok",
     "timestamp": 1645532031580,
     "user": {
      "displayName": "Anand Sharma",
      "photoUrl": "https://lh3.googleusercontent.com/a-/AOh14GgGUoK9JeU7aspVqtif0DmXDU4_ZbP-HQf5O3V9d6k=s64",
      "userId": "10219635889505679537"
     },
     "user_tz": -330
    },
    "id": "72085397",
    "outputId": "333a2427-302f-4e56-ae03-1dfe17ec2873"
   },
   "outputs": [
    {
     "data": {
      "text/plain": [
       "USD    45011\n",
       "CAD     3926\n",
       "Name: invoice_currency, dtype: int64"
      ]
     },
     "execution_count": 28,
     "metadata": {},
     "output_type": "execute_result"
    }
   ],
   "source": [
    "data['invoice_currency'].value_counts()"
   ]
  },
  {
   "cell_type": "markdown",
   "metadata": {
    "id": "6cbe26ee"
   },
   "source": [
    "#### display the \"total_open_amount\" column value"
   ]
  },
  {
   "cell_type": "code",
   "execution_count": 29,
   "metadata": {
    "colab": {
     "base_uri": "https://localhost:8080/"
    },
    "executionInfo": {
     "elapsed": 606,
     "status": "ok",
     "timestamp": 1645532059556,
     "user": {
      "displayName": "Anand Sharma",
      "photoUrl": "https://lh3.googleusercontent.com/a-/AOh14GgGUoK9JeU7aspVqtif0DmXDU4_ZbP-HQf5O3V9d6k=s64",
      "userId": "10219635889505679537"
     },
     "user_tz": -330
    },
    "id": "tZeSLLOlWk1D",
    "outputId": "9af39de4-80be-464c-e2c2-0146c279db9e"
   },
   "outputs": [
    {
     "data": {
      "text/plain": [
       "0        54273.28\n",
       "1        79656.60\n",
       "2         2253.86\n",
       "3         3299.70\n",
       "4        33133.29\n",
       "           ...   \n",
       "50094    92832.27\n",
       "50095    92832.27\n",
       "50096    92832.27\n",
       "50097    92832.27\n",
       "50098    92832.27\n",
       "Name: total_open_amount, Length: 48937, dtype: float64"
      ]
     },
     "execution_count": 29,
     "metadata": {},
     "output_type": "execute_result"
    }
   ],
   "source": [
    "data['total_open_amount']"
   ]
  },
  {
   "cell_type": "markdown",
   "metadata": {
    "id": "df899966"
   },
   "source": [
    "### Convert all CAD into USD currency of \"total_open_amount\" column\n",
    "\n",
    "- 1 CAD = 0.7 USD\n",
    "- Create a new column i.e \"converted_usd\" and store USD and convered CAD to USD"
   ]
  },
  {
   "cell_type": "code",
   "execution_count": 30,
   "metadata": {
    "colab": {
     "base_uri": "https://localhost:8080/"
    },
    "executionInfo": {
     "elapsed": 323,
     "status": "ok",
     "timestamp": 1645687417189,
     "user": {
      "displayName": "Anand Sharma",
      "photoUrl": "https://lh3.googleusercontent.com/a-/AOh14GgGUoK9JeU7aspVqtif0DmXDU4_ZbP-HQf5O3V9d6k=s64",
      "userId": "10219635889505679537"
     },
     "user_tz": -330
    },
    "id": "U_8Y4clOZU6u",
    "outputId": "c2a2f1b3-6770-4c0f-c366-df4ee14c8d35"
   },
   "outputs": [],
   "source": [
    "data['converted_usd']=np.where(data['invoice_currency']=='CAD',(data['total_open_amount']*0.7),data['total_open_amount'])"
   ]
  },
  {
   "cell_type": "markdown",
   "metadata": {
    "id": "f9f6ef1d"
   },
   "source": [
    "### Display the new \"converted_usd\" column values"
   ]
  },
  {
   "cell_type": "code",
   "execution_count": 31,
   "metadata": {
    "colab": {
     "base_uri": "https://localhost:8080/"
    },
    "executionInfo": {
     "elapsed": 15,
     "status": "ok",
     "timestamp": 1645596338384,
     "user": {
      "displayName": "Anand Sharma",
      "photoUrl": "https://lh3.googleusercontent.com/a-/AOh14GgGUoK9JeU7aspVqtif0DmXDU4_ZbP-HQf5O3V9d6k=s64",
      "userId": "10219635889505679537"
     },
     "user_tz": -330
    },
    "id": "1fc1a178",
    "outputId": "246ed23c-591c-4337-ebae-916339a05405"
   },
   "outputs": [
    {
     "data": {
      "text/plain": [
       "0        54273.280\n",
       "1        79656.600\n",
       "2         2253.860\n",
       "3         2309.790\n",
       "4        33133.290\n",
       "           ...    \n",
       "50094    64982.589\n",
       "50095    64982.589\n",
       "50096    64982.589\n",
       "50097    64982.589\n",
       "50098    64982.589\n",
       "Name: converted_usd, Length: 48937, dtype: float64"
      ]
     },
     "execution_count": 31,
     "metadata": {},
     "output_type": "execute_result"
    }
   ],
   "source": [
    "data['converted_usd']"
   ]
  },
  {
   "cell_type": "markdown",
   "metadata": {
    "id": "6XLXX17kayuy"
   },
   "source": [
    "### Display year wise total number of record \n",
    "\n",
    "- Note -  use \"buisness_year\" column for this "
   ]
  },
  {
   "cell_type": "code",
   "execution_count": 32,
   "metadata": {
    "colab": {
     "base_uri": "https://localhost:8080/"
    },
    "executionInfo": {
     "elapsed": 381,
     "status": "ok",
     "timestamp": 1645536062672,
     "user": {
      "displayName": "Anand Sharma",
      "photoUrl": "https://lh3.googleusercontent.com/a-/AOh14GgGUoK9JeU7aspVqtif0DmXDU4_ZbP-HQf5O3V9d6k=s64",
      "userId": "10219635889505679537"
     },
     "user_tz": -330
    },
    "id": "00c9f6ee",
    "outputId": "d21ce7ab-85fc-44c7-af64-60729d528f4c"
   },
   "outputs": [
    {
     "data": {
      "text/plain": [
       "buisness_year\n",
       "2019    33975\n",
       "2020    14962\n",
       "dtype: int64"
      ]
     },
     "execution_count": 32,
     "metadata": {},
     "output_type": "execute_result"
    }
   ],
   "source": [
    "data.groupby('buisness_year').size()"
   ]
  },
  {
   "cell_type": "markdown",
   "metadata": {
    "id": "05c35904"
   },
   "source": [
    "### Write the code to delete the following columns \n",
    "\n",
    "- 'invoice_currency'\n",
    "- 'total_open_amount', "
   ]
  },
  {
   "cell_type": "code",
   "execution_count": 33,
   "metadata": {
    "executionInfo": {
     "elapsed": 336,
     "status": "ok",
     "timestamp": 1645687443964,
     "user": {
      "displayName": "Anand Sharma",
      "photoUrl": "https://lh3.googleusercontent.com/a-/AOh14GgGUoK9JeU7aspVqtif0DmXDU4_ZbP-HQf5O3V9d6k=s64",
      "userId": "10219635889505679537"
     },
     "user_tz": -330
    },
    "id": "4ac28aa5"
   },
   "outputs": [],
   "source": [
    "lst=['invoice_currency','total_open_amount']\n",
    "\n",
    "data=data.drop(lst,axis=1)"
   ]
  },
  {
   "cell_type": "markdown",
   "metadata": {
    "id": "bDBJ_Kvwc086"
   },
   "source": [
    "### Write a code to check the number of columns in dataframe"
   ]
  },
  {
   "cell_type": "code",
   "execution_count": 34,
   "metadata": {
    "colab": {
     "base_uri": "https://localhost:8080/"
    },
    "executionInfo": {
     "elapsed": 352,
     "status": "ok",
     "timestamp": 1645687448404,
     "user": {
      "displayName": "Anand Sharma",
      "photoUrl": "https://lh3.googleusercontent.com/a-/AOh14GgGUoK9JeU7aspVqtif0DmXDU4_ZbP-HQf5O3V9d6k=s64",
      "userId": "10219635889505679537"
     },
     "user_tz": -330
    },
    "id": "ea360a8c",
    "outputId": "4aa8dda8-749c-4d72-8755-767f14bc12f6"
   },
   "outputs": [
    {
     "data": {
      "text/plain": [
       "11"
      ]
     },
     "execution_count": 34,
     "metadata": {},
     "output_type": "execute_result"
    }
   ],
   "source": [
    "def checkcols(df):\n",
    "  return len(df.columns)\n",
    "\n",
    "checkcols(data)"
   ]
  },
  {
   "cell_type": "markdown",
   "metadata": {
    "id": "b8f63655"
   },
   "source": [
    "# Splitting the Dataset "
   ]
  },
  {
   "cell_type": "markdown",
   "metadata": {
    "id": "a00f749d"
   },
   "source": [
    "### Look for all columns containing null value\n",
    "\n",
    "- Note - Output expected is only one column "
   ]
  },
  {
   "cell_type": "code",
   "execution_count": 35,
   "metadata": {
    "colab": {
     "base_uri": "https://localhost:8080/"
    },
    "executionInfo": {
     "elapsed": 329,
     "status": "ok",
     "timestamp": 1645687633174,
     "user": {
      "displayName": "Anand Sharma",
      "photoUrl": "https://lh3.googleusercontent.com/a-/AOh14GgGUoK9JeU7aspVqtif0DmXDU4_ZbP-HQf5O3V9d6k=s64",
      "userId": "10219635889505679537"
     },
     "user_tz": -330
    },
    "id": "148c801e",
    "outputId": "4d0c5b04-f50d-4854-f1e1-2fce9254d043"
   },
   "outputs": [
    {
     "name": "stdout",
     "output_type": "stream",
     "text": [
      "['clear_date']\n"
     ]
    }
   ],
   "source": [
    "x=data.columns[data.isna().any()].tolist()\n",
    "print(x)"
   ]
  },
  {
   "cell_type": "markdown",
   "metadata": {
    "id": "a094a290"
   },
   "source": [
    "#### Find out the number of null values from the column that you got from the above code"
   ]
  },
  {
   "cell_type": "code",
   "execution_count": 36,
   "metadata": {
    "colab": {
     "base_uri": "https://localhost:8080/"
    },
    "executionInfo": {
     "elapsed": 358,
     "status": "ok",
     "timestamp": 1645687638889,
     "user": {
      "displayName": "Anand Sharma",
      "photoUrl": "https://lh3.googleusercontent.com/a-/AOh14GgGUoK9JeU7aspVqtif0DmXDU4_ZbP-HQf5O3V9d6k=s64",
      "userId": "10219635889505679537"
     },
     "user_tz": -330
    },
    "id": "30bfb113",
    "outputId": "f193ab5b-4016-4920-e148-b37cb8f2a6b1"
   },
   "outputs": [
    {
     "name": "stdout",
     "output_type": "stream",
     "text": [
      "Total records :  48937\n",
      "\n",
      "Not null records :  39158\n",
      "\n",
      "Null records :  9779\n"
     ]
    }
   ],
   "source": [
    "print('Total records : ',len(data['clear_date']))\n",
    "print()\n",
    "print('Not null records : ',data['clear_date'].count())\n",
    "print()\n",
    "print('Null records : ',data['clear_date'].isna().sum())"
   ]
  },
  {
   "cell_type": "markdown",
   "metadata": {
    "id": "7f6d939b"
   },
   "source": [
    "### On basis of the above column we are spliting data into dataset\n",
    "\n",
    "- First dataframe (refer that as maindata) only containing the rows, that have NO NULL data in that column ( This is going to be our train dataset ) \n",
    "- Second dataframe (refer that as nulldata) that contains the columns, that have Null data in that column ( This is going to be our test dataset ) "
   ]
  },
  {
   "cell_type": "code",
   "execution_count": 37,
   "metadata": {
    "executionInfo": {
     "elapsed": 360,
     "status": "ok",
     "timestamp": 1645687725792,
     "user": {
      "displayName": "Anand Sharma",
      "photoUrl": "https://lh3.googleusercontent.com/a-/AOh14GgGUoK9JeU7aspVqtif0DmXDU4_ZbP-HQf5O3V9d6k=s64",
      "userId": "10219635889505679537"
     },
     "user_tz": -330
    },
    "id": "NpLoQeAesJaB"
   },
   "outputs": [],
   "source": [
    "maindata=data.loc[data['clear_date'].notna()==True,data.columns]\n",
    "nulldata=data.loc[data['clear_date'].isna()==True,data.columns]"
   ]
  },
  {
   "cell_type": "code",
   "execution_count": 38,
   "metadata": {
    "colab": {
     "base_uri": "https://localhost:8080/"
    },
    "executionInfo": {
     "elapsed": 357,
     "status": "ok",
     "timestamp": 1645687728030,
     "user": {
      "displayName": "Anand Sharma",
      "photoUrl": "https://lh3.googleusercontent.com/a-/AOh14GgGUoK9JeU7aspVqtif0DmXDU4_ZbP-HQf5O3V9d6k=s64",
      "userId": "10219635889505679537"
     },
     "user_tz": -330
    },
    "id": "hU_34q4jr_L3",
    "outputId": "ad652b30-83b4-4b22-f787-20011c0c7321"
   },
   "outputs": [
    {
     "name": "stdout",
     "output_type": "stream",
     "text": [
      "0\n",
      "0\n"
     ]
    }
   ],
   "source": [
    "print(maindata['clear_date'].isna().sum())\n",
    "print(nulldata['clear_date'].notna().sum())"
   ]
  },
  {
   "cell_type": "markdown",
   "metadata": {
    "id": "3P8riRBHd_r6"
   },
   "source": [
    "### Check the number of Rows and Columns for both the dataframes "
   ]
  },
  {
   "cell_type": "code",
   "execution_count": 39,
   "metadata": {
    "executionInfo": {
     "elapsed": 2,
     "status": "ok",
     "timestamp": 1645687941180,
     "user": {
      "displayName": "Anand Sharma",
      "photoUrl": "https://lh3.googleusercontent.com/a-/AOh14GgGUoK9JeU7aspVqtif0DmXDU4_ZbP-HQf5O3V9d6k=s64",
      "userId": "10219635889505679537"
     },
     "user_tz": -330
    },
    "id": "0693a464"
   },
   "outputs": [],
   "source": [
    "def ctr_rows_cols(df):\n",
    "  print('Rows : ',len(df),'\\nColumns : ',len(df.columns))"
   ]
  },
  {
   "cell_type": "code",
   "execution_count": 40,
   "metadata": {
    "colab": {
     "base_uri": "https://localhost:8080/"
    },
    "executionInfo": {
     "elapsed": 323,
     "status": "ok",
     "timestamp": 1645687949908,
     "user": {
      "displayName": "Anand Sharma",
      "photoUrl": "https://lh3.googleusercontent.com/a-/AOh14GgGUoK9JeU7aspVqtif0DmXDU4_ZbP-HQf5O3V9d6k=s64",
      "userId": "10219635889505679537"
     },
     "user_tz": -330
    },
    "id": "7f86bc74",
    "outputId": "ef259858-b4ea-438c-e888-8f75e355a16f"
   },
   "outputs": [
    {
     "name": "stdout",
     "output_type": "stream",
     "text": [
      "MAIN DATA\n",
      "Rows :  39158 \n",
      "Columns :  11\n",
      "\n",
      "NULL DATA\n",
      "Rows :  9779 \n",
      "Columns :  11\n"
     ]
    }
   ],
   "source": [
    "print(\"MAIN DATA\")\n",
    "ctr_rows_cols(maindata)\n",
    "print()\n",
    "print(\"NULL DATA\")\n",
    "ctr_rows_cols(nulldata)"
   ]
  },
  {
   "cell_type": "markdown",
   "metadata": {
    "id": "0747165d"
   },
   "source": [
    "### Display the 5 records from maindata and nulldata dataframes"
   ]
  },
  {
   "cell_type": "code",
   "execution_count": 41,
   "metadata": {
    "colab": {
     "base_uri": "https://localhost:8080/",
     "height": 305
    },
    "executionInfo": {
     "elapsed": 589,
     "status": "ok",
     "timestamp": 1645538767411,
     "user": {
      "displayName": "Anand Sharma",
      "photoUrl": "https://lh3.googleusercontent.com/a-/AOh14GgGUoK9JeU7aspVqtif0DmXDU4_ZbP-HQf5O3V9d6k=s64",
      "userId": "10219635889505679537"
     },
     "user_tz": -330
    },
    "id": "dec2ec36",
    "outputId": "e3d1d943-b8f8-407f-cfd3-8b766c39b04e"
   },
   "outputs": [
    {
     "data": {
      "text/html": [
       "<div>\n",
       "<style scoped>\n",
       "    .dataframe tbody tr th:only-of-type {\n",
       "        vertical-align: middle;\n",
       "    }\n",
       "\n",
       "    .dataframe tbody tr th {\n",
       "        vertical-align: top;\n",
       "    }\n",
       "\n",
       "    .dataframe thead th {\n",
       "        text-align: right;\n",
       "    }\n",
       "</style>\n",
       "<table border=\"1\" class=\"dataframe\">\n",
       "  <thead>\n",
       "    <tr style=\"text-align: right;\">\n",
       "      <th></th>\n",
       "      <th>business_code</th>\n",
       "      <th>cust_number</th>\n",
       "      <th>name_customer</th>\n",
       "      <th>clear_date</th>\n",
       "      <th>buisness_year</th>\n",
       "      <th>doc_id</th>\n",
       "      <th>posting_date</th>\n",
       "      <th>due_in_date</th>\n",
       "      <th>baseline_create_date</th>\n",
       "      <th>cust_payment_terms</th>\n",
       "      <th>converted_usd</th>\n",
       "    </tr>\n",
       "  </thead>\n",
       "  <tbody>\n",
       "    <tr>\n",
       "      <th>0</th>\n",
       "      <td>U001</td>\n",
       "      <td>200769623</td>\n",
       "      <td>WAL-MAR corp</td>\n",
       "      <td>2020-11-02</td>\n",
       "      <td>2020</td>\n",
       "      <td>1930438491</td>\n",
       "      <td>2020-01-26</td>\n",
       "      <td>2020-02-10</td>\n",
       "      <td>2020-01-26</td>\n",
       "      <td>NAH4</td>\n",
       "      <td>54273.280</td>\n",
       "    </tr>\n",
       "    <tr>\n",
       "      <th>1</th>\n",
       "      <td>U001</td>\n",
       "      <td>200980828</td>\n",
       "      <td>BEN E</td>\n",
       "      <td>2019-08-08</td>\n",
       "      <td>2019</td>\n",
       "      <td>1929646410</td>\n",
       "      <td>2019-07-22</td>\n",
       "      <td>2019-08-11</td>\n",
       "      <td>2019-07-22</td>\n",
       "      <td>NAD1</td>\n",
       "      <td>79656.600</td>\n",
       "    </tr>\n",
       "    <tr>\n",
       "      <th>2</th>\n",
       "      <td>U001</td>\n",
       "      <td>200792734</td>\n",
       "      <td>MDV/ trust</td>\n",
       "      <td>2019-12-30</td>\n",
       "      <td>2019</td>\n",
       "      <td>1929873765</td>\n",
       "      <td>2019-09-14</td>\n",
       "      <td>2019-09-29</td>\n",
       "      <td>2019-09-14</td>\n",
       "      <td>NAA8</td>\n",
       "      <td>2253.860</td>\n",
       "    </tr>\n",
       "    <tr>\n",
       "      <th>4</th>\n",
       "      <td>U001</td>\n",
       "      <td>200769623</td>\n",
       "      <td>WAL-MAR foundation</td>\n",
       "      <td>2019-11-25</td>\n",
       "      <td>2019</td>\n",
       "      <td>1930147974</td>\n",
       "      <td>2019-11-13</td>\n",
       "      <td>2019-11-28</td>\n",
       "      <td>2019-11-13</td>\n",
       "      <td>NAH4</td>\n",
       "      <td>33133.290</td>\n",
       "    </tr>\n",
       "    <tr>\n",
       "      <th>5</th>\n",
       "      <td>CA02</td>\n",
       "      <td>140106181</td>\n",
       "      <td>THE  corporation</td>\n",
       "      <td>2019-04-12</td>\n",
       "      <td>2019</td>\n",
       "      <td>2960581231</td>\n",
       "      <td>2019-09-20</td>\n",
       "      <td>2019-10-04</td>\n",
       "      <td>2019-09-24</td>\n",
       "      <td>CA10</td>\n",
       "      <td>15558.088</td>\n",
       "    </tr>\n",
       "  </tbody>\n",
       "</table>\n",
       "</div>"
      ],
      "text/plain": [
       "  business_code cust_number       name_customer clear_date  buisness_year  \\\n",
       "0          U001   200769623        WAL-MAR corp 2020-11-02           2020   \n",
       "1          U001   200980828              BEN E  2019-08-08           2019   \n",
       "2          U001   200792734          MDV/ trust 2019-12-30           2019   \n",
       "4          U001   200769623  WAL-MAR foundation 2019-11-25           2019   \n",
       "5          CA02   140106181    THE  corporation 2019-04-12           2019   \n",
       "\n",
       "       doc_id posting_date due_in_date baseline_create_date  \\\n",
       "0  1930438491   2020-01-26  2020-02-10           2020-01-26   \n",
       "1  1929646410   2019-07-22  2019-08-11           2019-07-22   \n",
       "2  1929873765   2019-09-14  2019-09-29           2019-09-14   \n",
       "4  1930147974   2019-11-13  2019-11-28           2019-11-13   \n",
       "5  2960581231   2019-09-20  2019-10-04           2019-09-24   \n",
       "\n",
       "  cust_payment_terms  converted_usd  \n",
       "0               NAH4      54273.280  \n",
       "1               NAD1      79656.600  \n",
       "2               NAA8       2253.860  \n",
       "4               NAH4      33133.290  \n",
       "5               CA10      15558.088  "
      ]
     },
     "execution_count": 41,
     "metadata": {},
     "output_type": "execute_result"
    }
   ],
   "source": [
    "maindata.head()"
   ]
  },
  {
   "cell_type": "code",
   "execution_count": 42,
   "metadata": {
    "colab": {
     "base_uri": "https://localhost:8080/",
     "height": 287
    },
    "executionInfo": {
     "elapsed": 402,
     "status": "ok",
     "timestamp": 1645538774890,
     "user": {
      "displayName": "Anand Sharma",
      "photoUrl": "https://lh3.googleusercontent.com/a-/AOh14GgGUoK9JeU7aspVqtif0DmXDU4_ZbP-HQf5O3V9d6k=s64",
      "userId": "10219635889505679537"
     },
     "user_tz": -330
    },
    "id": "eee2d68a",
    "outputId": "2ad1a32d-ff0e-400a-c419-f92d5ad10464"
   },
   "outputs": [
    {
     "data": {
      "text/html": [
       "<div>\n",
       "<style scoped>\n",
       "    .dataframe tbody tr th:only-of-type {\n",
       "        vertical-align: middle;\n",
       "    }\n",
       "\n",
       "    .dataframe tbody tr th {\n",
       "        vertical-align: top;\n",
       "    }\n",
       "\n",
       "    .dataframe thead th {\n",
       "        text-align: right;\n",
       "    }\n",
       "</style>\n",
       "<table border=\"1\" class=\"dataframe\">\n",
       "  <thead>\n",
       "    <tr style=\"text-align: right;\">\n",
       "      <th></th>\n",
       "      <th>business_code</th>\n",
       "      <th>cust_number</th>\n",
       "      <th>name_customer</th>\n",
       "      <th>clear_date</th>\n",
       "      <th>buisness_year</th>\n",
       "      <th>doc_id</th>\n",
       "      <th>posting_date</th>\n",
       "      <th>due_in_date</th>\n",
       "      <th>baseline_create_date</th>\n",
       "      <th>cust_payment_terms</th>\n",
       "      <th>converted_usd</th>\n",
       "    </tr>\n",
       "  </thead>\n",
       "  <tbody>\n",
       "    <tr>\n",
       "      <th>3</th>\n",
       "      <td>CA02</td>\n",
       "      <td>140105686</td>\n",
       "      <td>SYSC llc</td>\n",
       "      <td>NaT</td>\n",
       "      <td>2020</td>\n",
       "      <td>2960623488</td>\n",
       "      <td>2020-03-30</td>\n",
       "      <td>2020-04-10</td>\n",
       "      <td>2020-03-31</td>\n",
       "      <td>CA10</td>\n",
       "      <td>2309.79</td>\n",
       "    </tr>\n",
       "    <tr>\n",
       "      <th>7</th>\n",
       "      <td>U001</td>\n",
       "      <td>200744019</td>\n",
       "      <td>TARG us</td>\n",
       "      <td>NaT</td>\n",
       "      <td>2020</td>\n",
       "      <td>1930659387</td>\n",
       "      <td>2020-03-19</td>\n",
       "      <td>2020-04-03</td>\n",
       "      <td>2020-03-19</td>\n",
       "      <td>NAA8</td>\n",
       "      <td>11173.02</td>\n",
       "    </tr>\n",
       "    <tr>\n",
       "      <th>10</th>\n",
       "      <td>U001</td>\n",
       "      <td>200418007</td>\n",
       "      <td>AM</td>\n",
       "      <td>NaT</td>\n",
       "      <td>2020</td>\n",
       "      <td>1930610806</td>\n",
       "      <td>2020-11-03</td>\n",
       "      <td>2020-03-26</td>\n",
       "      <td>2020-03-11</td>\n",
       "      <td>NAA8</td>\n",
       "      <td>3525.59</td>\n",
       "    </tr>\n",
       "    <tr>\n",
       "      <th>14</th>\n",
       "      <td>U001</td>\n",
       "      <td>200739534</td>\n",
       "      <td>OK systems</td>\n",
       "      <td>NaT</td>\n",
       "      <td>2020</td>\n",
       "      <td>1930788296</td>\n",
       "      <td>2020-04-15</td>\n",
       "      <td>2020-04-30</td>\n",
       "      <td>2020-04-15</td>\n",
       "      <td>NAA8</td>\n",
       "      <td>121105.65</td>\n",
       "    </tr>\n",
       "    <tr>\n",
       "      <th>15</th>\n",
       "      <td>U001</td>\n",
       "      <td>200353024</td>\n",
       "      <td>DECA corporation</td>\n",
       "      <td>NaT</td>\n",
       "      <td>2020</td>\n",
       "      <td>1930817482</td>\n",
       "      <td>2020-04-23</td>\n",
       "      <td>2020-04-26</td>\n",
       "      <td>2020-04-16</td>\n",
       "      <td>NAM2</td>\n",
       "      <td>3726.06</td>\n",
       "    </tr>\n",
       "  </tbody>\n",
       "</table>\n",
       "</div>"
      ],
      "text/plain": [
       "   business_code cust_number     name_customer clear_date  buisness_year  \\\n",
       "3           CA02   140105686          SYSC llc        NaT           2020   \n",
       "7           U001   200744019           TARG us        NaT           2020   \n",
       "10          U001   200418007               AM         NaT           2020   \n",
       "14          U001   200739534        OK systems        NaT           2020   \n",
       "15          U001   200353024  DECA corporation        NaT           2020   \n",
       "\n",
       "        doc_id posting_date due_in_date baseline_create_date  \\\n",
       "3   2960623488   2020-03-30  2020-04-10           2020-03-31   \n",
       "7   1930659387   2020-03-19  2020-04-03           2020-03-19   \n",
       "10  1930610806   2020-11-03  2020-03-26           2020-03-11   \n",
       "14  1930788296   2020-04-15  2020-04-30           2020-04-15   \n",
       "15  1930817482   2020-04-23  2020-04-26           2020-04-16   \n",
       "\n",
       "   cust_payment_terms  converted_usd  \n",
       "3                CA10        2309.79  \n",
       "7                NAA8       11173.02  \n",
       "10               NAA8        3525.59  \n",
       "14               NAA8      121105.65  \n",
       "15               NAM2        3726.06  "
      ]
     },
     "execution_count": 42,
     "metadata": {},
     "output_type": "execute_result"
    }
   ],
   "source": [
    "nulldata.head()"
   ]
  },
  {
   "cell_type": "markdown",
   "metadata": {
    "id": "24aa6746"
   },
   "source": [
    "## Considering the **maindata**"
   ]
  },
  {
   "cell_type": "markdown",
   "metadata": {
    "id": "f92c4aa7"
   },
   "source": [
    "#### Generate a new column \"Delay\" from the existing columns\n",
    "\n",
    "- Note - You are expected to create a new column 'Delay' from two existing columns, \"clear_date\" and \"due_in_date\" \n",
    "- Formula - Delay = clear_date - due_in_date"
   ]
  },
  {
   "cell_type": "code",
   "execution_count": 43,
   "metadata": {
    "executionInfo": {
     "elapsed": 3,
     "status": "ok",
     "timestamp": 1645688041359,
     "user": {
      "displayName": "Anand Sharma",
      "photoUrl": "https://lh3.googleusercontent.com/a-/AOh14GgGUoK9JeU7aspVqtif0DmXDU4_ZbP-HQf5O3V9d6k=s64",
      "userId": "10219635889505679537"
     },
     "user_tz": -330
    },
    "id": "8eeceb9c"
   },
   "outputs": [],
   "source": [
    "maindata['Delay']=maindata['clear_date']-maindata['due_in_date']"
   ]
  },
  {
   "cell_type": "markdown",
   "metadata": {
    "id": "f482144e"
   },
   "source": [
    "### Generate a new column \"avgdelay\" from the existing columns\n",
    "\n",
    "- Note - You are expected to make a new column \"avgdelay\" by grouping \"name_customer\" column with reapect to mean of the \"Delay\" column.\n",
    "- This new column \"avg_delay\" is meant to store \"customer_name\" wise delay\n",
    "- groupby('name_customer')['Delay'].mean(numeric_only=False)\n",
    "- Display the new \"avg_delay\" column"
   ]
  },
  {
   "cell_type": "markdown",
   "metadata": {
    "id": "64b995e8"
   },
   "source": [
    "You need to add the \"avg_delay\" column with the maindata, mapped with \"name_customer\" column\n",
    "\n",
    " - Note - You need to use map function to map the avgdelay with respect to \"name_customer\" column"
   ]
  },
  {
   "cell_type": "code",
   "execution_count": 44,
   "metadata": {
    "executionInfo": {
     "elapsed": 353,
     "status": "ok",
     "timestamp": 1645688056639,
     "user": {
      "displayName": "Anand Sharma",
      "photoUrl": "https://lh3.googleusercontent.com/a-/AOh14GgGUoK9JeU7aspVqtif0DmXDU4_ZbP-HQf5O3V9d6k=s64",
      "userId": "10219635889505679537"
     },
     "user_tz": -330
    },
    "id": "ak7Z9P6pAKN5"
   },
   "outputs": [],
   "source": [
    "#creating a groupby object with avg_delay grouped by name_customer and stored in grouped_td_mean_delay\n",
    "grouped_td_mean_delay=maindata.groupby('name_customer')['Delay'].mean(numeric_only=False).reset_index()"
   ]
  },
  {
   "cell_type": "code",
   "execution_count": 45,
   "metadata": {
    "executionInfo": {
     "elapsed": 7,
     "status": "ok",
     "timestamp": 1645688059936,
     "user": {
      "displayName": "Anand Sharma",
      "photoUrl": "https://lh3.googleusercontent.com/a-/AOh14GgGUoK9JeU7aspVqtif0DmXDU4_ZbP-HQf5O3V9d6k=s64",
      "userId": "10219635889505679537"
     },
     "user_tz": -330
    },
    "id": "V9VLaB6xNl7M"
   },
   "outputs": [],
   "source": [
    "#function to find avg_delay for any given name_customer\n",
    "def find_avg_delay(cust_name):\n",
    "  return grouped_td_mean_delay.loc[grouped_td_mean_delay['name_customer'] == cust_name, 'Delay'].iloc[0]  "
   ]
  },
  {
   "cell_type": "code",
   "execution_count": 46,
   "metadata": {
    "executionInfo": {
     "elapsed": 344,
     "status": "ok",
     "timestamp": 1645688067291,
     "user": {
      "displayName": "Anand Sharma",
      "photoUrl": "https://lh3.googleusercontent.com/a-/AOh14GgGUoK9JeU7aspVqtif0DmXDU4_ZbP-HQf5O3V9d6k=s64",
      "userId": "10219635889505679537"
     },
     "user_tz": -330
    },
    "id": "FfnOHjKLc-AB"
   },
   "outputs": [],
   "source": [
    "#mapping the avg_delay for every name_customer\n",
    "ans=map(find_avg_delay,maindata['name_customer'])"
   ]
  },
  {
   "cell_type": "code",
   "execution_count": 47,
   "metadata": {
    "executionInfo": {
     "elapsed": 27304,
     "status": "ok",
     "timestamp": 1645688097717,
     "user": {
      "displayName": "Anand Sharma",
      "photoUrl": "https://lh3.googleusercontent.com/a-/AOh14GgGUoK9JeU7aspVqtif0DmXDU4_ZbP-HQf5O3V9d6k=s64",
      "userId": "10219635889505679537"
     },
     "user_tz": -330
    },
    "id": "0zNTC9cgikX0"
   },
   "outputs": [],
   "source": [
    "#converting the map object to list for easy operations\n",
    "lst=list(ans)"
   ]
  },
  {
   "cell_type": "code",
   "execution_count": 48,
   "metadata": {
    "executionInfo": {
     "elapsed": 342,
     "status": "ok",
     "timestamp": 1645688102348,
     "user": {
      "displayName": "Anand Sharma",
      "photoUrl": "https://lh3.googleusercontent.com/a-/AOh14GgGUoK9JeU7aspVqtif0DmXDU4_ZbP-HQf5O3V9d6k=s64",
      "userId": "10219635889505679537"
     },
     "user_tz": -330
    },
    "id": "T-OJyX9vk9jY"
   },
   "outputs": [],
   "source": [
    "#creating a new column avg_delay and storing the values\n",
    "maindata['avg_delay']=lst"
   ]
  },
  {
   "cell_type": "markdown",
   "metadata": {
    "id": "1d332525"
   },
   "source": [
    "### Observe that the \"avg_delay\" column is in days format. You need to change the format into seconds\n",
    "\n",
    "- Days_format :  19 days 00:00:00\n",
    "- Format in seconds : 1641600.0"
   ]
  },
  {
   "cell_type": "code",
   "execution_count": 49,
   "metadata": {
    "executionInfo": {
     "elapsed": 314,
     "status": "ok",
     "timestamp": 1645688108853,
     "user": {
      "displayName": "Anand Sharma",
      "photoUrl": "https://lh3.googleusercontent.com/a-/AOh14GgGUoK9JeU7aspVqtif0DmXDU4_ZbP-HQf5O3V9d6k=s64",
      "userId": "10219635889505679537"
     },
     "user_tz": -330
    },
    "id": "d5f1041e"
   },
   "outputs": [],
   "source": [
    "maindata['avg_delay']=maindata['avg_delay'].dt.total_seconds()"
   ]
  },
  {
   "cell_type": "markdown",
   "metadata": {
    "id": "OvgtHSsx_O-n"
   },
   "source": [
    "### Display the maindata dataframe "
   ]
  },
  {
   "cell_type": "code",
   "execution_count": 50,
   "metadata": {
    "colab": {
     "base_uri": "https://localhost:8080/",
     "height": 661
    },
    "executionInfo": {
     "elapsed": 350,
     "status": "ok",
     "timestamp": 1645688112361,
     "user": {
      "displayName": "Anand Sharma",
      "photoUrl": "https://lh3.googleusercontent.com/a-/AOh14GgGUoK9JeU7aspVqtif0DmXDU4_ZbP-HQf5O3V9d6k=s64",
      "userId": "10219635889505679537"
     },
     "user_tz": -330
    },
    "id": "97ca9c45",
    "outputId": "52f040e0-c2c8-4ff3-8626-fbb3dc7134c0"
   },
   "outputs": [
    {
     "data": {
      "text/html": [
       "<div>\n",
       "<style scoped>\n",
       "    .dataframe tbody tr th:only-of-type {\n",
       "        vertical-align: middle;\n",
       "    }\n",
       "\n",
       "    .dataframe tbody tr th {\n",
       "        vertical-align: top;\n",
       "    }\n",
       "\n",
       "    .dataframe thead th {\n",
       "        text-align: right;\n",
       "    }\n",
       "</style>\n",
       "<table border=\"1\" class=\"dataframe\">\n",
       "  <thead>\n",
       "    <tr style=\"text-align: right;\">\n",
       "      <th></th>\n",
       "      <th>business_code</th>\n",
       "      <th>cust_number</th>\n",
       "      <th>name_customer</th>\n",
       "      <th>clear_date</th>\n",
       "      <th>buisness_year</th>\n",
       "      <th>doc_id</th>\n",
       "      <th>posting_date</th>\n",
       "      <th>due_in_date</th>\n",
       "      <th>baseline_create_date</th>\n",
       "      <th>cust_payment_terms</th>\n",
       "      <th>converted_usd</th>\n",
       "      <th>Delay</th>\n",
       "      <th>avg_delay</th>\n",
       "    </tr>\n",
       "  </thead>\n",
       "  <tbody>\n",
       "    <tr>\n",
       "      <th>0</th>\n",
       "      <td>U001</td>\n",
       "      <td>200769623</td>\n",
       "      <td>WAL-MAR corp</td>\n",
       "      <td>2020-11-02</td>\n",
       "      <td>2020</td>\n",
       "      <td>1930438491</td>\n",
       "      <td>2020-01-26</td>\n",
       "      <td>2020-02-10</td>\n",
       "      <td>2020-01-26</td>\n",
       "      <td>NAH4</td>\n",
       "      <td>54273.280</td>\n",
       "      <td>266 days</td>\n",
       "      <td>2.615027e+05</td>\n",
       "    </tr>\n",
       "    <tr>\n",
       "      <th>1</th>\n",
       "      <td>U001</td>\n",
       "      <td>200980828</td>\n",
       "      <td>BEN E</td>\n",
       "      <td>2019-08-08</td>\n",
       "      <td>2019</td>\n",
       "      <td>1929646410</td>\n",
       "      <td>2019-07-22</td>\n",
       "      <td>2019-08-11</td>\n",
       "      <td>2019-07-22</td>\n",
       "      <td>NAD1</td>\n",
       "      <td>79656.600</td>\n",
       "      <td>-3 days</td>\n",
       "      <td>2.160000e+06</td>\n",
       "    </tr>\n",
       "    <tr>\n",
       "      <th>2</th>\n",
       "      <td>U001</td>\n",
       "      <td>200792734</td>\n",
       "      <td>MDV/ trust</td>\n",
       "      <td>2019-12-30</td>\n",
       "      <td>2019</td>\n",
       "      <td>1929873765</td>\n",
       "      <td>2019-09-14</td>\n",
       "      <td>2019-09-29</td>\n",
       "      <td>2019-09-14</td>\n",
       "      <td>NAA8</td>\n",
       "      <td>2253.860</td>\n",
       "      <td>92 days</td>\n",
       "      <td>2.324945e+06</td>\n",
       "    </tr>\n",
       "    <tr>\n",
       "      <th>4</th>\n",
       "      <td>U001</td>\n",
       "      <td>200769623</td>\n",
       "      <td>WAL-MAR foundation</td>\n",
       "      <td>2019-11-25</td>\n",
       "      <td>2019</td>\n",
       "      <td>1930147974</td>\n",
       "      <td>2019-11-13</td>\n",
       "      <td>2019-11-28</td>\n",
       "      <td>2019-11-13</td>\n",
       "      <td>NAH4</td>\n",
       "      <td>33133.290</td>\n",
       "      <td>-3 days</td>\n",
       "      <td>4.160077e+05</td>\n",
       "    </tr>\n",
       "    <tr>\n",
       "      <th>5</th>\n",
       "      <td>CA02</td>\n",
       "      <td>140106181</td>\n",
       "      <td>THE  corporation</td>\n",
       "      <td>2019-04-12</td>\n",
       "      <td>2019</td>\n",
       "      <td>2960581231</td>\n",
       "      <td>2019-09-20</td>\n",
       "      <td>2019-10-04</td>\n",
       "      <td>2019-09-24</td>\n",
       "      <td>CA10</td>\n",
       "      <td>15558.088</td>\n",
       "      <td>-175 days</td>\n",
       "      <td>4.473600e+06</td>\n",
       "    </tr>\n",
       "    <tr>\n",
       "      <th>...</th>\n",
       "      <td>...</td>\n",
       "      <td>...</td>\n",
       "      <td>...</td>\n",
       "      <td>...</td>\n",
       "      <td>...</td>\n",
       "      <td>...</td>\n",
       "      <td>...</td>\n",
       "      <td>...</td>\n",
       "      <td>...</td>\n",
       "      <td>...</td>\n",
       "      <td>...</td>\n",
       "      <td>...</td>\n",
       "      <td>...</td>\n",
       "    </tr>\n",
       "    <tr>\n",
       "      <th>49994</th>\n",
       "      <td>U001</td>\n",
       "      <td>200762301</td>\n",
       "      <td>C&amp;S WH trust</td>\n",
       "      <td>2019-07-25</td>\n",
       "      <td>2019</td>\n",
       "      <td>1929600989</td>\n",
       "      <td>2019-10-07</td>\n",
       "      <td>2019-07-25</td>\n",
       "      <td>2019-07-10</td>\n",
       "      <td>NAC6</td>\n",
       "      <td>84780.400</td>\n",
       "      <td>0 days</td>\n",
       "      <td>-8.487000e+05</td>\n",
       "    </tr>\n",
       "    <tr>\n",
       "      <th>49996</th>\n",
       "      <td>U001</td>\n",
       "      <td>200769623</td>\n",
       "      <td>WAL-MAR co</td>\n",
       "      <td>2019-03-09</td>\n",
       "      <td>2019</td>\n",
       "      <td>1929744070</td>\n",
       "      <td>2019-08-15</td>\n",
       "      <td>2019-08-30</td>\n",
       "      <td>2019-08-15</td>\n",
       "      <td>NAH4</td>\n",
       "      <td>6766.540</td>\n",
       "      <td>-174 days</td>\n",
       "      <td>-1.242192e+05</td>\n",
       "    </tr>\n",
       "    <tr>\n",
       "      <th>49997</th>\n",
       "      <td>U001</td>\n",
       "      <td>200772595</td>\n",
       "      <td>SAFEW associates</td>\n",
       "      <td>2020-05-03</td>\n",
       "      <td>2020</td>\n",
       "      <td>1930536775</td>\n",
       "      <td>2020-02-19</td>\n",
       "      <td>2020-03-05</td>\n",
       "      <td>2020-02-19</td>\n",
       "      <td>NAA8</td>\n",
       "      <td>6120.860</td>\n",
       "      <td>59 days</td>\n",
       "      <td>2.139429e+05</td>\n",
       "    </tr>\n",
       "    <tr>\n",
       "      <th>49998</th>\n",
       "      <td>U001</td>\n",
       "      <td>200726979</td>\n",
       "      <td>BJ'S  llc</td>\n",
       "      <td>2019-12-12</td>\n",
       "      <td>2019</td>\n",
       "      <td>1930198546</td>\n",
       "      <td>2019-11-27</td>\n",
       "      <td>2019-12-12</td>\n",
       "      <td>2019-11-27</td>\n",
       "      <td>NAA8</td>\n",
       "      <td>63.480</td>\n",
       "      <td>0 days</td>\n",
       "      <td>1.789254e+06</td>\n",
       "    </tr>\n",
       "    <tr>\n",
       "      <th>49999</th>\n",
       "      <td>U001</td>\n",
       "      <td>200020431</td>\n",
       "      <td>DEC corp</td>\n",
       "      <td>2019-01-15</td>\n",
       "      <td>2019</td>\n",
       "      <td>1928576325</td>\n",
       "      <td>2019-05-01</td>\n",
       "      <td>2019-01-24</td>\n",
       "      <td>2019-01-01</td>\n",
       "      <td>NAM4</td>\n",
       "      <td>1790.300</td>\n",
       "      <td>-9 days</td>\n",
       "      <td>-7.757217e+05</td>\n",
       "    </tr>\n",
       "  </tbody>\n",
       "</table>\n",
       "<p>39158 rows × 13 columns</p>\n",
       "</div>"
      ],
      "text/plain": [
       "      business_code cust_number       name_customer clear_date  buisness_year  \\\n",
       "0              U001   200769623        WAL-MAR corp 2020-11-02           2020   \n",
       "1              U001   200980828              BEN E  2019-08-08           2019   \n",
       "2              U001   200792734          MDV/ trust 2019-12-30           2019   \n",
       "4              U001   200769623  WAL-MAR foundation 2019-11-25           2019   \n",
       "5              CA02   140106181    THE  corporation 2019-04-12           2019   \n",
       "...             ...         ...                 ...        ...            ...   \n",
       "49994          U001   200762301        C&S WH trust 2019-07-25           2019   \n",
       "49996          U001   200769623          WAL-MAR co 2019-03-09           2019   \n",
       "49997          U001   200772595    SAFEW associates 2020-05-03           2020   \n",
       "49998          U001   200726979           BJ'S  llc 2019-12-12           2019   \n",
       "49999          U001   200020431            DEC corp 2019-01-15           2019   \n",
       "\n",
       "           doc_id posting_date due_in_date baseline_create_date  \\\n",
       "0      1930438491   2020-01-26  2020-02-10           2020-01-26   \n",
       "1      1929646410   2019-07-22  2019-08-11           2019-07-22   \n",
       "2      1929873765   2019-09-14  2019-09-29           2019-09-14   \n",
       "4      1930147974   2019-11-13  2019-11-28           2019-11-13   \n",
       "5      2960581231   2019-09-20  2019-10-04           2019-09-24   \n",
       "...           ...          ...         ...                  ...   \n",
       "49994  1929600989   2019-10-07  2019-07-25           2019-07-10   \n",
       "49996  1929744070   2019-08-15  2019-08-30           2019-08-15   \n",
       "49997  1930536775   2020-02-19  2020-03-05           2020-02-19   \n",
       "49998  1930198546   2019-11-27  2019-12-12           2019-11-27   \n",
       "49999  1928576325   2019-05-01  2019-01-24           2019-01-01   \n",
       "\n",
       "      cust_payment_terms  converted_usd     Delay     avg_delay  \n",
       "0                   NAH4      54273.280  266 days  2.615027e+05  \n",
       "1                   NAD1      79656.600   -3 days  2.160000e+06  \n",
       "2                   NAA8       2253.860   92 days  2.324945e+06  \n",
       "4                   NAH4      33133.290   -3 days  4.160077e+05  \n",
       "5                   CA10      15558.088 -175 days  4.473600e+06  \n",
       "...                  ...            ...       ...           ...  \n",
       "49994               NAC6      84780.400    0 days -8.487000e+05  \n",
       "49996               NAH4       6766.540 -174 days -1.242192e+05  \n",
       "49997               NAA8       6120.860   59 days  2.139429e+05  \n",
       "49998               NAA8         63.480    0 days  1.789254e+06  \n",
       "49999               NAM4       1790.300   -9 days -7.757217e+05  \n",
       "\n",
       "[39158 rows x 13 columns]"
      ]
     },
     "execution_count": 50,
     "metadata": {},
     "output_type": "execute_result"
    }
   ],
   "source": [
    "maindata"
   ]
  },
  {
   "cell_type": "markdown",
   "metadata": {
    "id": "ae24c7bb"
   },
   "source": [
    "### Since you have created the \"avg_delay\" column from \"Delay\" and \"clear_date\" column, there is no need of these two columns anymore \n",
    "\n",
    "- You are expected to drop \"Delay\" and \"clear_date\" columns from maindata dataframe "
   ]
  },
  {
   "cell_type": "code",
   "execution_count": 51,
   "metadata": {
    "executionInfo": {
     "elapsed": 320,
     "status": "ok",
     "timestamp": 1645688140736,
     "user": {
      "displayName": "Anand Sharma",
      "photoUrl": "https://lh3.googleusercontent.com/a-/AOh14GgGUoK9JeU7aspVqtif0DmXDU4_ZbP-HQf5O3V9d6k=s64",
      "userId": "10219635889505679537"
     },
     "user_tz": -330
    },
    "id": "78a61ab9"
   },
   "outputs": [],
   "source": [
    "lst=['Delay','clear_date']\n",
    "\n",
    "maindata=maindata.drop(lst,axis=1)"
   ]
  },
  {
   "cell_type": "markdown",
   "metadata": {
    "id": "ae724bfc"
   },
   "source": [
    "# Splitting of Train and the Test Data"
   ]
  },
  {
   "cell_type": "markdown",
   "metadata": {
    "id": "cb6f0264"
   },
   "source": [
    "### You need to split the \"maindata\" columns into X and y dataframe\n",
    "\n",
    "- Note - y should have the target column i.e. \"avg_delay\" and the other column should be in X\n",
    "\n",
    "- X is going to hold the source fields and y will be going to hold the target fields"
   ]
  },
  {
   "cell_type": "code",
   "execution_count": 52,
   "metadata": {
    "executionInfo": {
     "elapsed": 1442,
     "status": "ok",
     "timestamp": 1645688148008,
     "user": {
      "displayName": "Anand Sharma",
      "photoUrl": "https://lh3.googleusercontent.com/a-/AOh14GgGUoK9JeU7aspVqtif0DmXDU4_ZbP-HQf5O3V9d6k=s64",
      "userId": "10219635889505679537"
     },
     "user_tz": -330
    },
    "id": "75ab29ab"
   },
   "outputs": [],
   "source": [
    "X=maindata[maindata.columns[:10]]"
   ]
  },
  {
   "cell_type": "code",
   "execution_count": 53,
   "metadata": {
    "executionInfo": {
     "elapsed": 4,
     "status": "ok",
     "timestamp": 1645688151211,
     "user": {
      "displayName": "Anand Sharma",
      "photoUrl": "https://lh3.googleusercontent.com/a-/AOh14GgGUoK9JeU7aspVqtif0DmXDU4_ZbP-HQf5O3V9d6k=s64",
      "userId": "10219635889505679537"
     },
     "user_tz": -330
    },
    "id": "6412c62b"
   },
   "outputs": [],
   "source": [
    "y=maindata[maindata.columns[10:]]"
   ]
  },
  {
   "cell_type": "markdown",
   "metadata": {
    "id": "1c2942bf"
   },
   "source": [
    "#### You are expected to split both the dataframes into train and test format in 60:40 ratio \n",
    "\n",
    "- Note - The expected output should be in \"X_train\", \"X_loc_test\", \"y_train\", \"y_loc_test\" format "
   ]
  },
  {
   "cell_type": "code",
   "execution_count": 54,
   "metadata": {
    "executionInfo": {
     "elapsed": 327,
     "status": "ok",
     "timestamp": 1645688303251,
     "user": {
      "displayName": "Anand Sharma",
      "photoUrl": "https://lh3.googleusercontent.com/a-/AOh14GgGUoK9JeU7aspVqtif0DmXDU4_ZbP-HQf5O3V9d6k=s64",
      "userId": "10219635889505679537"
     },
     "user_tz": -330
    },
    "id": "d92160a5"
   },
   "outputs": [],
   "source": [
    "X_train, X_loc_test, y_train, y_loc_test = train_test_split(X, y,test_size=0.4, random_state=0) "
   ]
  },
  {
   "cell_type": "markdown",
   "metadata": {
    "id": "p4OME62pDufR"
   },
   "source": [
    "### Please check for the number of rows and columns of all the new dataframes (all 4)"
   ]
  },
  {
   "cell_type": "code",
   "execution_count": 55,
   "metadata": {
    "colab": {
     "base_uri": "https://localhost:8080/"
    },
    "executionInfo": {
     "elapsed": 318,
     "status": "ok",
     "timestamp": 1645688311721,
     "user": {
      "displayName": "Anand Sharma",
      "photoUrl": "https://lh3.googleusercontent.com/a-/AOh14GgGUoK9JeU7aspVqtif0DmXDU4_ZbP-HQf5O3V9d6k=s64",
      "userId": "10219635889505679537"
     },
     "user_tz": -330
    },
    "id": "48328d0a",
    "outputId": "d335d8cc-bd06-4914-b0e8-b39881bef7bc"
   },
   "outputs": [
    {
     "name": "stdout",
     "output_type": "stream",
     "text": [
      "\n",
      "X_train\n",
      "Rows :  23494 \n",
      "Columns :  10\n",
      "\n",
      "X_loc_test\n",
      "Rows :  15664 \n",
      "Columns :  10\n",
      "\n",
      "y_train\n",
      "Rows :  23494 \n",
      "Columns :  1\n",
      "\n",
      "y_loc_test\n",
      "Rows :  15664 \n",
      "Columns :  1\n"
     ]
    }
   ],
   "source": [
    "def ctr_rows_cols(df):\n",
    "  print('Rows : ',len(df),'\\nColumns : ',len(df.columns))\n",
    "\n",
    "print('\\nX_train')\n",
    "ctr_rows_cols(X_train)\n",
    "print('\\nX_loc_test')\n",
    "ctr_rows_cols(X_loc_test)\n",
    "print('\\ny_train')\n",
    "ctr_rows_cols(y_train)\n",
    "print('\\ny_loc_test')\n",
    "ctr_rows_cols(y_loc_test)"
   ]
  },
  {
   "cell_type": "markdown",
   "metadata": {
    "id": "4a68ed71"
   },
   "source": [
    "### Now you are expected to split the \"X_loc_test\" and \"y_loc_test\" dataset into \"Test\" and \"Validation\" (as the names given below) dataframe with 50:50 format \n",
    "\n",
    "- Note - The expected output should be in \"X_val\", \"X_test\", \"y_val\", \"y_test\" format"
   ]
  },
  {
   "cell_type": "code",
   "execution_count": 56,
   "metadata": {
    "executionInfo": {
     "elapsed": 335,
     "status": "ok",
     "timestamp": 1645688328860,
     "user": {
      "displayName": "Anand Sharma",
      "photoUrl": "https://lh3.googleusercontent.com/a-/AOh14GgGUoK9JeU7aspVqtif0DmXDU4_ZbP-HQf5O3V9d6k=s64",
      "userId": "10219635889505679537"
     },
     "user_tz": -330
    },
    "id": "b56c62f2"
   },
   "outputs": [],
   "source": [
    "X_val, X_test, y_val, y_test = train_test_split(X_loc_test, y_loc_test,test_size=0.5, random_state=0) "
   ]
  },
  {
   "cell_type": "markdown",
   "metadata": {
    "id": "bJTSAskvERH1"
   },
   "source": [
    "### Please check for the number of rows and columns of all the 4 dataframes "
   ]
  },
  {
   "cell_type": "code",
   "execution_count": 57,
   "metadata": {
    "colab": {
     "base_uri": "https://localhost:8080/"
    },
    "executionInfo": {
     "elapsed": 4,
     "status": "ok",
     "timestamp": 1645688335814,
     "user": {
      "displayName": "Anand Sharma",
      "photoUrl": "https://lh3.googleusercontent.com/a-/AOh14GgGUoK9JeU7aspVqtif0DmXDU4_ZbP-HQf5O3V9d6k=s64",
      "userId": "10219635889505679537"
     },
     "user_tz": -330
    },
    "id": "845d7564",
    "outputId": "81bda376-ace3-4020-ccc0-90f335ea204c"
   },
   "outputs": [
    {
     "name": "stdout",
     "output_type": "stream",
     "text": [
      "\n",
      "X_val\n",
      "Rows :  7832 \n",
      "Columns :  10\n",
      "\n",
      "X_test\n",
      "Rows :  7832 \n",
      "Columns :  10\n",
      "\n",
      "y_val\n",
      "Rows :  7832 \n",
      "Columns :  1\n",
      "\n",
      "y_test\n",
      "Rows :  7832 \n",
      "Columns :  1\n"
     ]
    }
   ],
   "source": [
    "def ctr_rows_cols(df):\n",
    "  print('Rows : ',len(df),'\\nColumns : ',len(df.columns))\n",
    "\n",
    "print('\\nX_val')\n",
    "ctr_rows_cols(X_val)\n",
    "print('\\nX_test')\n",
    "ctr_rows_cols(X_test)\n",
    "print('\\ny_val')\n",
    "ctr_rows_cols(y_val)\n",
    "print('\\ny_test')\n",
    "ctr_rows_cols(y_test)"
   ]
  },
  {
   "cell_type": "markdown",
   "metadata": {
    "id": "110fa872"
   },
   "source": [
    "# Exploratory Data Analysis (EDA) "
   ]
  },
  {
   "cell_type": "markdown",
   "metadata": {
    "id": "ffc8fe0f"
   },
   "source": [
    "### Distribution Plot of the target variable (use the dataframe which contains the target field)\n",
    "\n",
    "- Note - You are expected to make a distribution plot for the target variable "
   ]
  },
  {
   "cell_type": "code",
   "execution_count": 58,
   "metadata": {
    "colab": {
     "base_uri": "https://localhost:8080/",
     "height": 369
    },
    "executionInfo": {
     "elapsed": 3050,
     "status": "ok",
     "timestamp": 1645688351278,
     "user": {
      "displayName": "Anand Sharma",
      "photoUrl": "https://lh3.googleusercontent.com/a-/AOh14GgGUoK9JeU7aspVqtif0DmXDU4_ZbP-HQf5O3V9d6k=s64",
      "userId": "10219635889505679537"
     },
     "user_tz": -330
    },
    "id": "ba2bf8ed",
    "outputId": "d15d318c-a246-4a48-bd9b-cf127cda2658"
   },
   "outputs": [
    {
     "data": {
      "image/png": "[encoded data removed]",
      "text/plain": [
       "<Figure size 360x360 with 1 Axes>"
      ]
     },
     "metadata": {
      "needs_background": "light"
     },
     "output_type": "display_data"
    }
   ],
   "source": [
    "sns.displot(y['avg_delay'])\n",
    "plt.show()"
   ]
  },
  {
   "cell_type": "markdown",
   "metadata": {
    "id": "d0e323a3"
   },
   "source": [
    "### You are expected to group the X_train dataset on 'name_customer' column with 'doc_id' in the x_train set\n",
    "\n",
    "### Need to store the outcome into a new dataframe \n",
    "\n",
    "- Note code given for groupby statement- X_train.groupby(by=['name_customer'], as_index=False)['doc_id'].count()"
   ]
  },
  {
   "cell_type": "code",
   "execution_count": 59,
   "metadata": {
    "executionInfo": {
     "elapsed": 335,
     "status": "ok",
     "timestamp": 1645688363949,
     "user": {
      "displayName": "Anand Sharma",
      "photoUrl": "https://lh3.googleusercontent.com/a-/AOh14GgGUoK9JeU7aspVqtif0DmXDU4_ZbP-HQf5O3V9d6k=s64",
      "userId": "10219635889505679537"
     },
     "user_tz": -330
    },
    "id": "f7acf0ee"
   },
   "outputs": [],
   "source": [
    "x_train=X_train.groupby(by=['name_customer'], as_index=False)['doc_id'].count()"
   ]
  },
  {
   "cell_type": "markdown",
   "metadata": {
    "id": "cA43bFffFt6i"
   },
   "source": [
    "### You can make another distribution plot of the \"doc_id\" column from x_train"
   ]
  },
  {
   "cell_type": "code",
   "execution_count": 60,
   "metadata": {
    "colab": {
     "base_uri": "https://localhost:8080/",
     "height": 513
    },
    "executionInfo": {
     "elapsed": 4769,
     "status": "ok",
     "timestamp": 1645688378190,
     "user": {
      "displayName": "Anand Sharma",
      "photoUrl": "https://lh3.googleusercontent.com/a-/AOh14GgGUoK9JeU7aspVqtif0DmXDU4_ZbP-HQf5O3V9d6k=s64",
      "userId": "10219635889505679537"
     },
     "user_tz": -330
    },
    "id": "9576bf33",
    "outputId": "589df4cc-8219-49bd-fbbe-da8eb8b57c13"
   },
   "outputs": [
    {
     "data": {
      "image/png": "[encoded data removed]",
      "text/plain": [
       "<Figure size 504x504 with 1 Axes>"
      ]
     },
     "metadata": {
      "needs_background": "light"
     },
     "output_type": "display_data"
    }
   ],
   "source": [
    "sns.displot(x_train['doc_id'],height=7)\n",
    "plt.show()"
   ]
  },
  {
   "cell_type": "markdown",
   "metadata": {
    "id": "fba2c44f"
   },
   "source": [
    "#### Create a Distribution plot only for business_year and a seperate distribution plot of \"business_year\" column along with the doc_id\" column\n"
   ]
  },
  {
   "cell_type": "code",
   "execution_count": 61,
   "metadata": {
    "colab": {
     "base_uri": "https://localhost:8080/",
     "height": 513
    },
    "executionInfo": {
     "elapsed": 656,
     "status": "ok",
     "timestamp": 1645688382927,
     "user": {
      "displayName": "Anand Sharma",
      "photoUrl": "https://lh3.googleusercontent.com/a-/AOh14GgGUoK9JeU7aspVqtif0DmXDU4_ZbP-HQf5O3V9d6k=s64",
      "userId": "10219635889505679537"
     },
     "user_tz": -330
    },
    "id": "4fecec77",
    "outputId": "4ccf8aa8-4db9-41a9-cf55-3c0bca0a9b6f"
   },
   "outputs": [
    {
     "data": {
      "image/png": "[encoded data removed]",
      "text/plain": [
       "<Figure size 504x504 with 1 Axes>"
      ]
     },
     "metadata": {
      "needs_background": "light"
     },
     "output_type": "display_data"
    }
   ],
   "source": [
    "sns.displot(X['buisness_year'],height=7)\n",
    "plt.show()"
   ]
  },
  {
   "cell_type": "code",
   "execution_count": 62,
   "metadata": {
    "colab": {
     "base_uri": "https://localhost:8080/",
     "height": 513
    },
    "executionInfo": {
     "elapsed": 1158,
     "status": "ok",
     "timestamp": 1645688393821,
     "user": {
      "displayName": "Anand Sharma",
      "photoUrl": "https://lh3.googleusercontent.com/a-/AOh14GgGUoK9JeU7aspVqtif0DmXDU4_ZbP-HQf5O3V9d6k=s64",
      "userId": "10219635889505679537"
     },
     "user_tz": -330
    },
    "id": "qr1jGhfOKjnw",
    "outputId": "85f85396-a486-4a49-e52f-c82c82ea201e"
   },
   "outputs": [
    {
     "data": {
      "image/png": "[encoded data removed]",
      "text/plain": [
       "<Figure size 611x504 with 1 Axes>"
      ]
     },
     "metadata": {
      "needs_background": "light"
     },
     "output_type": "display_data"
    }
   ],
   "source": [
    "temp=pd.DataFrame(['buisness_year','doc_id'])\n",
    "temp['doc_id']=X['doc_id']\n",
    "temp['buisness_year']=X['buisness_year']\n",
    "sns.displot(temp[temp.columns],height=7)\n",
    "plt.show()"
   ]
  },
  {
   "cell_type": "markdown",
   "metadata": {
    "id": "968fbcc9"
   },
   "source": [
    "# Feature Engineering "
   ]
  },
  {
   "cell_type": "markdown",
   "metadata": {
    "id": "jbh6CyGqH3XE"
   },
   "source": [
    "### Display and describe the X_train dataframe "
   ]
  },
  {
   "cell_type": "code",
   "execution_count": 63,
   "metadata": {
    "colab": {
     "base_uri": "https://localhost:8080/",
     "height": 557
    },
    "executionInfo": {
     "elapsed": 325,
     "status": "ok",
     "timestamp": 1645688398244,
     "user": {
      "displayName": "Anand Sharma",
      "photoUrl": "https://lh3.googleusercontent.com/a-/AOh14GgGUoK9JeU7aspVqtif0DmXDU4_ZbP-HQf5O3V9d6k=s64",
      "userId": "10219635889505679537"
     },
     "user_tz": -330
    },
    "id": "nKQBTRxRGJ4X",
    "outputId": "415d06f3-c23f-457b-f121-7d56d510a1c3"
   },
   "outputs": [
    {
     "data": {
      "text/html": [
       "<div>\n",
       "<style scoped>\n",
       "    .dataframe tbody tr th:only-of-type {\n",
       "        vertical-align: middle;\n",
       "    }\n",
       "\n",
       "    .dataframe tbody tr th {\n",
       "        vertical-align: top;\n",
       "    }\n",
       "\n",
       "    .dataframe thead th {\n",
       "        text-align: right;\n",
       "    }\n",
       "</style>\n",
       "<table border=\"1\" class=\"dataframe\">\n",
       "  <thead>\n",
       "    <tr style=\"text-align: right;\">\n",
       "      <th></th>\n",
       "      <th>business_code</th>\n",
       "      <th>cust_number</th>\n",
       "      <th>name_customer</th>\n",
       "      <th>buisness_year</th>\n",
       "      <th>doc_id</th>\n",
       "      <th>posting_date</th>\n",
       "      <th>due_in_date</th>\n",
       "      <th>baseline_create_date</th>\n",
       "      <th>cust_payment_terms</th>\n",
       "      <th>converted_usd</th>\n",
       "    </tr>\n",
       "  </thead>\n",
       "  <tbody>\n",
       "    <tr>\n",
       "      <th>45718</th>\n",
       "      <td>U001</td>\n",
       "      <td>200794332</td>\n",
       "      <td>COST foundation</td>\n",
       "      <td>2020</td>\n",
       "      <td>1930448249</td>\n",
       "      <td>2020-01-28</td>\n",
       "      <td>2020-02-12</td>\n",
       "      <td>2020-01-28</td>\n",
       "      <td>NAAX</td>\n",
       "      <td>36273.03</td>\n",
       "    </tr>\n",
       "    <tr>\n",
       "      <th>17966</th>\n",
       "      <td>U001</td>\n",
       "      <td>200706844</td>\n",
       "      <td>WINC trust</td>\n",
       "      <td>2020</td>\n",
       "      <td>1930517131</td>\n",
       "      <td>2020-02-13</td>\n",
       "      <td>2020-02-28</td>\n",
       "      <td>2020-02-13</td>\n",
       "      <td>NAA8</td>\n",
       "      <td>6349.27</td>\n",
       "    </tr>\n",
       "    <tr>\n",
       "      <th>21322</th>\n",
       "      <td>U001</td>\n",
       "      <td>200803720</td>\n",
       "      <td>DEC us</td>\n",
       "      <td>2019</td>\n",
       "      <td>1928589714</td>\n",
       "      <td>2019-08-01</td>\n",
       "      <td>2019-01-24</td>\n",
       "      <td>2019-01-01</td>\n",
       "      <td>NAM4</td>\n",
       "      <td>282.84</td>\n",
       "    </tr>\n",
       "    <tr>\n",
       "      <th>38919</th>\n",
       "      <td>U001</td>\n",
       "      <td>200752302</td>\n",
       "      <td>KROGER</td>\n",
       "      <td>2020</td>\n",
       "      <td>1930508809</td>\n",
       "      <td>2020-12-02</td>\n",
       "      <td>2020-02-27</td>\n",
       "      <td>2020-02-12</td>\n",
       "      <td>NAA8</td>\n",
       "      <td>64749.18</td>\n",
       "    </tr>\n",
       "    <tr>\n",
       "      <th>25191</th>\n",
       "      <td>U001</td>\n",
       "      <td>200974851</td>\n",
       "      <td>RESTA co</td>\n",
       "      <td>2019</td>\n",
       "      <td>1929483483</td>\n",
       "      <td>2019-12-06</td>\n",
       "      <td>2019-06-27</td>\n",
       "      <td>2019-06-12</td>\n",
       "      <td>NAA8</td>\n",
       "      <td>2066.63</td>\n",
       "    </tr>\n",
       "    <tr>\n",
       "      <th>...</th>\n",
       "      <td>...</td>\n",
       "      <td>...</td>\n",
       "      <td>...</td>\n",
       "      <td>...</td>\n",
       "      <td>...</td>\n",
       "      <td>...</td>\n",
       "      <td>...</td>\n",
       "      <td>...</td>\n",
       "      <td>...</td>\n",
       "      <td>...</td>\n",
       "    </tr>\n",
       "    <tr>\n",
       "      <th>26152</th>\n",
       "      <td>U001</td>\n",
       "      <td>200769623</td>\n",
       "      <td>WAL-MAR associates</td>\n",
       "      <td>2019</td>\n",
       "      <td>1930152454</td>\n",
       "      <td>2019-11-14</td>\n",
       "      <td>2019-11-29</td>\n",
       "      <td>2019-11-14</td>\n",
       "      <td>NAH4</td>\n",
       "      <td>3449.63</td>\n",
       "    </tr>\n",
       "    <tr>\n",
       "      <th>40790</th>\n",
       "      <td>U001</td>\n",
       "      <td>200793568</td>\n",
       "      <td>SUPE in</td>\n",
       "      <td>2019</td>\n",
       "      <td>1930222273</td>\n",
       "      <td>2019-06-12</td>\n",
       "      <td>2019-12-21</td>\n",
       "      <td>2019-12-06</td>\n",
       "      <td>NAA8</td>\n",
       "      <td>40591.75</td>\n",
       "    </tr>\n",
       "    <tr>\n",
       "      <th>38558</th>\n",
       "      <td>U001</td>\n",
       "      <td>100036066</td>\n",
       "      <td>GROC associates</td>\n",
       "      <td>2019</td>\n",
       "      <td>1929174676</td>\n",
       "      <td>2019-04-22</td>\n",
       "      <td>2019-05-07</td>\n",
       "      <td>2019-04-22</td>\n",
       "      <td>NAA8</td>\n",
       "      <td>24869.32</td>\n",
       "    </tr>\n",
       "    <tr>\n",
       "      <th>26776</th>\n",
       "      <td>U001</td>\n",
       "      <td>200769623</td>\n",
       "      <td>WAL-MAR associates</td>\n",
       "      <td>2019</td>\n",
       "      <td>1929555422</td>\n",
       "      <td>2019-06-28</td>\n",
       "      <td>2019-07-13</td>\n",
       "      <td>2019-06-28</td>\n",
       "      <td>NAH4</td>\n",
       "      <td>42362.89</td>\n",
       "    </tr>\n",
       "    <tr>\n",
       "      <th>3363</th>\n",
       "      <td>U001</td>\n",
       "      <td>200780383</td>\n",
       "      <td>MEIJ in</td>\n",
       "      <td>2019</td>\n",
       "      <td>1928854993</td>\n",
       "      <td>2019-02-25</td>\n",
       "      <td>2019-03-12</td>\n",
       "      <td>2019-02-25</td>\n",
       "      <td>NAA8</td>\n",
       "      <td>81817.20</td>\n",
       "    </tr>\n",
       "  </tbody>\n",
       "</table>\n",
       "<p>23494 rows × 10 columns</p>\n",
       "</div>"
      ],
      "text/plain": [
       "      business_code cust_number       name_customer  buisness_year  \\\n",
       "45718          U001   200794332     COST foundation           2020   \n",
       "17966          U001   200706844          WINC trust           2020   \n",
       "21322          U001   200803720              DEC us           2019   \n",
       "38919          U001   200752302             KROGER            2020   \n",
       "25191          U001   200974851            RESTA co           2019   \n",
       "...             ...         ...                 ...            ...   \n",
       "26152          U001   200769623  WAL-MAR associates           2019   \n",
       "40790          U001   200793568             SUPE in           2019   \n",
       "38558          U001   100036066     GROC associates           2019   \n",
       "26776          U001   200769623  WAL-MAR associates           2019   \n",
       "3363           U001   200780383             MEIJ in           2019   \n",
       "\n",
       "           doc_id posting_date due_in_date baseline_create_date  \\\n",
       "45718  1930448249   2020-01-28  2020-02-12           2020-01-28   \n",
       "17966  1930517131   2020-02-13  2020-02-28           2020-02-13   \n",
       "21322  1928589714   2019-08-01  2019-01-24           2019-01-01   \n",
       "38919  1930508809   2020-12-02  2020-02-27           2020-02-12   \n",
       "25191  1929483483   2019-12-06  2019-06-27           2019-06-12   \n",
       "...           ...          ...         ...                  ...   \n",
       "26152  1930152454   2019-11-14  2019-11-29           2019-11-14   \n",
       "40790  1930222273   2019-06-12  2019-12-21           2019-12-06   \n",
       "38558  1929174676   2019-04-22  2019-05-07           2019-04-22   \n",
       "26776  1929555422   2019-06-28  2019-07-13           2019-06-28   \n",
       "3363   1928854993   2019-02-25  2019-03-12           2019-02-25   \n",
       "\n",
       "      cust_payment_terms  converted_usd  \n",
       "45718               NAAX       36273.03  \n",
       "17966               NAA8        6349.27  \n",
       "21322               NAM4         282.84  \n",
       "38919               NAA8       64749.18  \n",
       "25191               NAA8        2066.63  \n",
       "...                  ...            ...  \n",
       "26152               NAH4        3449.63  \n",
       "40790               NAA8       40591.75  \n",
       "38558               NAA8       24869.32  \n",
       "26776               NAH4       42362.89  \n",
       "3363                NAA8       81817.20  \n",
       "\n",
       "[23494 rows x 10 columns]"
      ]
     },
     "execution_count": 63,
     "metadata": {},
     "output_type": "execute_result"
    }
   ],
   "source": [
    "X_train"
   ]
  },
  {
   "cell_type": "code",
   "execution_count": 64,
   "metadata": {
    "colab": {
     "base_uri": "https://localhost:8080/",
     "height": 300
    },
    "executionInfo": {
     "elapsed": 483,
     "status": "ok",
     "timestamp": 1645611679702,
     "user": {
      "displayName": "Anand Sharma",
      "photoUrl": "https://lh3.googleusercontent.com/a-/AOh14GgGUoK9JeU7aspVqtif0DmXDU4_ZbP-HQf5O3V9d6k=s64",
      "userId": "10219635889505679537"
     },
     "user_tz": -330
    },
    "id": "e6bcf307",
    "outputId": "6b5b31f2-c7ce-4a1e-a8d3-3fe24e4d114d"
   },
   "outputs": [
    {
     "data": {
      "text/html": [
       "<div>\n",
       "<style scoped>\n",
       "    .dataframe tbody tr th:only-of-type {\n",
       "        vertical-align: middle;\n",
       "    }\n",
       "\n",
       "    .dataframe tbody tr th {\n",
       "        vertical-align: top;\n",
       "    }\n",
       "\n",
       "    .dataframe thead th {\n",
       "        text-align: right;\n",
       "    }\n",
       "</style>\n",
       "<table border=\"1\" class=\"dataframe\">\n",
       "  <thead>\n",
       "    <tr style=\"text-align: right;\">\n",
       "      <th></th>\n",
       "      <th>buisness_year</th>\n",
       "      <th>doc_id</th>\n",
       "      <th>converted_usd</th>\n",
       "    </tr>\n",
       "  </thead>\n",
       "  <tbody>\n",
       "    <tr>\n",
       "      <th>count</th>\n",
       "      <td>23494.000000</td>\n",
       "      <td>2.349400e+04</td>\n",
       "      <td>23494.000000</td>\n",
       "    </tr>\n",
       "    <tr>\n",
       "      <th>mean</th>\n",
       "      <td>2019.132247</td>\n",
       "      <td>2.014021e+09</td>\n",
       "      <td>30999.755826</td>\n",
       "    </tr>\n",
       "    <tr>\n",
       "      <th>std</th>\n",
       "      <td>0.338766</td>\n",
       "      <td>2.956842e+08</td>\n",
       "      <td>36630.432880</td>\n",
       "    </tr>\n",
       "    <tr>\n",
       "      <th>min</th>\n",
       "      <td>2019.000000</td>\n",
       "      <td>1.928502e+09</td>\n",
       "      <td>4.380000</td>\n",
       "    </tr>\n",
       "    <tr>\n",
       "      <th>25%</th>\n",
       "      <td>2019.000000</td>\n",
       "      <td>1.929174e+09</td>\n",
       "      <td>4622.179500</td>\n",
       "    </tr>\n",
       "    <tr>\n",
       "      <th>50%</th>\n",
       "      <td>2019.000000</td>\n",
       "      <td>1.929731e+09</td>\n",
       "      <td>16919.885000</td>\n",
       "    </tr>\n",
       "    <tr>\n",
       "      <th>75%</th>\n",
       "      <td>2019.000000</td>\n",
       "      <td>1.930209e+09</td>\n",
       "      <td>45911.302500</td>\n",
       "    </tr>\n",
       "    <tr>\n",
       "      <th>max</th>\n",
       "      <td>2020.000000</td>\n",
       "      <td>9.500000e+09</td>\n",
       "      <td>632134.240000</td>\n",
       "    </tr>\n",
       "  </tbody>\n",
       "</table>\n",
       "</div>"
      ],
      "text/plain": [
       "       buisness_year        doc_id  converted_usd\n",
       "count   23494.000000  2.349400e+04   23494.000000\n",
       "mean     2019.132247  2.014021e+09   30999.755826\n",
       "std         0.338766  2.956842e+08   36630.432880\n",
       "min      2019.000000  1.928502e+09       4.380000\n",
       "25%      2019.000000  1.929174e+09    4622.179500\n",
       "50%      2019.000000  1.929731e+09   16919.885000\n",
       "75%      2019.000000  1.930209e+09   45911.302500\n",
       "max      2020.000000  9.500000e+09  632134.240000"
      ]
     },
     "execution_count": 64,
     "metadata": {},
     "output_type": "execute_result"
    }
   ],
   "source": [
    "X_train.describe()"
   ]
  },
  {
   "cell_type": "code",
   "execution_count": 65,
   "metadata": {
    "colab": {
     "base_uri": "https://localhost:8080/"
    },
    "executionInfo": {
     "elapsed": 347,
     "status": "ok",
     "timestamp": 1645688418519,
     "user": {
      "displayName": "Anand Sharma",
      "photoUrl": "https://lh3.googleusercontent.com/a-/AOh14GgGUoK9JeU7aspVqtif0DmXDU4_ZbP-HQf5O3V9d6k=s64",
      "userId": "10219635889505679537"
     },
     "user_tz": -330
    },
    "id": "08ccc819",
    "outputId": "5a78cf19-66e8-4c5a-8153-9974785c018b"
   },
   "outputs": [
    {
     "name": "stdout",
     "output_type": "stream",
     "text": [
      "<class 'pandas.core.frame.DataFrame'>\n",
      "Int64Index: 23494 entries, 45718 to 3363\n",
      "Data columns (total 10 columns):\n",
      " #   Column                Non-Null Count  Dtype         \n",
      "---  ------                --------------  -----         \n",
      " 0   business_code         23494 non-null  object        \n",
      " 1   cust_number           23494 non-null  object        \n",
      " 2   name_customer         23494 non-null  object        \n",
      " 3   buisness_year         23494 non-null  int64         \n",
      " 4   doc_id                23494 non-null  int64         \n",
      " 5   posting_date          23494 non-null  datetime64[ns]\n",
      " 6   due_in_date           23494 non-null  datetime64[ns]\n",
      " 7   baseline_create_date  23494 non-null  datetime64[ns]\n",
      " 8   cust_payment_terms    23494 non-null  object        \n",
      " 9   converted_usd         23494 non-null  float64       \n",
      "dtypes: datetime64[ns](3), float64(1), int64(2), object(4)\n",
      "memory usage: 2.0+ MB\n"
     ]
    }
   ],
   "source": [
    "X_train.info()"
   ]
  },
  {
   "cell_type": "markdown",
   "metadata": {
    "id": "abd7ac8b"
   },
   "source": [
    "#### The \"business_code\" column inside X_train, is a categorical column, so you need to perform Labelencoder on that particular column\n",
    "\n",
    "- Note - call the Label Encoder from sklearn library and use the fit() function on \"business_code\" column\n",
    "- Note - Please fill in the blanks (two) to complete this code"
   ]
  },
  {
   "cell_type": "code",
   "execution_count": 66,
   "metadata": {
    "colab": {
     "base_uri": "https://localhost:8080/"
    },
    "executionInfo": {
     "elapsed": 333,
     "status": "ok",
     "timestamp": 1645688433638,
     "user": {
      "displayName": "Anand Sharma",
      "photoUrl": "https://lh3.googleusercontent.com/a-/AOh14GgGUoK9JeU7aspVqtif0DmXDU4_ZbP-HQf5O3V9d6k=s64",
      "userId": "10219635889505679537"
     },
     "user_tz": -330
    },
    "id": "7c223545",
    "outputId": "6c7ac135-da73-4a40-ac3a-c4244d368210"
   },
   "outputs": [
    {
     "data": {
      "text/plain": [
       "LabelEncoder()"
      ]
     },
     "execution_count": 66,
     "metadata": {},
     "output_type": "execute_result"
    }
   ],
   "source": [
    "from sklearn.preprocessing import LabelEncoder\n",
    "business_coder = LabelEncoder()\n",
    "business_coder.fit(X_train['business_code'])"
   ]
  },
  {
   "cell_type": "markdown",
   "metadata": {
    "id": "f86f7d9c"
   },
   "source": [
    "#### You are expected to store the value into a new column i.e. \"business_code_enc\"\n",
    "\n",
    "- Note - For Training set you are expected to use fit_trainsform()\n",
    "- Note - For Test set you are expected to use the trainsform()\n",
    "- Note - For Validation set you are expected to use the trainsform()\n",
    "\n",
    "\n",
    "- Partial code is provided, please fill in the blanks "
   ]
  },
  {
   "cell_type": "code",
   "execution_count": 67,
   "metadata": {
    "executionInfo": {
     "elapsed": 328,
     "status": "ok",
     "timestamp": 1645688451239,
     "user": {
      "displayName": "Anand Sharma",
      "photoUrl": "https://lh3.googleusercontent.com/a-/AOh14GgGUoK9JeU7aspVqtif0DmXDU4_ZbP-HQf5O3V9d6k=s64",
      "userId": "10219635889505679537"
     },
     "user_tz": -330
    },
    "id": "4269c307"
   },
   "outputs": [],
   "source": [
    "X_train['business_code_enc'] = business_coder.fit_transform(X_train['business_code'])"
   ]
  },
  {
   "cell_type": "code",
   "execution_count": 68,
   "metadata": {
    "executionInfo": {
     "elapsed": 6,
     "status": "ok",
     "timestamp": 1645688453835,
     "user": {
      "displayName": "Anand Sharma",
      "photoUrl": "https://lh3.googleusercontent.com/a-/AOh14GgGUoK9JeU7aspVqtif0DmXDU4_ZbP-HQf5O3V9d6k=s64",
      "userId": "10219635889505679537"
     },
     "user_tz": -330
    },
    "id": "70a53712"
   },
   "outputs": [],
   "source": [
    "X_val['business_code_enc'] = business_coder.transform(X_val['business_code'])\n",
    "X_test['business_code_enc'] = business_coder.transform(X_test['business_code'])"
   ]
  },
  {
   "cell_type": "markdown",
   "metadata": {
    "id": "gdNYxTkqNfmz"
   },
   "source": [
    "### Display \"business_code\" and \"business_code_enc\" together from X_train dataframe "
   ]
  },
  {
   "cell_type": "code",
   "execution_count": 69,
   "metadata": {
    "colab": {
     "base_uri": "https://localhost:8080/",
     "height": 423
    },
    "executionInfo": {
     "elapsed": 346,
     "status": "ok",
     "timestamp": 1645688457582,
     "user": {
      "displayName": "Anand Sharma",
      "photoUrl": "https://lh3.googleusercontent.com/a-/AOh14GgGUoK9JeU7aspVqtif0DmXDU4_ZbP-HQf5O3V9d6k=s64",
      "userId": "10219635889505679537"
     },
     "user_tz": -330
    },
    "id": "1196a002",
    "outputId": "6c1705c7-17f1-425c-d6d2-a7b889fd898b"
   },
   "outputs": [
    {
     "data": {
      "text/html": [
       "<div>\n",
       "<style scoped>\n",
       "    .dataframe tbody tr th:only-of-type {\n",
       "        vertical-align: middle;\n",
       "    }\n",
       "\n",
       "    .dataframe tbody tr th {\n",
       "        vertical-align: top;\n",
       "    }\n",
       "\n",
       "    .dataframe thead th {\n",
       "        text-align: right;\n",
       "    }\n",
       "</style>\n",
       "<table border=\"1\" class=\"dataframe\">\n",
       "  <thead>\n",
       "    <tr style=\"text-align: right;\">\n",
       "      <th></th>\n",
       "      <th>business_code</th>\n",
       "      <th>business_code_enc</th>\n",
       "    </tr>\n",
       "  </thead>\n",
       "  <tbody>\n",
       "    <tr>\n",
       "      <th>45718</th>\n",
       "      <td>U001</td>\n",
       "      <td>1</td>\n",
       "    </tr>\n",
       "    <tr>\n",
       "      <th>17966</th>\n",
       "      <td>U001</td>\n",
       "      <td>1</td>\n",
       "    </tr>\n",
       "    <tr>\n",
       "      <th>21322</th>\n",
       "      <td>U001</td>\n",
       "      <td>1</td>\n",
       "    </tr>\n",
       "    <tr>\n",
       "      <th>38919</th>\n",
       "      <td>U001</td>\n",
       "      <td>1</td>\n",
       "    </tr>\n",
       "    <tr>\n",
       "      <th>25191</th>\n",
       "      <td>U001</td>\n",
       "      <td>1</td>\n",
       "    </tr>\n",
       "    <tr>\n",
       "      <th>...</th>\n",
       "      <td>...</td>\n",
       "      <td>...</td>\n",
       "    </tr>\n",
       "    <tr>\n",
       "      <th>26152</th>\n",
       "      <td>U001</td>\n",
       "      <td>1</td>\n",
       "    </tr>\n",
       "    <tr>\n",
       "      <th>40790</th>\n",
       "      <td>U001</td>\n",
       "      <td>1</td>\n",
       "    </tr>\n",
       "    <tr>\n",
       "      <th>38558</th>\n",
       "      <td>U001</td>\n",
       "      <td>1</td>\n",
       "    </tr>\n",
       "    <tr>\n",
       "      <th>26776</th>\n",
       "      <td>U001</td>\n",
       "      <td>1</td>\n",
       "    </tr>\n",
       "    <tr>\n",
       "      <th>3363</th>\n",
       "      <td>U001</td>\n",
       "      <td>1</td>\n",
       "    </tr>\n",
       "  </tbody>\n",
       "</table>\n",
       "<p>23494 rows × 2 columns</p>\n",
       "</div>"
      ],
      "text/plain": [
       "      business_code  business_code_enc\n",
       "45718          U001                  1\n",
       "17966          U001                  1\n",
       "21322          U001                  1\n",
       "38919          U001                  1\n",
       "25191          U001                  1\n",
       "...             ...                ...\n",
       "26152          U001                  1\n",
       "40790          U001                  1\n",
       "38558          U001                  1\n",
       "26776          U001                  1\n",
       "3363           U001                  1\n",
       "\n",
       "[23494 rows x 2 columns]"
      ]
     },
     "execution_count": 69,
     "metadata": {},
     "output_type": "execute_result"
    }
   ],
   "source": [
    "X_train[['business_code','business_code_enc']]"
   ]
  },
  {
   "cell_type": "markdown",
   "metadata": {
    "id": "11477224"
   },
   "source": [
    "#### Create a function called \"custom\" for dropping the columns 'business_code' from train, test and validation dataframe\n",
    "\n",
    "- Note - Fill in the blank to complete the code"
   ]
  },
  {
   "cell_type": "code",
   "execution_count": 70,
   "metadata": {
    "executionInfo": {
     "elapsed": 5,
     "status": "ok",
     "timestamp": 1645688463698,
     "user": {
      "displayName": "Anand Sharma",
      "photoUrl": "https://lh3.googleusercontent.com/a-/AOh14GgGUoK9JeU7aspVqtif0DmXDU4_ZbP-HQf5O3V9d6k=s64",
      "userId": "10219635889505679537"
     },
     "user_tz": -330
    },
    "id": "1052868a"
   },
   "outputs": [],
   "source": [
    "def custom(col ,traindf = X_train,valdf = X_val,testdf = X_test):\n",
    "    traindf.drop(col, axis =1,inplace=True)\n",
    "    valdf.drop(col,axis=1 , inplace=True)\n",
    "    testdf.drop(col,axis=1 , inplace=True)\n",
    "\n",
    "    return traindf,valdf ,testdf"
   ]
  },
  {
   "cell_type": "markdown",
   "metadata": {
    "id": "rI--ZuMbNLne"
   },
   "source": [
    "### Call the function by passing the column name which needed to be dropped from train, test and validation dataframes. Return updated dataframes to be stored in X_train ,X_val, X_test  \n",
    "\n",
    "- Note = Fill in the blank to complete the code "
   ]
  },
  {
   "cell_type": "code",
   "execution_count": 71,
   "metadata": {
    "executionInfo": {
     "elapsed": 346,
     "status": "ok",
     "timestamp": 1645688478929,
     "user": {
      "displayName": "Anand Sharma",
      "photoUrl": "https://lh3.googleusercontent.com/a-/AOh14GgGUoK9JeU7aspVqtif0DmXDU4_ZbP-HQf5O3V9d6k=s64",
      "userId": "10219635889505679537"
     },
     "user_tz": -330
    },
    "id": "1a0f955c"
   },
   "outputs": [],
   "source": [
    "X_train , X_val , X_test = custom(['business_code'])"
   ]
  },
  {
   "cell_type": "markdown",
   "metadata": {
    "id": "28b5b27e"
   },
   "source": [
    "### Manually replacing str values with numbers, Here we are trying manually replace the customer numbers with some specific values like, 'CCCA' as 1, 'CCU' as 2 and so on. Also we are converting the datatype \"cust_number\" field to int type.\n",
    "\n",
    "- We are doing it for all the three dataframes as shown below. This is fully completed code. No need to modify anything here \n",
    "\n"
   ]
  },
  {
   "cell_type": "code",
   "execution_count": 72,
   "metadata": {
    "executionInfo": {
     "elapsed": 2,
     "status": "ok",
     "timestamp": 1645688489707,
     "user": {
      "displayName": "Anand Sharma",
      "photoUrl": "https://lh3.googleusercontent.com/a-/AOh14GgGUoK9JeU7aspVqtif0DmXDU4_ZbP-HQf5O3V9d6k=s64",
      "userId": "10219635889505679537"
     },
     "user_tz": -330
    },
    "id": "85dd129e"
   },
   "outputs": [],
   "source": [
    "X_train['cust_number'] = X_train['cust_number'].str.replace('CCCA',\"1\").str.replace('CCU',\"2\").str.replace('CC',\"3\").astype(int)\n",
    "X_test['cust_number'] = X_test['cust_number'].str.replace('CCCA',\"1\").str.replace('CCU',\"2\").str.replace('CC',\"3\").astype(int)\n",
    "X_val['cust_number'] = X_val['cust_number'].str.replace('CCCA',\"1\").str.replace('CCU',\"2\").str.replace('CC',\"3\").astype(int)\n"
   ]
  },
  {
   "cell_type": "markdown",
   "metadata": {
    "id": "U8vA-zmdPnJ8"
   },
   "source": [
    "#### It differs from LabelEncoder by handling new classes and providing a value for it [Unknown]. Unknown will be added in fit and transform will take care of new item. It gives unknown class id.\n",
    "\n",
    "#### This will fit the encoder for all the unique values and introduce unknown value\n",
    "\n",
    "- Note - Keep this code as it is, we will be using this later on.  "
   ]
  },
  {
   "cell_type": "code",
   "execution_count": 73,
   "metadata": {
    "executionInfo": {
     "elapsed": 4,
     "status": "ok",
     "timestamp": 1645688493970,
     "user": {
      "displayName": "Anand Sharma",
      "photoUrl": "https://lh3.googleusercontent.com/a-/AOh14GgGUoK9JeU7aspVqtif0DmXDU4_ZbP-HQf5O3V9d6k=s64",
      "userId": "10219635889505679537"
     },
     "user_tz": -330
    },
    "id": "151f48ba"
   },
   "outputs": [],
   "source": [
    "#For encoding unseen labels\n",
    "class EncoderExt(object):\n",
    "    def __init__(self):\n",
    "        self.label_encoder = LabelEncoder()\n",
    "    def fit(self, data_list):\n",
    "        self.label_encoder = self.label_encoder.fit(list(data_list) + ['Unknown'])\n",
    "        self.classes_ = self.label_encoder.classes_\n",
    "        return self\n",
    "    def transform(self, data_list):\n",
    "        new_data_list = list(data_list)\n",
    "        for unique_item in np.unique(data_list):\n",
    "            if unique_item not in self.label_encoder.classes_:\n",
    "                new_data_list = ['Unknown' if x==unique_item else x for x in new_data_list]\n",
    "        return self.label_encoder.transform(new_data_list)"
   ]
  },
  {
   "cell_type": "markdown",
   "metadata": {
    "id": "254c64e6"
   },
   "source": [
    "### Use the user define Label Encoder function called \"EncoderExt\" for the \"name_customer\" column\n",
    "\n",
    "- Note - Keep the code as it is, no need to change"
   ]
  },
  {
   "cell_type": "code",
   "execution_count": 74,
   "metadata": {
    "executionInfo": {
     "elapsed": 1246,
     "status": "ok",
     "timestamp": 1645688519306,
     "user": {
      "displayName": "Anand Sharma",
      "photoUrl": "https://lh3.googleusercontent.com/a-/AOh14GgGUoK9JeU7aspVqtif0DmXDU4_ZbP-HQf5O3V9d6k=s64",
      "userId": "10219635889505679537"
     },
     "user_tz": -330
    },
    "id": "62b17eff"
   },
   "outputs": [],
   "source": [
    "label_encoder = EncoderExt()\n",
    "label_encoder.fit(X_train['name_customer'])\n",
    "X_train['name_customer_enc']=label_encoder.transform(X_train['name_customer'])\n",
    "X_val['name_customer_enc']=label_encoder.transform(X_val['name_customer'])\n",
    "X_test['name_customer_enc']=label_encoder.transform(X_test['name_customer'])"
   ]
  },
  {
   "cell_type": "markdown",
   "metadata": {
    "id": "mK7LMoy2QZhy"
   },
   "source": [
    "### As we have created the a new column \"name_customer_enc\", so now drop \"name_customer\" column from all three dataframes\n",
    "\n",
    "- Note - Keep the code as it is, no need to change"
   ]
  },
  {
   "cell_type": "code",
   "execution_count": 75,
   "metadata": {
    "executionInfo": {
     "elapsed": 557,
     "status": "ok",
     "timestamp": 1645688524011,
     "user": {
      "displayName": "Anand Sharma",
      "photoUrl": "https://lh3.googleusercontent.com/a-/AOh14GgGUoK9JeU7aspVqtif0DmXDU4_ZbP-HQf5O3V9d6k=s64",
      "userId": "10219635889505679537"
     },
     "user_tz": -330
    },
    "id": "ef85f1c0"
   },
   "outputs": [],
   "source": [
    "X_train ,X_val, X_test = custom(['name_customer'])"
   ]
  },
  {
   "cell_type": "markdown",
   "metadata": {
    "id": "3aa09d22"
   },
   "source": [
    "### Using Label Encoder for the \"cust_payment_terms\" column\n",
    "\n",
    "- Note - Keep the code as it is, no need to change"
   ]
  },
  {
   "cell_type": "code",
   "execution_count": 76,
   "metadata": {
    "executionInfo": {
     "elapsed": 321,
     "status": "ok",
     "timestamp": 1645688531886,
     "user": {
      "displayName": "Anand Sharma",
      "photoUrl": "https://lh3.googleusercontent.com/a-/AOh14GgGUoK9JeU7aspVqtif0DmXDU4_ZbP-HQf5O3V9d6k=s64",
      "userId": "10219635889505679537"
     },
     "user_tz": -330
    },
    "id": "6f9ab642"
   },
   "outputs": [],
   "source": [
    "label_encoder1 = EncoderExt()\n",
    "label_encoder1.fit(X_train['cust_payment_terms'])\n",
    "X_train['cust_payment_terms_enc']=label_encoder1.transform(X_train['cust_payment_terms'])\n",
    "X_val['cust_payment_terms_enc']=label_encoder1.transform(X_val['cust_payment_terms'])\n",
    "X_test['cust_payment_terms_enc']=label_encoder1.transform(X_test['cust_payment_terms'])"
   ]
  },
  {
   "cell_type": "code",
   "execution_count": 77,
   "metadata": {
    "executionInfo": {
     "elapsed": 4,
     "status": "ok",
     "timestamp": 1645688536181,
     "user": {
      "displayName": "Anand Sharma",
      "photoUrl": "https://lh3.googleusercontent.com/a-/AOh14GgGUoK9JeU7aspVqtif0DmXDU4_ZbP-HQf5O3V9d6k=s64",
      "userId": "10219635889505679537"
     },
     "user_tz": -330
    },
    "id": "55f9a7c2"
   },
   "outputs": [],
   "source": [
    "X_train ,X_val, X_test = custom(['cust_payment_terms'])"
   ]
  },
  {
   "cell_type": "markdown",
   "metadata": {
    "id": "0788f42b"
   },
   "source": [
    "## Check the datatype of all the columns of Train, Test and Validation dataframes realted to X\n",
    "\n",
    "- Note - You are expected yo use dtype"
   ]
  },
  {
   "cell_type": "code",
   "execution_count": 78,
   "metadata": {
    "colab": {
     "base_uri": "https://localhost:8080/"
    },
    "executionInfo": {
     "elapsed": 4,
     "status": "ok",
     "timestamp": 1645688538514,
     "user": {
      "displayName": "Anand Sharma",
      "photoUrl": "https://lh3.googleusercontent.com/a-/AOh14GgGUoK9JeU7aspVqtif0DmXDU4_ZbP-HQf5O3V9d6k=s64",
      "userId": "10219635889505679537"
     },
     "user_tz": -330
    },
    "id": "bc79a316",
    "outputId": "7becd8f8-c9de-479e-9c9f-3701e167e5b1"
   },
   "outputs": [
    {
     "data": {
      "text/plain": [
       "cust_number                        int32\n",
       "buisness_year                      int64\n",
       "doc_id                             int64\n",
       "posting_date              datetime64[ns]\n",
       "due_in_date               datetime64[ns]\n",
       "baseline_create_date      datetime64[ns]\n",
       "converted_usd                    float64\n",
       "business_code_enc                  int32\n",
       "name_customer_enc                  int64\n",
       "cust_payment_terms_enc             int64\n",
       "dtype: object"
      ]
     },
     "execution_count": 78,
     "metadata": {},
     "output_type": "execute_result"
    }
   ],
   "source": [
    "X_train.dtypes"
   ]
  },
  {
   "cell_type": "code",
   "execution_count": 79,
   "metadata": {
    "colab": {
     "base_uri": "https://localhost:8080/"
    },
    "executionInfo": {
     "elapsed": 500,
     "status": "ok",
     "timestamp": 1645612790035,
     "user": {
      "displayName": "Anand Sharma",
      "photoUrl": "https://lh3.googleusercontent.com/a-/AOh14GgGUoK9JeU7aspVqtif0DmXDU4_ZbP-HQf5O3V9d6k=s64",
      "userId": "10219635889505679537"
     },
     "user_tz": -330
    },
    "id": "b33242d8",
    "outputId": "27de759e-fcc8-4ad3-f635-79fe1342fa59"
   },
   "outputs": [
    {
     "data": {
      "text/plain": [
       "cust_number                        int32\n",
       "buisness_year                      int64\n",
       "doc_id                             int64\n",
       "posting_date              datetime64[ns]\n",
       "due_in_date               datetime64[ns]\n",
       "baseline_create_date      datetime64[ns]\n",
       "converted_usd                    float64\n",
       "business_code_enc                  int32\n",
       "name_customer_enc                  int64\n",
       "cust_payment_terms_enc             int64\n",
       "dtype: object"
      ]
     },
     "execution_count": 79,
     "metadata": {},
     "output_type": "execute_result"
    }
   ],
   "source": [
    "X_test.dtypes"
   ]
  },
  {
   "cell_type": "code",
   "execution_count": 80,
   "metadata": {
    "colab": {
     "base_uri": "https://localhost:8080/"
    },
    "executionInfo": {
     "elapsed": 2,
     "status": "ok",
     "timestamp": 1645612799708,
     "user": {
      "displayName": "Anand Sharma",
      "photoUrl": "https://lh3.googleusercontent.com/a-/AOh14GgGUoK9JeU7aspVqtif0DmXDU4_ZbP-HQf5O3V9d6k=s64",
      "userId": "10219635889505679537"
     },
     "user_tz": -330
    },
    "id": "6bd4da71",
    "outputId": "1d01ce1e-f5a0-4225-d0f5-bc90dd848bee"
   },
   "outputs": [
    {
     "data": {
      "text/plain": [
       "cust_number                        int32\n",
       "buisness_year                      int64\n",
       "doc_id                             int64\n",
       "posting_date              datetime64[ns]\n",
       "due_in_date               datetime64[ns]\n",
       "baseline_create_date      datetime64[ns]\n",
       "converted_usd                    float64\n",
       "business_code_enc                  int32\n",
       "name_customer_enc                  int64\n",
       "cust_payment_terms_enc             int64\n",
       "dtype: object"
      ]
     },
     "execution_count": 80,
     "metadata": {},
     "output_type": "execute_result"
    }
   ],
   "source": [
    "X_val.dtypes"
   ]
  },
  {
   "cell_type": "markdown",
   "metadata": {
    "id": "LVfvuPiWPeMB"
   },
   "source": [
    "### From the above output you can notice their are multiple date columns with datetime format\n",
    "\n",
    "### In order to pass it into our model, we need to convert it into float format"
   ]
  },
  {
   "cell_type": "markdown",
   "metadata": {
    "id": "9d344db9"
   },
   "source": [
    "### You need to extract day, month and year from the \"posting_date\" column \n",
    "\n",
    "1.   Extract days from \"posting_date\" column and store it into a new column \"day_of_postingdate\" for train, test and validation dataset \n",
    "2.   Extract months from \"posting_date\" column and store it into a new column \"month_of_postingdate\" for train, test and validation dataset\n",
    "3.   Extract year from \"posting_date\" column and store it into a new column \"year_of_postingdate\" for train, test and validation dataset \n",
    "\n",
    "\n",
    "\n",
    "- Note - You are supposed yo use \n",
    "\n",
    "*   dt.day\n",
    "*   dt.month\n",
    "*   dt.year\n",
    "\n",
    "\n",
    "\n",
    "\n"
   ]
  },
  {
   "cell_type": "code",
   "execution_count": 81,
   "metadata": {
    "executionInfo": {
     "elapsed": 8,
     "status": "ok",
     "timestamp": 1645688567977,
     "user": {
      "displayName": "Anand Sharma",
      "photoUrl": "https://lh3.googleusercontent.com/a-/AOh14GgGUoK9JeU7aspVqtif0DmXDU4_ZbP-HQf5O3V9d6k=s64",
      "userId": "10219635889505679537"
     },
     "user_tz": -330
    },
    "id": "6e3cdfd6"
   },
   "outputs": [],
   "source": [
    "X_train['day_of_postingdate'] = X_train['posting_date'].dt.day\n",
    "X_train['month_of_postingdate'] = X_train['posting_date'].dt.month\n",
    "X_train['year_of_postingdate'] = X_train['posting_date'].dt.year\n",
    "\n",
    "X_val['day_of_postingdate'] = X_val['posting_date'].dt.day\n",
    "X_val['month_of_postingdate'] = X_val['posting_date'].dt.month\n",
    "X_val['year_of_postingdate'] = X_val['posting_date'].dt.year\n",
    "\n",
    "\n",
    "X_test['day_of_postingdate'] = X_test['posting_date'].dt.day\n",
    "X_test['month_of_postingdate'] = X_test['posting_date'].dt.month\n",
    "X_test['year_of_postingdate'] = X_test['posting_date'].dt.year\n",
    "\n"
   ]
  },
  {
   "cell_type": "markdown",
   "metadata": {
    "id": "GyI-F853Rxa7"
   },
   "source": [
    "### pass the \"posting_date\" column into the Custom function for train, test and validation dataset"
   ]
  },
  {
   "cell_type": "code",
   "execution_count": 82,
   "metadata": {
    "executionInfo": {
     "elapsed": 335,
     "status": "ok",
     "timestamp": 1645688577896,
     "user": {
      "displayName": "Anand Sharma",
      "photoUrl": "https://lh3.googleusercontent.com/a-/AOh14GgGUoK9JeU7aspVqtif0DmXDU4_ZbP-HQf5O3V9d6k=s64",
      "userId": "10219635889505679537"
     },
     "user_tz": -330
    },
    "id": "FQHtQkrnRx_V"
   },
   "outputs": [],
   "source": [
    "X_train ,X_val, X_test = custom(['posting_date'])"
   ]
  },
  {
   "cell_type": "markdown",
   "metadata": {
    "id": "GMnCaEcKReSw"
   },
   "source": [
    "### You need to extract day, month and year from the \"baseline_create_date\" column \n",
    "\n",
    "1.   Extract days from \"baseline_create_date\" column and store it into a new column \"day_of_createdate\" for train, test and validation dataset \n",
    "2.   Extract months from \"baseline_create_date\" column and store it into a new column \"month_of_createdate\" for train, test and validation dataset\n",
    "3.   Extract year from \"baseline_create_date\" column and store it into a new column \"year_of_createdate\" for train, test and validation dataset \n",
    "\n",
    "\n",
    "\n",
    "- Note - You are supposed yo use \n",
    "\n",
    "*   dt.day\n",
    "*   dt.month\n",
    "*   dt.year\n",
    "\n",
    "\n",
    "- Note - Do as it is been shown in the previous two code boxes"
   ]
  },
  {
   "cell_type": "markdown",
   "metadata": {
    "id": "ee4d83d0"
   },
   "source": [
    "### Extracting Day, Month, Year for 'baseline_create_date' column"
   ]
  },
  {
   "cell_type": "code",
   "execution_count": 83,
   "metadata": {
    "executionInfo": {
     "elapsed": 3,
     "status": "ok",
     "timestamp": 1645688697905,
     "user": {
      "displayName": "Anand Sharma",
      "photoUrl": "https://lh3.googleusercontent.com/a-/AOh14GgGUoK9JeU7aspVqtif0DmXDU4_ZbP-HQf5O3V9d6k=s64",
      "userId": "10219635889505679537"
     },
     "user_tz": -330
    },
    "id": "32b240e1"
   },
   "outputs": [],
   "source": [
    "X_train['day_of_createdate'] = X_train['baseline_create_date'].dt.day\n",
    "X_train['month_of_createdate'] = X_train['baseline_create_date'].dt.month\n",
    "X_train['year_of_createdate'] = X_train['baseline_create_date'].dt.year\n",
    "\n",
    "X_val['day_of_createdate'] = X_val['baseline_create_date'].dt.day\n",
    "X_val['month_of_createdate'] = X_val['baseline_create_date'].dt.month\n",
    "X_val['year_of_createdate'] = X_val['baseline_create_date'].dt.year\n",
    "\n",
    "\n",
    "X_test['day_of_createdate'] = X_test['baseline_create_date'].dt.day\n",
    "X_test['month_of_createdate'] = X_test['baseline_create_date'].dt.month\n",
    "X_test['year_of_createdate'] = X_test['baseline_create_date'].dt.year\n",
    "\n"
   ]
  },
  {
   "cell_type": "markdown",
   "metadata": {
    "id": "cFgwkS5rSDDs"
   },
   "source": [
    "### pass the \"baseline_create_date\" column into the Custom function for train, test and validation dataset"
   ]
  },
  {
   "cell_type": "code",
   "execution_count": 84,
   "metadata": {
    "executionInfo": {
     "elapsed": 328,
     "status": "ok",
     "timestamp": 1645688705516,
     "user": {
      "displayName": "Anand Sharma",
      "photoUrl": "https://lh3.googleusercontent.com/a-/AOh14GgGUoK9JeU7aspVqtif0DmXDU4_ZbP-HQf5O3V9d6k=s64",
      "userId": "10219635889505679537"
     },
     "user_tz": -330
    },
    "id": "RGYa2BEQSDg3"
   },
   "outputs": [],
   "source": [
    "X_train ,X_val, X_test = custom(['baseline_create_date'])"
   ]
  },
  {
   "cell_type": "markdown",
   "metadata": {
    "id": "77c7a0df"
   },
   "source": [
    "### You need to extract day, month and year from the \"due_in_date\" column \n",
    "\n",
    "1.   Extract days from \"due_in_date\" column and store it into a new column \"day_of_due\" for train, test and validation dataset \n",
    "2.   Extract months from \"due_in_date\" column and store it into a new column \"month_of_due\" for train, test and validation dataset\n",
    "3.   Extract year from \"due_in_date\" column and store it into a new column \"year_of_due\" for train, test and validation dataset \n",
    "\n",
    "\n",
    "\n",
    "- Note - You are supposed yo use \n",
    "\n",
    "*   dt.day\n",
    "*   dt.month\n",
    "*   dt.year\n",
    "\n",
    "- Note - Do as it is been shown in the previous code"
   ]
  },
  {
   "cell_type": "code",
   "execution_count": 85,
   "metadata": {
    "executionInfo": {
     "elapsed": 326,
     "status": "ok",
     "timestamp": 1645688749379,
     "user": {
      "displayName": "Anand Sharma",
      "photoUrl": "https://lh3.googleusercontent.com/a-/AOh14GgGUoK9JeU7aspVqtif0DmXDU4_ZbP-HQf5O3V9d6k=s64",
      "userId": "10219635889505679537"
     },
     "user_tz": -330
    },
    "id": "5c745547"
   },
   "outputs": [],
   "source": [
    "X_train['day_of_due'] = X_train['due_in_date'].dt.day\n",
    "X_train['month_of_due'] = X_train['due_in_date'].dt.month\n",
    "X_train['year_of_due'] = X_train['due_in_date'].dt.year\n",
    "\n",
    "X_val['day_of_due'] = X_val['due_in_date'].dt.day\n",
    "X_val['month_of_due'] = X_val['due_in_date'].dt.month\n",
    "X_val['year_of_due'] = X_val['due_in_date'].dt.year\n",
    "\n",
    "\n",
    "X_test['day_of_due'] = X_test['due_in_date'].dt.day\n",
    "X_test['month_of_due'] = X_test['due_in_date'].dt.month\n",
    "X_test['year_of_due'] = X_test['due_in_date'].dt.year\n",
    "\n"
   ]
  },
  {
   "cell_type": "markdown",
   "metadata": {
    "id": "FYLLzulGSvRd"
   },
   "source": [
    "pass the \"due_in_date\" column into the Custom function for train, test and validation dataset"
   ]
  },
  {
   "cell_type": "code",
   "execution_count": 86,
   "metadata": {
    "executionInfo": {
     "elapsed": 2,
     "status": "ok",
     "timestamp": 1645688753639,
     "user": {
      "displayName": "Anand Sharma",
      "photoUrl": "https://lh3.googleusercontent.com/a-/AOh14GgGUoK9JeU7aspVqtif0DmXDU4_ZbP-HQf5O3V9d6k=s64",
      "userId": "10219635889505679537"
     },
     "user_tz": -330
    },
    "id": "1-s6QuY9Svrh"
   },
   "outputs": [],
   "source": [
    "X_train ,X_val, X_test = custom(['due_in_date'])"
   ]
  },
  {
   "cell_type": "markdown",
   "metadata": {
    "id": "1ae5d052"
   },
   "source": [
    "### Check for the datatypes for train, test and validation set again\n",
    "\n",
    "- Note - all the data type should be in either int64 or float64 format \n"
   ]
  },
  {
   "cell_type": "code",
   "execution_count": 87,
   "metadata": {
    "colab": {
     "base_uri": "https://localhost:8080/"
    },
    "executionInfo": {
     "elapsed": 349,
     "status": "ok",
     "timestamp": 1645688756254,
     "user": {
      "displayName": "Anand Sharma",
      "photoUrl": "https://lh3.googleusercontent.com/a-/AOh14GgGUoK9JeU7aspVqtif0DmXDU4_ZbP-HQf5O3V9d6k=s64",
      "userId": "10219635889505679537"
     },
     "user_tz": -330
    },
    "id": "aee9d828",
    "outputId": "3681cf1f-5073-4fda-ff1c-0f1b67789596"
   },
   "outputs": [
    {
     "data": {
      "text/plain": [
       "cust_number                 int32\n",
       "buisness_year               int64\n",
       "doc_id                      int64\n",
       "converted_usd             float64\n",
       "business_code_enc           int32\n",
       "name_customer_enc           int64\n",
       "cust_payment_terms_enc      int64\n",
       "day_of_postingdate          int64\n",
       "month_of_postingdate        int64\n",
       "year_of_postingdate         int64\n",
       "day_of_createdate           int64\n",
       "month_of_createdate         int64\n",
       "year_of_createdate          int64\n",
       "day_of_due                  int64\n",
       "month_of_due                int64\n",
       "year_of_due                 int64\n",
       "dtype: object"
      ]
     },
     "execution_count": 87,
     "metadata": {},
     "output_type": "execute_result"
    }
   ],
   "source": [
    "X_train.dtypes"
   ]
  },
  {
   "cell_type": "code",
   "execution_count": 88,
   "metadata": {
    "colab": {
     "base_uri": "https://localhost:8080/"
    },
    "executionInfo": {
     "elapsed": 389,
     "status": "ok",
     "timestamp": 1645688767095,
     "user": {
      "displayName": "Anand Sharma",
      "photoUrl": "https://lh3.googleusercontent.com/a-/AOh14GgGUoK9JeU7aspVqtif0DmXDU4_ZbP-HQf5O3V9d6k=s64",
      "userId": "10219635889505679537"
     },
     "user_tz": -330
    },
    "id": "ObbF95Q3Ob4G",
    "outputId": "122f8be7-39d3-4577-9084-16ed3cc47ce9"
   },
   "outputs": [
    {
     "data": {
      "text/plain": [
       "cust_number                 int32\n",
       "buisness_year               int64\n",
       "doc_id                      int64\n",
       "converted_usd             float64\n",
       "business_code_enc           int32\n",
       "name_customer_enc           int64\n",
       "cust_payment_terms_enc      int64\n",
       "day_of_postingdate          int64\n",
       "month_of_postingdate        int64\n",
       "year_of_postingdate         int64\n",
       "day_of_createdate           int64\n",
       "month_of_createdate         int64\n",
       "year_of_createdate          int64\n",
       "day_of_due                  int64\n",
       "month_of_due                int64\n",
       "year_of_due                 int64\n",
       "dtype: object"
      ]
     },
     "execution_count": 88,
     "metadata": {},
     "output_type": "execute_result"
    }
   ],
   "source": [
    "X_test.dtypes"
   ]
  },
  {
   "cell_type": "code",
   "execution_count": 89,
   "metadata": {
    "colab": {
     "base_uri": "https://localhost:8080/"
    },
    "executionInfo": {
     "elapsed": 361,
     "status": "ok",
     "timestamp": 1645688770087,
     "user": {
      "displayName": "Anand Sharma",
      "photoUrl": "https://lh3.googleusercontent.com/a-/AOh14GgGUoK9JeU7aspVqtif0DmXDU4_ZbP-HQf5O3V9d6k=s64",
      "userId": "10219635889505679537"
     },
     "user_tz": -330
    },
    "id": "-QSKQva6ObYX",
    "outputId": "a169f194-faf2-43ed-c971-75eb09fae57e"
   },
   "outputs": [
    {
     "data": {
      "text/plain": [
       "cust_number                 int32\n",
       "buisness_year               int64\n",
       "doc_id                      int64\n",
       "converted_usd             float64\n",
       "business_code_enc           int32\n",
       "name_customer_enc           int64\n",
       "cust_payment_terms_enc      int64\n",
       "day_of_postingdate          int64\n",
       "month_of_postingdate        int64\n",
       "year_of_postingdate         int64\n",
       "day_of_createdate           int64\n",
       "month_of_createdate         int64\n",
       "year_of_createdate          int64\n",
       "day_of_due                  int64\n",
       "month_of_due                int64\n",
       "year_of_due                 int64\n",
       "dtype: object"
      ]
     },
     "execution_count": 89,
     "metadata": {},
     "output_type": "execute_result"
    }
   ],
   "source": [
    "X_val.dtypes"
   ]
  },
  {
   "cell_type": "markdown",
   "metadata": {
    "id": "65810f55"
   },
   "source": [
    "# Feature Selection"
   ]
  },
  {
   "cell_type": "markdown",
   "metadata": {
    "id": "4bb1ad9f"
   },
   "source": [
    "### Filter Method\n",
    "\n",
    "- Calling the VarianceThreshold Function \n",
    "- Note - Keep the code as it is, no need to change "
   ]
  },
  {
   "cell_type": "code",
   "execution_count": 90,
   "metadata": {
    "colab": {
     "base_uri": "https://localhost:8080/"
    },
    "executionInfo": {
     "elapsed": 511,
     "status": "ok",
     "timestamp": 1645688779204,
     "user": {
      "displayName": "Anand Sharma",
      "photoUrl": "https://lh3.googleusercontent.com/a-/AOh14GgGUoK9JeU7aspVqtif0DmXDU4_ZbP-HQf5O3V9d6k=s64",
      "userId": "10219635889505679537"
     },
     "user_tz": -330
    },
    "id": "e882509f",
    "outputId": "71407a77-9222-4bad-ed07-21d225b78b24"
   },
   "outputs": [
    {
     "data": {
      "text/plain": [
       "16"
      ]
     },
     "execution_count": 90,
     "metadata": {},
     "output_type": "execute_result"
    }
   ],
   "source": [
    "from sklearn.feature_selection import VarianceThreshold\n",
    "constant_filter = VarianceThreshold(threshold=0)\n",
    "constant_filter.fit(X_train)\n",
    "len(X_train.columns[constant_filter.get_support()])"
   ]
  },
  {
   "cell_type": "markdown",
   "metadata": {
    "id": "V9531H3jR-W2"
   },
   "source": [
    "- Note - Keep the code as it is, no need to change \n"
   ]
  },
  {
   "cell_type": "code",
   "execution_count": 91,
   "metadata": {
    "colab": {
     "base_uri": "https://localhost:8080/"
    },
    "executionInfo": {
     "elapsed": 338,
     "status": "ok",
     "timestamp": 1645688785405,
     "user": {
      "displayName": "Anand Sharma",
      "photoUrl": "https://lh3.googleusercontent.com/a-/AOh14GgGUoK9JeU7aspVqtif0DmXDU4_ZbP-HQf5O3V9d6k=s64",
      "userId": "10219635889505679537"
     },
     "user_tz": -330
    },
    "id": "c77c12e1",
    "outputId": "9a85369d-2d9b-4843-bfee-99631f9d8b1c"
   },
   "outputs": [
    {
     "name": "stdout",
     "output_type": "stream",
     "text": [
      "0\n"
     ]
    }
   ],
   "source": [
    "constant_columns = [column for column in X_train.columns\n",
    "                    if column not in X_train.columns[constant_filter.get_support()]]\n",
    "print(len(constant_columns))"
   ]
  },
  {
   "cell_type": "markdown",
   "metadata": {
    "id": "6d9b8610"
   },
   "source": [
    "- transpose the feature matrice\n",
    "- print the number of duplicated features\n",
    "- select the duplicated features columns names\n",
    "\n",
    "- Note - Keep the code as it is, no need to change \n"
   ]
  },
  {
   "cell_type": "code",
   "execution_count": 92,
   "metadata": {
    "colab": {
     "base_uri": "https://localhost:8080/"
    },
    "executionInfo": {
     "elapsed": 9779,
     "status": "ok",
     "timestamp": 1645688806288,
     "user": {
      "displayName": "Anand Sharma",
      "photoUrl": "https://lh3.googleusercontent.com/a-/AOh14GgGUoK9JeU7aspVqtif0DmXDU4_ZbP-HQf5O3V9d6k=s64",
      "userId": "10219635889505679537"
     },
     "user_tz": -330
    },
    "id": "0fb7db95",
    "outputId": "8870651a-524d-413b-e86e-45687990b4ec"
   },
   "outputs": [
    {
     "name": "stdout",
     "output_type": "stream",
     "text": [
      "0\n"
     ]
    }
   ],
   "source": [
    "x_train_T = X_train.T\n",
    "print(x_train_T.duplicated().sum())\n",
    "duplicated_columns = x_train_T[x_train_T.duplicated()].index.values"
   ]
  },
  {
   "cell_type": "markdown",
   "metadata": {
    "id": "510fa831"
   },
   "source": [
    "### Filtering depending upon correlation matrix value\n",
    "- We have created a function called handling correlation which is going to return fields based on the correlation matrix value with a threshold of 0.8\n",
    "\n",
    "- Note - Keep the code as it is, no need to change "
   ]
  },
  {
   "cell_type": "code",
   "execution_count": 93,
   "metadata": {
    "executionInfo": {
     "elapsed": 1,
     "status": "ok",
     "timestamp": 1645688812847,
     "user": {
      "displayName": "Anand Sharma",
      "photoUrl": "https://lh3.googleusercontent.com/a-/AOh14GgGUoK9JeU7aspVqtif0DmXDU4_ZbP-HQf5O3V9d6k=s64",
      "userId": "10219635889505679537"
     },
     "user_tz": -330
    },
    "id": "67731abc"
   },
   "outputs": [],
   "source": [
    "def handling_correlation(X_train,threshold=0.8):\n",
    "    corr_features = set()\n",
    "    corr_matrix = X_train.corr()\n",
    "    for i in range(len(corr_matrix .columns)):\n",
    "        for j in range(i):\n",
    "            if abs(corr_matrix.iloc[i, j]) >threshold:\n",
    "                colname = corr_matrix.columns[i]\n",
    "                corr_features.add(colname)\n",
    "    return list(corr_features)"
   ]
  },
  {
   "cell_type": "markdown",
   "metadata": {
    "id": "JaE_6qVgSXl3"
   },
   "source": [
    "- Note : Here we are trying to find out the relevant fields, from X_train\n",
    "- Please fill in the blanks to call handling_correlation() function with a threshold value of 0.85"
   ]
  },
  {
   "cell_type": "code",
   "execution_count": 94,
   "metadata": {
    "colab": {
     "base_uri": "https://localhost:8080/"
    },
    "executionInfo": {
     "elapsed": 344,
     "status": "ok",
     "timestamp": 1645688818500,
     "user": {
      "displayName": "Anand Sharma",
      "photoUrl": "https://lh3.googleusercontent.com/a-/AOh14GgGUoK9JeU7aspVqtif0DmXDU4_ZbP-HQf5O3V9d6k=s64",
      "userId": "10219635889505679537"
     },
     "user_tz": -330
    },
    "id": "dd91d1a2",
    "outputId": "4f64c95a-c87b-4df0-91ca-04013d3c5c5d"
   },
   "outputs": [
    {
     "data": {
      "text/plain": [
       "['month_of_due',\n",
       " 'year_of_createdate',\n",
       " 'day_of_createdate',\n",
       " 'year_of_due',\n",
       " 'year_of_postingdate']"
      ]
     },
     "execution_count": 94,
     "metadata": {},
     "output_type": "execute_result"
    }
   ],
   "source": [
    "train=X_train.copy()\n",
    "handling_correlation(train.copy(),0.85)"
   ]
  },
  {
   "cell_type": "markdown",
   "metadata": {
    "id": "154da511"
   },
   "source": [
    "### Heatmap for X_train\n",
    "\n",
    "- Note - Keep the code as it is, no need to change"
   ]
  },
  {
   "cell_type": "code",
   "execution_count": 95,
   "metadata": {
    "colab": {
     "base_uri": "https://localhost:8080/",
     "height": 859
    },
    "executionInfo": {
     "elapsed": 3136,
     "status": "ok",
     "timestamp": 1645688826326,
     "user": {
      "displayName": "Anand Sharma",
      "photoUrl": "https://lh3.googleusercontent.com/a-/AOh14GgGUoK9JeU7aspVqtif0DmXDU4_ZbP-HQf5O3V9d6k=s64",
      "userId": "10219635889505679537"
     },
     "user_tz": -330
    },
    "id": "2e8f2fe4",
    "outputId": "3f18bacc-27bc-4fec-b760-dae7e3ef75c9"
   },
   "outputs": [
    {
     "data": {
      "text/plain": [
       "<AxesSubplot:title={'center':'Pearson Correlation of Features'}>"
      ]
     },
     "execution_count": 95,
     "metadata": {},
     "output_type": "execute_result"
    },
    {
     "data": {
      "image/png": "[encoded data removed]",
      "text/plain": [
       "<Figure size 1008x864 with 2 Axes>"
      ]
     },
     "metadata": {
      "needs_background": "light"
     },
     "output_type": "display_data"
    }
   ],
   "source": [
    "colormap = plt.cm.RdBu\n",
    "plt.figure(figsize=(14,12))\n",
    "plt.title('Pearson Correlation of Features', y=1.05, size=20)\n",
    "sns.heatmap(X_train.merge(y_train , on = X_train.index ).corr(),linewidths=0.1,vmax=1.0, \n",
    "            square=True, cmap='gist_rainbow_r', linecolor='white', annot=True)"
   ]
  },
  {
   "cell_type": "markdown",
   "metadata": {
    "id": "e3b0d745"
   },
   "source": [
    "#### Calling variance threshold for threshold value = 0.8\n",
    "\n",
    "- Note -  Fill in the blanks to call the appropriate method"
   ]
  },
  {
   "cell_type": "code",
   "execution_count": 96,
   "metadata": {
    "colab": {
     "base_uri": "https://localhost:8080/"
    },
    "executionInfo": {
     "elapsed": 333,
     "status": "ok",
     "timestamp": 1645688844793,
     "user": {
      "displayName": "Anand Sharma",
      "photoUrl": "https://lh3.googleusercontent.com/a-/AOh14GgGUoK9JeU7aspVqtif0DmXDU4_ZbP-HQf5O3V9d6k=s64",
      "userId": "10219635889505679537"
     },
     "user_tz": -330
    },
    "id": "a9b2080f",
    "outputId": "a674e0f7-56d7-447f-caaf-25ffdb60ff04"
   },
   "outputs": [
    {
     "data": {
      "text/plain": [
       "VarianceThreshold(threshold=0.8)"
      ]
     },
     "execution_count": 96,
     "metadata": {},
     "output_type": "execute_result"
    }
   ],
   "source": [
    "from sklearn.feature_selection import VarianceThreshold\n",
    "sel = VarianceThreshold(0.8)\n",
    "sel.fit(X_train)"
   ]
  },
  {
   "cell_type": "code",
   "execution_count": 97,
   "metadata": {
    "colab": {
     "base_uri": "https://localhost:8080/"
    },
    "executionInfo": {
     "elapsed": 350,
     "status": "ok",
     "timestamp": 1645688848350,
     "user": {
      "displayName": "Anand Sharma",
      "photoUrl": "https://lh3.googleusercontent.com/a-/AOh14GgGUoK9JeU7aspVqtif0DmXDU4_ZbP-HQf5O3V9d6k=s64",
      "userId": "10219635889505679537"
     },
     "user_tz": -330
    },
    "id": "6cb8c3dc",
    "outputId": "dfe9cbd6-eac0-482e-9a87-266b5a3a7121"
   },
   "outputs": [
    {
     "data": {
      "text/plain": [
       "array([1.81954912e+15, 1.14757386e-01, 8.74254278e+16, 1.34173150e+09,\n",
       "       2.87927752e-01, 1.07015118e+06, 1.35481309e+02, 8.17239551e+01,\n",
       "       1.19389088e+01, 1.14798749e-01, 7.70243713e+01, 1.22619699e+01,\n",
       "       1.14937418e-01, 7.66173615e+01, 1.20665594e+01, 1.18125269e-01])"
      ]
     },
     "execution_count": 97,
     "metadata": {},
     "output_type": "execute_result"
    }
   ],
   "source": [
    "sel.variances_"
   ]
  },
  {
   "cell_type": "markdown",
   "metadata": {
    "id": "62633a84"
   },
   "source": [
    "### Features columns are \n",
    "- 'year_of_createdate' \n",
    "- 'year_of_due'\n",
    "- 'day_of_createdate'\n",
    "- 'year_of_postingdate'\n",
    "- 'month_of_due'\n",
    "- 'month_of_createdate'"
   ]
  },
  {
   "cell_type": "markdown",
   "metadata": {
    "id": "651f1ad0"
   },
   "source": [
    "# Modelling \n",
    "\n",
    "#### Now you need to compare with different machine learning models, and needs to find out the best predicted model\n",
    "\n",
    "- Linear Regression\n",
    "- Decision Tree Regression\n",
    "- Random Forest Regression\n",
    "- Support Vector Regression\n",
    "- Extreme Gradient Boost Regression "
   ]
  },
  {
   "cell_type": "markdown",
   "metadata": {
    "id": "PicEhSuUUOkt"
   },
   "source": [
    "### You need to make different blank list for different evaluation matrix \n",
    "\n",
    "- MSE\n",
    "- R2\n",
    "- Algorithm"
   ]
  },
  {
   "cell_type": "code",
   "execution_count": 98,
   "metadata": {
    "executionInfo": {
     "elapsed": 5,
     "status": "ok",
     "timestamp": 1645688858235,
     "user": {
      "displayName": "Anand Sharma",
      "photoUrl": "https://lh3.googleusercontent.com/a-/AOh14GgGUoK9JeU7aspVqtif0DmXDU4_ZbP-HQf5O3V9d6k=s64",
      "userId": "10219635889505679537"
     },
     "user_tz": -330
    },
    "id": "701e12b0"
   },
   "outputs": [],
   "source": [
    "MSE_Score = []\n",
    "R2_Score = []\n",
    "Algorithm = []\n",
    "from sklearn.metrics import mean_squared_error\n",
    "from sklearn.metrics import r2_score"
   ]
  },
  {
   "cell_type": "markdown",
   "metadata": {
    "id": "29310119"
   },
   "source": [
    "### You need to start with the baseline model Linear Regression\n",
    "\n",
    "- Step 1 : Call the Linear Regression from sklearn library\n",
    "- Step 2 : make an object of Linear Regression \n",
    "- Step 3 : fit the X_train and y_train dataframe into the object \n",
    "- Step 4 : Predict the output by passing the X_test Dataset into predict function\n",
    "\n",
    "\n",
    "\n",
    "\n",
    "- Note - Append the Algorithm name into the algorithm list for tracking purpose"
   ]
  },
  {
   "cell_type": "code",
   "execution_count": 99,
   "metadata": {
    "executionInfo": {
     "elapsed": 4,
     "status": "ok",
     "timestamp": 1645688862477,
     "user": {
      "displayName": "Anand Sharma",
      "photoUrl": "https://lh3.googleusercontent.com/a-/AOh14GgGUoK9JeU7aspVqtif0DmXDU4_ZbP-HQf5O3V9d6k=s64",
      "userId": "10219635889505679537"
     },
     "user_tz": -330
    },
    "id": "6bdea395"
   },
   "outputs": [],
   "source": [
    "from sklearn.linear_model import LinearRegression\n",
    "Algorithm.append('LinearRegression')\n",
    "regressor = LinearRegression()\n",
    "regressor.fit(X_train, y_train)\n",
    "predicted= regressor.predict(X_test)"
   ]
  },
  {
   "cell_type": "markdown",
   "metadata": {
    "id": "G02cpnBhXJ14"
   },
   "source": [
    "### Check for the \n",
    "\n",
    "- Mean Square Error\n",
    "- R Square Error \n",
    "\n",
    "for y_test and predicted dataset and store those data inside respective list for comparison "
   ]
  },
  {
   "cell_type": "code",
   "execution_count": 100,
   "metadata": {
    "executionInfo": {
     "elapsed": 336,
     "status": "ok",
     "timestamp": 1645688866823,
     "user": {
      "displayName": "Anand Sharma",
      "photoUrl": "https://lh3.googleusercontent.com/a-/AOh14GgGUoK9JeU7aspVqtif0DmXDU4_ZbP-HQf5O3V9d6k=s64",
      "userId": "10219635889505679537"
     },
     "user_tz": -330
    },
    "id": "0f69ca19"
   },
   "outputs": [],
   "source": [
    "MSE_Score.append(mean_squared_error(y_test, predicted))\n",
    "R2_Score.append(r2_score(y_test, predicted))"
   ]
  },
  {
   "cell_type": "markdown",
   "metadata": {
    "id": "CsmScbHjYMv1"
   },
   "source": [
    "### Check the same for the Validation set also "
   ]
  },
  {
   "cell_type": "code",
   "execution_count": 101,
   "metadata": {
    "colab": {
     "base_uri": "https://localhost:8080/"
    },
    "executionInfo": {
     "elapsed": 339,
     "status": "ok",
     "timestamp": 1645688873308,
     "user": {
      "displayName": "Anand Sharma",
      "photoUrl": "https://lh3.googleusercontent.com/a-/AOh14GgGUoK9JeU7aspVqtif0DmXDU4_ZbP-HQf5O3V9d6k=s64",
      "userId": "10219635889505679537"
     },
     "user_tz": -330
    },
    "id": "fe653295",
    "outputId": "0b4ac09a-26ce-4846-bf11-09c3c6b7bfcd"
   },
   "outputs": [
    {
     "data": {
      "text/plain": [
       "2412181.0593371433"
      ]
     },
     "execution_count": 101,
     "metadata": {},
     "output_type": "execute_result"
    }
   ],
   "source": [
    "predict_test= regressor.predict(X_val)\n",
    "mean_squared_error(y_val, predict_test, squared=False)"
   ]
  },
  {
   "cell_type": "markdown",
   "metadata": {
    "id": "LokxV2LGYUVh"
   },
   "source": [
    "### Display The Comparison Lists"
   ]
  },
  {
   "cell_type": "code",
   "execution_count": 102,
   "metadata": {
    "colab": {
     "base_uri": "https://localhost:8080/"
    },
    "executionInfo": {
     "elapsed": 328,
     "status": "ok",
     "timestamp": 1645688875978,
     "user": {
      "displayName": "Anand Sharma",
      "photoUrl": "https://lh3.googleusercontent.com/a-/AOh14GgGUoK9JeU7aspVqtif0DmXDU4_ZbP-HQf5O3V9d6k=s64",
      "userId": "10219635889505679537"
     },
     "user_tz": -330
    },
    "id": "9c405bd3",
    "outputId": "5a0c4daa-a3f1-4dae-c737-574bdd8d2f4c",
    "scrolled": true
   },
   "outputs": [
    {
     "name": "stdout",
     "output_type": "stream",
     "text": [
      "['LinearRegression'],[5239635614670.08],[0.041575299134509414],"
     ]
    }
   ],
   "source": [
    "for i in Algorithm, MSE_Score, R2_Score:\n",
    "    print(i,end=',')"
   ]
  },
  {
   "cell_type": "markdown",
   "metadata": {
    "id": "b0e65c86"
   },
   "source": [
    "### You need to start with the baseline model Support Vector Regression\n",
    "\n",
    "- Step 1 : Call the Support Vector Regressor from sklearn library\n",
    "- Step 2 : make an object of SVR\n",
    "- Step 3 : fit the X_train and y_train dataframe into the object \n",
    "- Step 4 : Predict the output by passing the X_test Dataset into predict function\n",
    "\n",
    "\n",
    "\n",
    "\n",
    "- Note - Append the Algorithm name into the algorithm list for tracking purpose"
   ]
  },
  {
   "cell_type": "code",
   "execution_count": 103,
   "metadata": {
    "colab": {
     "base_uri": "https://localhost:8080/"
    },
    "executionInfo": {
     "elapsed": 55609,
     "status": "ok",
     "timestamp": 1645688935368,
     "user": {
      "displayName": "Anand Sharma",
      "photoUrl": "https://lh3.googleusercontent.com/a-/AOh14GgGUoK9JeU7aspVqtif0DmXDU4_ZbP-HQf5O3V9d6k=s64",
      "userId": "10219635889505679537"
     },
     "user_tz": -330
    },
    "id": "ccb5de08",
    "outputId": "9f29b5bb-ff64-4be7-e106-26e5a617f497"
   },
   "outputs": [],
   "source": [
    "from sklearn.svm import SVR\n",
    "Algorithm.append('Support Vector Regression')\n",
    "regressor = SVR()\n",
    "regressor.fit(X_train, y_train)\n",
    "predicted= regressor.predict(X_test)"
   ]
  },
  {
   "cell_type": "markdown",
   "metadata": {
    "id": "zz9kcrViYt7e"
   },
   "source": [
    "### Check for the \n",
    "\n",
    "- Mean Square Error\n",
    "- R Square Error \n",
    "\n",
    "for \"y_test\" and \"predicted\" dataset and store those data inside respective list for comparison "
   ]
  },
  {
   "cell_type": "code",
   "execution_count": 104,
   "metadata": {
    "executionInfo": {
     "elapsed": 327,
     "status": "ok",
     "timestamp": 1645688945472,
     "user": {
      "displayName": "Anand Sharma",
      "photoUrl": "https://lh3.googleusercontent.com/a-/AOh14GgGUoK9JeU7aspVqtif0DmXDU4_ZbP-HQf5O3V9d6k=s64",
      "userId": "10219635889505679537"
     },
     "user_tz": -330
    },
    "id": "5bb9db76"
   },
   "outputs": [],
   "source": [
    "MSE_Score.append(mean_squared_error(y_test, predicted))\n",
    "R2_Score.append(r2_score(y_test, predicted))"
   ]
  },
  {
   "cell_type": "markdown",
   "metadata": {
    "id": "0YAxd8N9Y0hJ"
   },
   "source": [
    "### Check the same for the Validation set also "
   ]
  },
  {
   "cell_type": "code",
   "execution_count": 105,
   "metadata": {
    "colab": {
     "base_uri": "https://localhost:8080/"
    },
    "executionInfo": {
     "elapsed": 14770,
     "status": "ok",
     "timestamp": 1645688966213,
     "user": {
      "displayName": "Anand Sharma",
      "photoUrl": "https://lh3.googleusercontent.com/a-/AOh14GgGUoK9JeU7aspVqtif0DmXDU4_ZbP-HQf5O3V9d6k=s64",
      "userId": "10219635889505679537"
     },
     "user_tz": -330
    },
    "id": "d6ee71b1",
    "outputId": "e01951c1-e89c-4cf0-be57-044f4bd9716b"
   },
   "outputs": [
    {
     "data": {
      "text/plain": [
       "2479194.820008129"
      ]
     },
     "execution_count": 105,
     "metadata": {},
     "output_type": "execute_result"
    }
   ],
   "source": [
    "predict_test= regressor.predict(X_val)\n",
    "mean_squared_error(y_val, predict_test, squared=False)"
   ]
  },
  {
   "cell_type": "markdown",
   "metadata": {
    "id": "eGcqS5EcY4BI"
   },
   "source": [
    "### Display The Comparison Lists"
   ]
  },
  {
   "cell_type": "code",
   "execution_count": 106,
   "metadata": {
    "colab": {
     "base_uri": "https://localhost:8080/"
    },
    "executionInfo": {
     "elapsed": 2,
     "status": "ok",
     "timestamp": 1645688970229,
     "user": {
      "displayName": "Anand Sharma",
      "photoUrl": "https://lh3.googleusercontent.com/a-/AOh14GgGUoK9JeU7aspVqtif0DmXDU4_ZbP-HQf5O3V9d6k=s64",
      "userId": "10219635889505679537"
     },
     "user_tz": -330
    },
    "id": "aa72c1ec",
    "outputId": "b3b7a3e7-f54a-4693-9758-8a58ce15250c"
   },
   "outputs": [
    {
     "name": "stdout",
     "output_type": "stream",
     "text": [
      "['LinearRegression', 'Support Vector Regression'],[5239635614670.08, 5480938150995.953],[0.041575299134509414, -0.0025633258012955906],"
     ]
    }
   ],
   "source": [
    "for i in Algorithm, MSE_Score, R2_Score:\n",
    "    print(i,end=',')"
   ]
  },
  {
   "cell_type": "markdown",
   "metadata": {
    "id": "dad18bb3"
   },
   "source": [
    "### Your next model would be Decision Tree Regression\n",
    "\n",
    "- Step 1 : Call the Decision Tree Regressor from sklearn library\n",
    "- Step 2 : make an object of Decision Tree\n",
    "- Step 3 : fit the X_train and y_train dataframe into the object \n",
    "- Step 4 : Predict the output by passing the X_test Dataset into predict function\n",
    "\n",
    "\n",
    "\n",
    "\n",
    "- Note - Append the Algorithm name into the algorithm list for tracking purpose"
   ]
  },
  {
   "cell_type": "code",
   "execution_count": 107,
   "metadata": {
    "executionInfo": {
     "elapsed": 2,
     "status": "ok",
     "timestamp": 1645688977217,
     "user": {
      "displayName": "Anand Sharma",
      "photoUrl": "https://lh3.googleusercontent.com/a-/AOh14GgGUoK9JeU7aspVqtif0DmXDU4_ZbP-HQf5O3V9d6k=s64",
      "userId": "10219635889505679537"
     },
     "user_tz": -330
    },
    "id": "1b6a51eb"
   },
   "outputs": [],
   "source": [
    "from sklearn.tree import DecisionTreeRegressor\n",
    "Algorithm.append('Decision Tree Regressor')\n",
    "regressor = DecisionTreeRegressor()\n",
    "regressor.fit(X_train, y_train)\n",
    "predicted= regressor.predict(X_test)"
   ]
  },
  {
   "cell_type": "markdown",
   "metadata": {
    "id": "AOzfgfeOZo3F"
   },
   "source": [
    "### Check for the \n",
    "\n",
    "- Mean Square Error\n",
    "- R Square Error \n",
    "\n",
    "for y_test and predicted dataset and store those data inside respective list for comparison "
   ]
  },
  {
   "cell_type": "code",
   "execution_count": 108,
   "metadata": {
    "executionInfo": {
     "elapsed": 3,
     "status": "ok",
     "timestamp": 1645688984443,
     "user": {
      "displayName": "Anand Sharma",
      "photoUrl": "https://lh3.googleusercontent.com/a-/AOh14GgGUoK9JeU7aspVqtif0DmXDU4_ZbP-HQf5O3V9d6k=s64",
      "userId": "10219635889505679537"
     },
     "user_tz": -330
    },
    "id": "776e6983"
   },
   "outputs": [],
   "source": [
    "MSE_Score.append(mean_squared_error(y_test, predicted))\n",
    "R2_Score.append(r2_score(y_test, predicted))"
   ]
  },
  {
   "cell_type": "markdown",
   "metadata": {
    "id": "eI6d49DQZrhW"
   },
   "source": [
    "### Check the same for the Validation set also "
   ]
  },
  {
   "cell_type": "code",
   "execution_count": 109,
   "metadata": {
    "colab": {
     "base_uri": "https://localhost:8080/"
    },
    "executionInfo": {
     "elapsed": 2,
     "status": "ok",
     "timestamp": 1645688987717,
     "user": {
      "displayName": "Anand Sharma",
      "photoUrl": "https://lh3.googleusercontent.com/a-/AOh14GgGUoK9JeU7aspVqtif0DmXDU4_ZbP-HQf5O3V9d6k=s64",
      "userId": "10219635889505679537"
     },
     "user_tz": -330
    },
    "id": "155fb55c",
    "outputId": "1699d9df-3bb8-4657-aadd-728ffd3a0dfe"
   },
   "outputs": [
    {
     "data": {
      "text/plain": [
       "3193817.9150460064"
      ]
     },
     "execution_count": 109,
     "metadata": {},
     "output_type": "execute_result"
    }
   ],
   "source": [
    "predict_test= regressor.predict(X_val)\n",
    "mean_squared_error(y_val, predict_test, squared=False)"
   ]
  },
  {
   "cell_type": "markdown",
   "metadata": {
    "id": "sbGXvBLQZw5E"
   },
   "source": [
    "### Display The Comparison Lists"
   ]
  },
  {
   "cell_type": "code",
   "execution_count": 110,
   "metadata": {
    "colab": {
     "base_uri": "https://localhost:8080/"
    },
    "executionInfo": {
     "elapsed": 3,
     "status": "ok",
     "timestamp": 1645689006503,
     "user": {
      "displayName": "Anand Sharma",
      "photoUrl": "https://lh3.googleusercontent.com/a-/AOh14GgGUoK9JeU7aspVqtif0DmXDU4_ZbP-HQf5O3V9d6k=s64",
      "userId": "10219635889505679537"
     },
     "user_tz": -330
    },
    "id": "1d74d515",
    "outputId": "5c8ea5fb-5ba4-465e-d9e4-cd851413e4de"
   },
   "outputs": [
    {
     "name": "stdout",
     "output_type": "stream",
     "text": [
      "['LinearRegression', 'Support Vector Regression', 'Decision Tree Regressor'],[5239635614670.08, 5480938150995.953, 9803752940469.332],[0.041575299134509414, -0.0025633258012955906, -0.7932848141234978],"
     ]
    }
   ],
   "source": [
    "for i in Algorithm, MSE_Score, R2_Score:\n",
    "    print(i,end=',')"
   ]
  },
  {
   "cell_type": "markdown",
   "metadata": {
    "id": "4ae9979b"
   },
   "source": [
    "### Your next model would be Random Forest Regression\n",
    "\n",
    "- Step 1 : Call the Random Forest Regressor from sklearn library\n",
    "- Step 2 : make an object of Random Forest\n",
    "- Step 3 : fit the X_train and y_train dataframe into the object \n",
    "- Step 4 : Predict the output by passing the X_test Dataset into predict function\n",
    "\n",
    "\n",
    "\n",
    "\n",
    "- Note - Append the Algorithm name into the algorithm list for tracking purpose"
   ]
  },
  {
   "cell_type": "code",
   "execution_count": 111,
   "metadata": {
    "colab": {
     "base_uri": "https://localhost:8080/"
    },
    "executionInfo": {
     "elapsed": 14732,
     "status": "ok",
     "timestamp": 1645689024230,
     "user": {
      "displayName": "Anand Sharma",
      "photoUrl": "https://lh3.googleusercontent.com/a-/AOh14GgGUoK9JeU7aspVqtif0DmXDU4_ZbP-HQf5O3V9d6k=s64",
      "userId": "10219635889505679537"
     },
     "user_tz": -330
    },
    "id": "a69e476a",
    "outputId": "3d9f9eae-0dd2-4370-8268-feced9670fc3"
   },
   "outputs": [],
   "source": [
    "from sklearn.ensemble import RandomForestRegressor\n",
    "Algorithm.append('Random Forest Regressor')\n",
    "regressor = RandomForestRegressor()\n",
    "regressor.fit(X_train, y_train)\n",
    "predicted= regressor.predict(X_test)"
   ]
  },
  {
   "cell_type": "markdown",
   "metadata": {
    "id": "XNcEJF-6anof"
   },
   "source": [
    "### Check for the \n",
    "\n",
    "- Mean Square Error\n",
    "- R Square Error \n",
    "\n",
    "for y_test and predicted dataset and store those data inside respective list for comparison "
   ]
  },
  {
   "cell_type": "code",
   "execution_count": 112,
   "metadata": {
    "executionInfo": {
     "elapsed": 330,
     "status": "ok",
     "timestamp": 1645689028033,
     "user": {
      "displayName": "Anand Sharma",
      "photoUrl": "https://lh3.googleusercontent.com/a-/AOh14GgGUoK9JeU7aspVqtif0DmXDU4_ZbP-HQf5O3V9d6k=s64",
      "userId": "10219635889505679537"
     },
     "user_tz": -330
    },
    "id": "826f63f4"
   },
   "outputs": [],
   "source": [
    "MSE_Score.append(mean_squared_error(y_test, predicted))\n",
    "R2_Score.append(r2_score(y_test, predicted))"
   ]
  },
  {
   "cell_type": "markdown",
   "metadata": {
    "id": "yMbyr9V4ati1"
   },
   "source": [
    "### Check the same for the Validation set also "
   ]
  },
  {
   "cell_type": "code",
   "execution_count": 113,
   "metadata": {
    "colab": {
     "base_uri": "https://localhost:8080/"
    },
    "executionInfo": {
     "elapsed": 343,
     "status": "ok",
     "timestamp": 1645689031689,
     "user": {
      "displayName": "Anand Sharma",
      "photoUrl": "https://lh3.googleusercontent.com/a-/AOh14GgGUoK9JeU7aspVqtif0DmXDU4_ZbP-HQf5O3V9d6k=s64",
      "userId": "10219635889505679537"
     },
     "user_tz": -330
    },
    "id": "55b9fb54",
    "outputId": "3884607a-5085-49c8-ee37-55835be7df8a"
   },
   "outputs": [
    {
     "data": {
      "text/plain": [
       "2196890.095479931"
      ]
     },
     "execution_count": 113,
     "metadata": {},
     "output_type": "execute_result"
    }
   ],
   "source": [
    "predict_test= regressor.predict(X_val)\n",
    "mean_squared_error(y_val, predict_test, squared=False)"
   ]
  },
  {
   "cell_type": "markdown",
   "metadata": {
    "id": "tiBawcCsaw_Z"
   },
   "source": [
    "### Display The Comparison Lists\n"
   ]
  },
  {
   "cell_type": "code",
   "execution_count": 114,
   "metadata": {
    "colab": {
     "base_uri": "https://localhost:8080/"
    },
    "executionInfo": {
     "elapsed": 326,
     "status": "ok",
     "timestamp": 1645689035732,
     "user": {
      "displayName": "Anand Sharma",
      "photoUrl": "https://lh3.googleusercontent.com/a-/AOh14GgGUoK9JeU7aspVqtif0DmXDU4_ZbP-HQf5O3V9d6k=s64",
      "userId": "10219635889505679537"
     },
     "user_tz": -330
    },
    "id": "8277c13e",
    "outputId": "0b9f812b-e738-4d02-d411-53dd3a828f4f"
   },
   "outputs": [
    {
     "name": "stdout",
     "output_type": "stream",
     "text": [
      "['LinearRegression', 'Support Vector Regression', 'Decision Tree Regressor', 'Random Forest Regressor'],[5239635614670.08, 5480938150995.953, 9803752940469.332, 4417451130296.695],[0.041575299134509414, -0.0025633258012955906, -0.7932848141234978, 0.19196780282036463],"
     ]
    }
   ],
   "source": [
    "for i in Algorithm, MSE_Score, R2_Score:\n",
    "    print(i,end=',')"
   ]
  },
  {
   "cell_type": "markdown",
   "metadata": {
    "id": "e6b21881"
   },
   "source": [
    "### The last but not the least model would be XGBoost or Extreme Gradient Boost Regression\n",
    "\n",
    "- Step 1 : Call the XGBoost Regressor from xgb library\n",
    "- Step 2 : make an object of Xgboost\n",
    "- Step 3 : fit the X_train and y_train dataframe into the object \n",
    "- Step 4 : Predict the output by passing the X_test Dataset into predict function\n",
    "\n",
    "\n",
    "\n",
    "\n",
    "- Note - Append the Algorithm name into the algorithm list for tracking purpose### Extreme Gradient Boost Regression\n",
    "- Note -  No need to change the code "
   ]
  },
  {
   "cell_type": "code",
   "execution_count": 115,
   "metadata": {
    "colab": {
     "base_uri": "https://localhost:8080/"
    },
    "executionInfo": {
     "elapsed": 2068,
     "status": "ok",
     "timestamp": 1645689040624,
     "user": {
      "displayName": "Anand Sharma",
      "photoUrl": "https://lh3.googleusercontent.com/a-/AOh14GgGUoK9JeU7aspVqtif0DmXDU4_ZbP-HQf5O3V9d6k=s64",
      "userId": "10219635889505679537"
     },
     "user_tz": -330
    },
    "id": "705a38ec",
    "outputId": "80b11d24-8c17-4dd4-862e-1e303d0792f8"
   },
   "outputs": [],
   "source": [
    "import xgboost as xgb\n",
    "Algorithm.append('XGB Regressor')\n",
    "regressor = xgb.XGBRegressor()\n",
    "regressor.fit(X_train, y_train)\n",
    "predicted = regressor.predict(X_test)"
   ]
  },
  {
   "cell_type": "markdown",
   "metadata": {
    "id": "ierNZkb9bQDD"
   },
   "source": [
    "### Check for the \n",
    "\n",
    "- Mean Square Error\n",
    "- R Square Error \n",
    "\n",
    "for y_test and predicted dataset and store those data inside respective list for comparison "
   ]
  },
  {
   "cell_type": "code",
   "execution_count": 116,
   "metadata": {
    "executionInfo": {
     "elapsed": 317,
     "status": "ok",
     "timestamp": 1645689046141,
     "user": {
      "displayName": "Anand Sharma",
      "photoUrl": "https://lh3.googleusercontent.com/a-/AOh14GgGUoK9JeU7aspVqtif0DmXDU4_ZbP-HQf5O3V9d6k=s64",
      "userId": "10219635889505679537"
     },
     "user_tz": -330
    },
    "id": "507a9d2f"
   },
   "outputs": [],
   "source": [
    "MSE_Score.append(mean_squared_error(y_test, predicted))\n",
    "R2_Score.append(r2_score(y_test, predicted))"
   ]
  },
  {
   "cell_type": "markdown",
   "metadata": {
    "id": "84UZ2ojsbWaH"
   },
   "source": [
    "### Check the same for the Validation set also "
   ]
  },
  {
   "cell_type": "code",
   "execution_count": 117,
   "metadata": {
    "colab": {
     "base_uri": "https://localhost:8080/"
    },
    "executionInfo": {
     "elapsed": 339,
     "status": "ok",
     "timestamp": 1645689048697,
     "user": {
      "displayName": "Anand Sharma",
      "photoUrl": "https://lh3.googleusercontent.com/a-/AOh14GgGUoK9JeU7aspVqtif0DmXDU4_ZbP-HQf5O3V9d6k=s64",
      "userId": "10219635889505679537"
     },
     "user_tz": -330
    },
    "id": "e78ac250",
    "outputId": "ef2157fc-764d-4220-e280-c9bdea3509c0"
   },
   "outputs": [
    {
     "data": {
      "text/plain": [
       "2194300.742933261"
      ]
     },
     "execution_count": 117,
     "metadata": {},
     "output_type": "execute_result"
    }
   ],
   "source": [
    "predict_test= regressor.predict(X_val)\n",
    "mean_squared_error(y_val, predict_test, squared=False)"
   ]
  },
  {
   "cell_type": "markdown",
   "metadata": {
    "id": "9FJFyaVbbbAH"
   },
   "source": [
    "### Display The Comparison Lists\n"
   ]
  },
  {
   "cell_type": "code",
   "execution_count": 118,
   "metadata": {
    "colab": {
     "base_uri": "https://localhost:8080/"
    },
    "executionInfo": {
     "elapsed": 8,
     "status": "ok",
     "timestamp": 1645689051340,
     "user": {
      "displayName": "Anand Sharma",
      "photoUrl": "https://lh3.googleusercontent.com/a-/AOh14GgGUoK9JeU7aspVqtif0DmXDU4_ZbP-HQf5O3V9d6k=s64",
      "userId": "10219635889505679537"
     },
     "user_tz": -330
    },
    "id": "f765ba35",
    "outputId": "a7882d6e-81e0-4e03-c989-92fd6cb8157d"
   },
   "outputs": [
    {
     "name": "stdout",
     "output_type": "stream",
     "text": [
      "['LinearRegression', 'Support Vector Regression', 'Decision Tree Regressor', 'Random Forest Regressor', 'XGB Regressor'],[5239635614670.08, 5480938150995.953, 9803752940469.332, 4417451130296.695, 4360416216588.096],[0.041575299134509414, -0.0025633258012955906, -0.7932848141234978, 0.19196780282036463, 0.20240052641606754],"
     ]
    }
   ],
   "source": [
    "for i in Algorithm, MSE_Score, R2_Score:\n",
    "    print(i,end=',')"
   ]
  },
  {
   "cell_type": "markdown",
   "metadata": {
    "id": "a71bc90f"
   },
   "source": [
    "## You need to make the comparison list into a comparison dataframe "
   ]
  },
  {
   "cell_type": "code",
   "execution_count": 119,
   "metadata": {
    "executionInfo": {
     "elapsed": 323,
     "status": "ok",
     "timestamp": 1645689068883,
     "user": {
      "displayName": "Anand Sharma",
      "photoUrl": "https://lh3.googleusercontent.com/a-/AOh14GgGUoK9JeU7aspVqtif0DmXDU4_ZbP-HQf5O3V9d6k=s64",
      "userId": "10219635889505679537"
     },
     "user_tz": -330
    },
    "id": "ff5159a7"
   },
   "outputs": [],
   "source": [
    "comparison=pd.DataFrame(list(zip(Algorithm,MSE_Score,R2_Score)),columns=['Algorithm','MSE_Score','R2_Score'] )"
   ]
  },
  {
   "cell_type": "code",
   "execution_count": 120,
   "metadata": {
    "colab": {
     "base_uri": "https://localhost:8080/",
     "height": 213
    },
    "executionInfo": {
     "elapsed": 372,
     "status": "ok",
     "timestamp": 1645689071059,
     "user": {
      "displayName": "Anand Sharma",
      "photoUrl": "https://lh3.googleusercontent.com/a-/AOh14GgGUoK9JeU7aspVqtif0DmXDU4_ZbP-HQf5O3V9d6k=s64",
      "userId": "10219635889505679537"
     },
     "user_tz": -330
    },
    "id": "3OZwxd4jaTWB",
    "outputId": "638ac3e7-2f4e-42e7-ed4d-feaa0228230e"
   },
   "outputs": [
    {
     "data": {
      "text/html": [
       "<div>\n",
       "<style scoped>\n",
       "    .dataframe tbody tr th:only-of-type {\n",
       "        vertical-align: middle;\n",
       "    }\n",
       "\n",
       "    .dataframe tbody tr th {\n",
       "        vertical-align: top;\n",
       "    }\n",
       "\n",
       "    .dataframe thead th {\n",
       "        text-align: right;\n",
       "    }\n",
       "</style>\n",
       "<table border=\"1\" class=\"dataframe\">\n",
       "  <thead>\n",
       "    <tr style=\"text-align: right;\">\n",
       "      <th></th>\n",
       "      <th>Algorithm</th>\n",
       "      <th>MSE_Score</th>\n",
       "      <th>R2_Score</th>\n",
       "    </tr>\n",
       "  </thead>\n",
       "  <tbody>\n",
       "    <tr>\n",
       "      <th>0</th>\n",
       "      <td>LinearRegression</td>\n",
       "      <td>5.239636e+12</td>\n",
       "      <td>0.041575</td>\n",
       "    </tr>\n",
       "    <tr>\n",
       "      <th>1</th>\n",
       "      <td>Support Vector Regression</td>\n",
       "      <td>5.480938e+12</td>\n",
       "      <td>-0.002563</td>\n",
       "    </tr>\n",
       "    <tr>\n",
       "      <th>2</th>\n",
       "      <td>Decision Tree Regressor</td>\n",
       "      <td>9.803753e+12</td>\n",
       "      <td>-0.793285</td>\n",
       "    </tr>\n",
       "    <tr>\n",
       "      <th>3</th>\n",
       "      <td>Random Forest Regressor</td>\n",
       "      <td>4.417451e+12</td>\n",
       "      <td>0.191968</td>\n",
       "    </tr>\n",
       "    <tr>\n",
       "      <th>4</th>\n",
       "      <td>XGB Regressor</td>\n",
       "      <td>4.360416e+12</td>\n",
       "      <td>0.202401</td>\n",
       "    </tr>\n",
       "  </tbody>\n",
       "</table>\n",
       "</div>"
      ],
      "text/plain": [
       "                   Algorithm     MSE_Score  R2_Score\n",
       "0           LinearRegression  5.239636e+12  0.041575\n",
       "1  Support Vector Regression  5.480938e+12 -0.002563\n",
       "2    Decision Tree Regressor  9.803753e+12 -0.793285\n",
       "3    Random Forest Regressor  4.417451e+12  0.191968\n",
       "4              XGB Regressor  4.360416e+12  0.202401"
      ]
     },
     "execution_count": 120,
     "metadata": {},
     "output_type": "execute_result"
    }
   ],
   "source": [
    "comparison"
   ]
  },
  {
   "cell_type": "markdown",
   "metadata": {
    "id": "62e61c60"
   },
   "source": [
    "## Now from the Comparison table, you need to choose the best fit model\n",
    "\n",
    "- Step 1 - Fit X_train and y_train inside the model \n",
    "- Step 2 - Predict the X_test dataset\n",
    "- Step 3 - Predict the X_val dataset\n",
    "\n",
    "\n",
    "- Note - No need to change the code"
   ]
  },
  {
   "cell_type": "code",
   "execution_count": 121,
   "metadata": {
    "colab": {
     "base_uri": "https://localhost:8080/"
    },
    "executionInfo": {
     "elapsed": 2117,
     "status": "ok",
     "timestamp": 1645689094056,
     "user": {
      "displayName": "Anand Sharma",
      "photoUrl": "https://lh3.googleusercontent.com/a-/AOh14GgGUoK9JeU7aspVqtif0DmXDU4_ZbP-HQf5O3V9d6k=s64",
      "userId": "10219635889505679537"
     },
     "user_tz": -330
    },
    "id": "3e07c258",
    "outputId": "7152d3f1-8db7-4b8c-c110-ea073109d131"
   },
   "outputs": [],
   "source": [
    "regressorfinal = xgb.XGBRegressor()\n",
    "regressorfinal.fit(X_train, y_train)\n",
    "predictedfinal = regressorfinal.predict(X_test)\n",
    "predict_testfinal = regressorfinal.predict(X_val)"
   ]
  },
  {
   "cell_type": "code",
   "execution_count": 163,
   "metadata": {},
   "outputs": [],
   "source": [
    "import pickle\n",
    "filename = 'model.sav'\n",
    "pickle.dump(regressorfinal, open(filename, 'wb'))"
   ]
  },
  {
   "cell_type": "code",
   "execution_count": 164,
   "metadata": {},
   "outputs": [],
   "source": [
    "loaded_model = pickle.load(open(filename, 'rb'))\n",
    "result = loaded_model.score(X_test, y_test)"
   ]
  },
  {
   "cell_type": "code",
   "execution_count": 165,
   "metadata": {},
   "outputs": [
    {
     "name": "stdout",
     "output_type": "stream",
     "text": [
      "0.20240052641606754\n"
     ]
    }
   ],
   "source": [
    "print(result)"
   ]
  },
  {
   "cell_type": "markdown",
   "metadata": {
    "id": "8e4df6c4"
   },
   "source": [
    "### Calculate the Mean Square Error for test dataset\n",
    "\n",
    "- Note - No need to change the code"
   ]
  },
  {
   "cell_type": "code",
   "execution_count": 123,
   "metadata": {
    "colab": {
     "base_uri": "https://localhost:8080/"
    },
    "executionInfo": {
     "elapsed": 326,
     "status": "ok",
     "timestamp": 1645689098953,
     "user": {
      "displayName": "Anand Sharma",
      "photoUrl": "https://lh3.googleusercontent.com/a-/AOh14GgGUoK9JeU7aspVqtif0DmXDU4_ZbP-HQf5O3V9d6k=s64",
      "userId": "10219635889505679537"
     },
     "user_tz": -330
    },
    "id": "5fb466d0",
    "outputId": "db10870a-4a2b-45f6-cea5-d478e9b33d40"
   },
   "outputs": [
    {
     "data": {
      "text/plain": [
       "2088160.9652007425"
      ]
     },
     "execution_count": 123,
     "metadata": {},
     "output_type": "execute_result"
    }
   ],
   "source": [
    "mean_squared_error(y_test,predictedfinal,squared=False)"
   ]
  },
  {
   "cell_type": "markdown",
   "metadata": {
    "id": "ce27f87f"
   },
   "source": [
    "### Calculate the mean Square Error for validation dataset"
   ]
  },
  {
   "cell_type": "code",
   "execution_count": 124,
   "metadata": {
    "colab": {
     "base_uri": "https://localhost:8080/"
    },
    "executionInfo": {
     "elapsed": 3,
     "status": "ok",
     "timestamp": 1645689101872,
     "user": {
      "displayName": "Anand Sharma",
      "photoUrl": "https://lh3.googleusercontent.com/a-/AOh14GgGUoK9JeU7aspVqtif0DmXDU4_ZbP-HQf5O3V9d6k=s64",
      "userId": "10219635889505679537"
     },
     "user_tz": -330
    },
    "id": "b47978ea",
    "outputId": "b4eb2cc7-8a4c-4e8c-bd9d-e50252a98b1a"
   },
   "outputs": [
    {
     "data": {
      "text/plain": [
       "2194300.742933261"
      ]
     },
     "execution_count": 124,
     "metadata": {},
     "output_type": "execute_result"
    }
   ],
   "source": [
    "mean_squared_error(y_val,predict_testfinal,squared=False)"
   ]
  },
  {
   "cell_type": "markdown",
   "metadata": {
    "id": "30014dbd"
   },
   "source": [
    "### Calculate the R2 score for test"
   ]
  },
  {
   "cell_type": "code",
   "execution_count": 125,
   "metadata": {
    "colab": {
     "base_uri": "https://localhost:8080/"
    },
    "executionInfo": {
     "elapsed": 3,
     "status": "ok",
     "timestamp": 1645689105760,
     "user": {
      "displayName": "Anand Sharma",
      "photoUrl": "https://lh3.googleusercontent.com/a-/AOh14GgGUoK9JeU7aspVqtif0DmXDU4_ZbP-HQf5O3V9d6k=s64",
      "userId": "10219635889505679537"
     },
     "user_tz": -330
    },
    "id": "8a162737",
    "outputId": "811c2c50-a352-4260-fbee-9d0e0b1e7e39"
   },
   "outputs": [
    {
     "data": {
      "text/plain": [
       "0.20240052641606754"
      ]
     },
     "execution_count": 125,
     "metadata": {},
     "output_type": "execute_result"
    }
   ],
   "source": [
    "r2_score(y_test, predictedfinal)"
   ]
  },
  {
   "cell_type": "markdown",
   "metadata": {
    "id": "1c9853b0"
   },
   "source": [
    "### Calculate the R2 score for Validation"
   ]
  },
  {
   "cell_type": "code",
   "execution_count": 126,
   "metadata": {
    "colab": {
     "base_uri": "https://localhost:8080/"
    },
    "executionInfo": {
     "elapsed": 2,
     "status": "ok",
     "timestamp": 1645689108826,
     "user": {
      "displayName": "Anand Sharma",
      "photoUrl": "https://lh3.googleusercontent.com/a-/AOh14GgGUoK9JeU7aspVqtif0DmXDU4_ZbP-HQf5O3V9d6k=s64",
      "userId": "10219635889505679537"
     },
     "user_tz": -330
    },
    "id": "1a6dc77c",
    "outputId": "87343c64-7ea5-4714-f00e-6847aa5c67cc"
   },
   "outputs": [
    {
     "data": {
      "text/plain": [
       "0.21472227810570366"
      ]
     },
     "execution_count": 126,
     "metadata": {},
     "output_type": "execute_result"
    }
   ],
   "source": [
    "r2_score(y_val, predict_testfinal)"
   ]
  },
  {
   "cell_type": "markdown",
   "metadata": {
    "id": "499522d9"
   },
   "source": [
    "### Calculate the Accuracy for train Dataset "
   ]
  },
  {
   "cell_type": "code",
   "execution_count": 127,
   "metadata": {
    "id": "7a4f1ce8"
   },
   "outputs": [],
   "source": [
    "predict_train=regressorfinal.predict(X_train)"
   ]
  },
  {
   "cell_type": "code",
   "execution_count": 128,
   "metadata": {},
   "outputs": [
    {
     "name": "stdout",
     "output_type": "stream",
     "text": [
      "Accuracy :  65.35266069007622 %\n"
     ]
    }
   ],
   "source": [
    "print('Accuracy : ',(r2_score(y_train, predict_train))*100,'%')"
   ]
  },
  {
   "cell_type": "markdown",
   "metadata": {
    "id": "12a1c921"
   },
   "source": [
    "### Calculate the accuracy for validation"
   ]
  },
  {
   "cell_type": "code",
   "execution_count": 129,
   "metadata": {
    "colab": {
     "base_uri": "https://localhost:8080/"
    },
    "executionInfo": {
     "elapsed": 3,
     "status": "ok",
     "timestamp": 1645689146089,
     "user": {
      "displayName": "Anand Sharma",
      "photoUrl": "https://lh3.googleusercontent.com/a-/AOh14GgGUoK9JeU7aspVqtif0DmXDU4_ZbP-HQf5O3V9d6k=s64",
      "userId": "10219635889505679537"
     },
     "user_tz": -330
    },
    "id": "d2579b4f",
    "outputId": "407f970f-9be6-437d-e908-b2b912f83d7b"
   },
   "outputs": [
    {
     "name": "stdout",
     "output_type": "stream",
     "text": [
      "Accuracy :  21.472227810570367 %\n"
     ]
    }
   ],
   "source": [
    "print('Accuracy : ',(r2_score(y_val, predict_testfinal))*100,'%')"
   ]
  },
  {
   "cell_type": "markdown",
   "metadata": {
    "id": "79b82e84"
   },
   "source": [
    "### Calculate the accuracy for test"
   ]
  },
  {
   "cell_type": "code",
   "execution_count": 130,
   "metadata": {
    "colab": {
     "base_uri": "https://localhost:8080/"
    },
    "executionInfo": {
     "elapsed": 4,
     "status": "ok",
     "timestamp": 1645689149912,
     "user": {
      "displayName": "Anand Sharma",
      "photoUrl": "https://lh3.googleusercontent.com/a-/AOh14GgGUoK9JeU7aspVqtif0DmXDU4_ZbP-HQf5O3V9d6k=s64",
      "userId": "10219635889505679537"
     },
     "user_tz": -330
    },
    "id": "f09e6431",
    "outputId": "bab465a8-7c38-435d-e06f-53cfba41b97d"
   },
   "outputs": [
    {
     "name": "stdout",
     "output_type": "stream",
     "text": [
      "Accuracy :  20.240052641606752 %\n"
     ]
    }
   ],
   "source": [
    "print('Accuracy : ',(r2_score(y_test, predictedfinal))*100,'%')"
   ]
  },
  {
   "cell_type": "markdown",
   "metadata": {
    "id": "9488a5d9"
   },
   "source": [
    "# Specify the reason behind choosing your machine learning model \n",
    "\n",
    "- Note : Provide your answer as a text here\n",
    "\n",
    " I will select **XGB Regressor** model, because as you can see from the comparison table **XGB Regressor** has the **highest R2-Score** ,hence **highest Accuracy** and **lowest MSE_Score** hence **low bias**."
   ]
  },
  {
   "cell_type": "markdown",
   "metadata": {
    "id": "387a6519"
   },
   "source": [
    "## Now you need to pass the Nulldata dataframe into this machine learning model\n",
    "\n",
    "#### In order to pass this Nulldata dataframe into the ML model, we need to perform the following\n",
    "\n",
    "- Step 1 : Label Encoding \n",
    "- Step 2 : Day, Month and Year extraction \n",
    "- Step 3 : Change all the column data type into int64 or float64\n",
    "- Step 4 : Need to drop the useless columns "
   ]
  },
  {
   "cell_type": "markdown",
   "metadata": {
    "id": "I7JuxAkdiAdI"
   },
   "source": [
    "### Display the Nulldata "
   ]
  },
  {
   "cell_type": "code",
   "execution_count": 131,
   "metadata": {
    "colab": {
     "base_uri": "https://localhost:8080/",
     "height": 522
    },
    "executionInfo": {
     "elapsed": 356,
     "status": "ok",
     "timestamp": 1645689211569,
     "user": {
      "displayName": "Anand Sharma",
      "photoUrl": "https://lh3.googleusercontent.com/a-/AOh14GgGUoK9JeU7aspVqtif0DmXDU4_ZbP-HQf5O3V9d6k=s64",
      "userId": "10219635889505679537"
     },
     "user_tz": -330
    },
    "id": "6d6a51d2",
    "outputId": "e4b25c4d-fd05-4031-fa60-a468798483c0"
   },
   "outputs": [
    {
     "data": {
      "text/html": [
       "<div>\n",
       "<style scoped>\n",
       "    .dataframe tbody tr th:only-of-type {\n",
       "        vertical-align: middle;\n",
       "    }\n",
       "\n",
       "    .dataframe tbody tr th {\n",
       "        vertical-align: top;\n",
       "    }\n",
       "\n",
       "    .dataframe thead th {\n",
       "        text-align: right;\n",
       "    }\n",
       "</style>\n",
       "<table border=\"1\" class=\"dataframe\">\n",
       "  <thead>\n",
       "    <tr style=\"text-align: right;\">\n",
       "      <th></th>\n",
       "      <th>business_code</th>\n",
       "      <th>cust_number</th>\n",
       "      <th>name_customer</th>\n",
       "      <th>clear_date</th>\n",
       "      <th>buisness_year</th>\n",
       "      <th>doc_id</th>\n",
       "      <th>posting_date</th>\n",
       "      <th>due_in_date</th>\n",
       "      <th>baseline_create_date</th>\n",
       "      <th>cust_payment_terms</th>\n",
       "      <th>converted_usd</th>\n",
       "    </tr>\n",
       "  </thead>\n",
       "  <tbody>\n",
       "    <tr>\n",
       "      <th>3</th>\n",
       "      <td>CA02</td>\n",
       "      <td>140105686</td>\n",
       "      <td>SYSC llc</td>\n",
       "      <td>NaT</td>\n",
       "      <td>2020</td>\n",
       "      <td>2960623488</td>\n",
       "      <td>2020-03-30</td>\n",
       "      <td>2020-04-10</td>\n",
       "      <td>2020-03-31</td>\n",
       "      <td>CA10</td>\n",
       "      <td>2309.790</td>\n",
       "    </tr>\n",
       "    <tr>\n",
       "      <th>7</th>\n",
       "      <td>U001</td>\n",
       "      <td>200744019</td>\n",
       "      <td>TARG us</td>\n",
       "      <td>NaT</td>\n",
       "      <td>2020</td>\n",
       "      <td>1930659387</td>\n",
       "      <td>2020-03-19</td>\n",
       "      <td>2020-04-03</td>\n",
       "      <td>2020-03-19</td>\n",
       "      <td>NAA8</td>\n",
       "      <td>11173.020</td>\n",
       "    </tr>\n",
       "    <tr>\n",
       "      <th>10</th>\n",
       "      <td>U001</td>\n",
       "      <td>200418007</td>\n",
       "      <td>AM</td>\n",
       "      <td>NaT</td>\n",
       "      <td>2020</td>\n",
       "      <td>1930610806</td>\n",
       "      <td>2020-11-03</td>\n",
       "      <td>2020-03-26</td>\n",
       "      <td>2020-03-11</td>\n",
       "      <td>NAA8</td>\n",
       "      <td>3525.590</td>\n",
       "    </tr>\n",
       "    <tr>\n",
       "      <th>14</th>\n",
       "      <td>U001</td>\n",
       "      <td>200739534</td>\n",
       "      <td>OK systems</td>\n",
       "      <td>NaT</td>\n",
       "      <td>2020</td>\n",
       "      <td>1930788296</td>\n",
       "      <td>2020-04-15</td>\n",
       "      <td>2020-04-30</td>\n",
       "      <td>2020-04-15</td>\n",
       "      <td>NAA8</td>\n",
       "      <td>121105.650</td>\n",
       "    </tr>\n",
       "    <tr>\n",
       "      <th>15</th>\n",
       "      <td>U001</td>\n",
       "      <td>200353024</td>\n",
       "      <td>DECA corporation</td>\n",
       "      <td>NaT</td>\n",
       "      <td>2020</td>\n",
       "      <td>1930817482</td>\n",
       "      <td>2020-04-23</td>\n",
       "      <td>2020-04-26</td>\n",
       "      <td>2020-04-16</td>\n",
       "      <td>NAM2</td>\n",
       "      <td>3726.060</td>\n",
       "    </tr>\n",
       "    <tr>\n",
       "      <th>...</th>\n",
       "      <td>...</td>\n",
       "      <td>...</td>\n",
       "      <td>...</td>\n",
       "      <td>...</td>\n",
       "      <td>...</td>\n",
       "      <td>...</td>\n",
       "      <td>...</td>\n",
       "      <td>...</td>\n",
       "      <td>...</td>\n",
       "      <td>...</td>\n",
       "      <td>...</td>\n",
       "    </tr>\n",
       "    <tr>\n",
       "      <th>50094</th>\n",
       "      <td>CA02</td>\n",
       "      <td>140106408</td>\n",
       "      <td>WAL-M corp</td>\n",
       "      <td>NaT</td>\n",
       "      <td>2020</td>\n",
       "      <td>2960618884</td>\n",
       "      <td>2020-06-03</td>\n",
       "      <td>2020-03-16</td>\n",
       "      <td>2020-03-06</td>\n",
       "      <td>CA10</td>\n",
       "      <td>64982.589</td>\n",
       "    </tr>\n",
       "    <tr>\n",
       "      <th>50095</th>\n",
       "      <td>CA02</td>\n",
       "      <td>140106408</td>\n",
       "      <td>WAL-M corp</td>\n",
       "      <td>NaT</td>\n",
       "      <td>2020</td>\n",
       "      <td>2960618885</td>\n",
       "      <td>2020-06-03</td>\n",
       "      <td>2020-03-16</td>\n",
       "      <td>2020-03-06</td>\n",
       "      <td>CA10</td>\n",
       "      <td>64982.589</td>\n",
       "    </tr>\n",
       "    <tr>\n",
       "      <th>50096</th>\n",
       "      <td>CA02</td>\n",
       "      <td>140106408</td>\n",
       "      <td>WAL-M corp</td>\n",
       "      <td>NaT</td>\n",
       "      <td>2020</td>\n",
       "      <td>2960618886</td>\n",
       "      <td>2020-06-03</td>\n",
       "      <td>2020-03-16</td>\n",
       "      <td>2020-03-06</td>\n",
       "      <td>CA10</td>\n",
       "      <td>64982.589</td>\n",
       "    </tr>\n",
       "    <tr>\n",
       "      <th>50097</th>\n",
       "      <td>CA02</td>\n",
       "      <td>140106408</td>\n",
       "      <td>WAL-M corp</td>\n",
       "      <td>NaT</td>\n",
       "      <td>2020</td>\n",
       "      <td>2960618887</td>\n",
       "      <td>2020-06-03</td>\n",
       "      <td>2020-03-16</td>\n",
       "      <td>2020-03-06</td>\n",
       "      <td>CA10</td>\n",
       "      <td>64982.589</td>\n",
       "    </tr>\n",
       "    <tr>\n",
       "      <th>50098</th>\n",
       "      <td>CA02</td>\n",
       "      <td>140106408</td>\n",
       "      <td>WAL-M corp</td>\n",
       "      <td>NaT</td>\n",
       "      <td>2020</td>\n",
       "      <td>2960618888</td>\n",
       "      <td>2020-06-03</td>\n",
       "      <td>2020-03-16</td>\n",
       "      <td>2020-03-06</td>\n",
       "      <td>CA10</td>\n",
       "      <td>64982.589</td>\n",
       "    </tr>\n",
       "  </tbody>\n",
       "</table>\n",
       "<p>9779 rows × 11 columns</p>\n",
       "</div>"
      ],
      "text/plain": [
       "      business_code cust_number     name_customer clear_date  buisness_year  \\\n",
       "3              CA02   140105686          SYSC llc        NaT           2020   \n",
       "7              U001   200744019           TARG us        NaT           2020   \n",
       "10             U001   200418007               AM         NaT           2020   \n",
       "14             U001   200739534        OK systems        NaT           2020   \n",
       "15             U001   200353024  DECA corporation        NaT           2020   \n",
       "...             ...         ...               ...        ...            ...   \n",
       "50094          CA02   140106408        WAL-M corp        NaT           2020   \n",
       "50095          CA02   140106408        WAL-M corp        NaT           2020   \n",
       "50096          CA02   140106408        WAL-M corp        NaT           2020   \n",
       "50097          CA02   140106408        WAL-M corp        NaT           2020   \n",
       "50098          CA02   140106408        WAL-M corp        NaT           2020   \n",
       "\n",
       "           doc_id posting_date due_in_date baseline_create_date  \\\n",
       "3      2960623488   2020-03-30  2020-04-10           2020-03-31   \n",
       "7      1930659387   2020-03-19  2020-04-03           2020-03-19   \n",
       "10     1930610806   2020-11-03  2020-03-26           2020-03-11   \n",
       "14     1930788296   2020-04-15  2020-04-30           2020-04-15   \n",
       "15     1930817482   2020-04-23  2020-04-26           2020-04-16   \n",
       "...           ...          ...         ...                  ...   \n",
       "50094  2960618884   2020-06-03  2020-03-16           2020-03-06   \n",
       "50095  2960618885   2020-06-03  2020-03-16           2020-03-06   \n",
       "50096  2960618886   2020-06-03  2020-03-16           2020-03-06   \n",
       "50097  2960618887   2020-06-03  2020-03-16           2020-03-06   \n",
       "50098  2960618888   2020-06-03  2020-03-16           2020-03-06   \n",
       "\n",
       "      cust_payment_terms  converted_usd  \n",
       "3                   CA10       2309.790  \n",
       "7                   NAA8      11173.020  \n",
       "10                  NAA8       3525.590  \n",
       "14                  NAA8     121105.650  \n",
       "15                  NAM2       3726.060  \n",
       "...                  ...            ...  \n",
       "50094               CA10      64982.589  \n",
       "50095               CA10      64982.589  \n",
       "50096               CA10      64982.589  \n",
       "50097               CA10      64982.589  \n",
       "50098               CA10      64982.589  \n",
       "\n",
       "[9779 rows x 11 columns]"
      ]
     },
     "execution_count": 131,
     "metadata": {},
     "output_type": "execute_result"
    }
   ],
   "source": [
    "nulldata"
   ]
  },
  {
   "cell_type": "markdown",
   "metadata": {
    "id": "Vamx5xqtiHCH"
   },
   "source": [
    "### Check for the number of rows and columns in the nulldata"
   ]
  },
  {
   "cell_type": "code",
   "execution_count": 132,
   "metadata": {
    "colab": {
     "base_uri": "https://localhost:8080/"
    },
    "executionInfo": {
     "elapsed": 325,
     "status": "ok",
     "timestamp": 1645689236055,
     "user": {
      "displayName": "Anand Sharma",
      "photoUrl": "https://lh3.googleusercontent.com/a-/AOh14GgGUoK9JeU7aspVqtif0DmXDU4_ZbP-HQf5O3V9d6k=s64",
      "userId": "10219635889505679537"
     },
     "user_tz": -330
    },
    "id": "59de1092",
    "outputId": "ea42e312-f595-4313-8b6f-97cec2046112"
   },
   "outputs": [
    {
     "name": "stdout",
     "output_type": "stream",
     "text": [
      "Rows :  9779 \n",
      "Columns :  11\n"
     ]
    }
   ],
   "source": [
    "ctr_rows_cols(nulldata)"
   ]
  },
  {
   "cell_type": "markdown",
   "metadata": {
    "id": "BxzHNbBjpqXL"
   },
   "source": [
    "### Check the Description and Information of the nulldata "
   ]
  },
  {
   "cell_type": "code",
   "execution_count": 133,
   "metadata": {
    "colab": {
     "base_uri": "https://localhost:8080/",
     "height": 300
    },
    "executionInfo": {
     "elapsed": 490,
     "status": "ok",
     "timestamp": 1645618702531,
     "user": {
      "displayName": "Anand Sharma",
      "photoUrl": "https://lh3.googleusercontent.com/a-/AOh14GgGUoK9JeU7aspVqtif0DmXDU4_ZbP-HQf5O3V9d6k=s64",
      "userId": "10219635889505679537"
     },
     "user_tz": -330
    },
    "id": "a6294d29",
    "outputId": "8797534e-c2ab-4496-c9ff-9fb059517e85"
   },
   "outputs": [
    {
     "data": {
      "text/html": [
       "<div>\n",
       "<style scoped>\n",
       "    .dataframe tbody tr th:only-of-type {\n",
       "        vertical-align: middle;\n",
       "    }\n",
       "\n",
       "    .dataframe tbody tr th {\n",
       "        vertical-align: top;\n",
       "    }\n",
       "\n",
       "    .dataframe thead th {\n",
       "        text-align: right;\n",
       "    }\n",
       "</style>\n",
       "<table border=\"1\" class=\"dataframe\">\n",
       "  <thead>\n",
       "    <tr style=\"text-align: right;\">\n",
       "      <th></th>\n",
       "      <th>buisness_year</th>\n",
       "      <th>doc_id</th>\n",
       "      <th>converted_usd</th>\n",
       "    </tr>\n",
       "  </thead>\n",
       "  <tbody>\n",
       "    <tr>\n",
       "      <th>count</th>\n",
       "      <td>9779.0</td>\n",
       "      <td>9.779000e+03</td>\n",
       "      <td>9779.000000</td>\n",
       "    </tr>\n",
       "    <tr>\n",
       "      <th>mean</th>\n",
       "      <td>2020.0</td>\n",
       "      <td>2.015730e+09</td>\n",
       "      <td>32395.557081</td>\n",
       "    </tr>\n",
       "    <tr>\n",
       "      <th>std</th>\n",
       "      <td>0.0</td>\n",
       "      <td>2.824983e+08</td>\n",
       "      <td>35393.870859</td>\n",
       "    </tr>\n",
       "    <tr>\n",
       "      <th>min</th>\n",
       "      <td>2020.0</td>\n",
       "      <td>1.930535e+09</td>\n",
       "      <td>0.720000</td>\n",
       "    </tr>\n",
       "    <tr>\n",
       "      <th>25%</th>\n",
       "      <td>2020.0</td>\n",
       "      <td>1.930660e+09</td>\n",
       "      <td>5731.950000</td>\n",
       "    </tr>\n",
       "    <tr>\n",
       "      <th>50%</th>\n",
       "      <td>2020.0</td>\n",
       "      <td>1.930732e+09</td>\n",
       "      <td>19403.930000</td>\n",
       "    </tr>\n",
       "    <tr>\n",
       "      <th>75%</th>\n",
       "      <td>2020.0</td>\n",
       "      <td>1.930821e+09</td>\n",
       "      <td>48806.640000</td>\n",
       "    </tr>\n",
       "    <tr>\n",
       "      <th>max</th>\n",
       "      <td>2020.0</td>\n",
       "      <td>2.960636e+09</td>\n",
       "      <td>653644.800000</td>\n",
       "    </tr>\n",
       "  </tbody>\n",
       "</table>\n",
       "</div>"
      ],
      "text/plain": [
       "       buisness_year        doc_id  converted_usd\n",
       "count         9779.0  9.779000e+03    9779.000000\n",
       "mean          2020.0  2.015730e+09   32395.557081\n",
       "std              0.0  2.824983e+08   35393.870859\n",
       "min           2020.0  1.930535e+09       0.720000\n",
       "25%           2020.0  1.930660e+09    5731.950000\n",
       "50%           2020.0  1.930732e+09   19403.930000\n",
       "75%           2020.0  1.930821e+09   48806.640000\n",
       "max           2020.0  2.960636e+09  653644.800000"
      ]
     },
     "execution_count": 133,
     "metadata": {},
     "output_type": "execute_result"
    }
   ],
   "source": [
    "nulldata.describe()"
   ]
  },
  {
   "cell_type": "code",
   "execution_count": 134,
   "metadata": {
    "colab": {
     "base_uri": "https://localhost:8080/"
    },
    "executionInfo": {
     "elapsed": 327,
     "status": "ok",
     "timestamp": 1645689298330,
     "user": {
      "displayName": "Anand Sharma",
      "photoUrl": "https://lh3.googleusercontent.com/a-/AOh14GgGUoK9JeU7aspVqtif0DmXDU4_ZbP-HQf5O3V9d6k=s64",
      "userId": "10219635889505679537"
     },
     "user_tz": -330
    },
    "id": "MQtTjVDbhLXk",
    "outputId": "dfa22d29-8746-4121-cde8-7a25c70d826b"
   },
   "outputs": [
    {
     "name": "stdout",
     "output_type": "stream",
     "text": [
      "<class 'pandas.core.frame.DataFrame'>\n",
      "Int64Index: 9779 entries, 3 to 50098\n",
      "Data columns (total 11 columns):\n",
      " #   Column                Non-Null Count  Dtype         \n",
      "---  ------                --------------  -----         \n",
      " 0   business_code         9779 non-null   object        \n",
      " 1   cust_number           9779 non-null   object        \n",
      " 2   name_customer         9779 non-null   object        \n",
      " 3   clear_date            0 non-null      datetime64[ns]\n",
      " 4   buisness_year         9779 non-null   int64         \n",
      " 5   doc_id                9779 non-null   int64         \n",
      " 6   posting_date          9779 non-null   datetime64[ns]\n",
      " 7   due_in_date           9779 non-null   datetime64[ns]\n",
      " 8   baseline_create_date  9779 non-null   datetime64[ns]\n",
      " 9   cust_payment_terms    9779 non-null   object        \n",
      " 10  converted_usd         9779 non-null   float64       \n",
      "dtypes: datetime64[ns](4), float64(1), int64(2), object(4)\n",
      "memory usage: 916.8+ KB\n"
     ]
    }
   ],
   "source": [
    "nulldata.info()"
   ]
  },
  {
   "cell_type": "markdown",
   "metadata": {
    "id": "fe860d94"
   },
   "source": [
    "### Storing the Nulldata into a different dataset \n",
    "# for BACKUP"
   ]
  },
  {
   "cell_type": "code",
   "execution_count": 135,
   "metadata": {
    "executionInfo": {
     "elapsed": 1068,
     "status": "ok",
     "timestamp": 1645689317031,
     "user": {
      "displayName": "Anand Sharma",
      "photoUrl": "https://lh3.googleusercontent.com/a-/AOh14GgGUoK9JeU7aspVqtif0DmXDU4_ZbP-HQf5O3V9d6k=s64",
      "userId": "10219635889505679537"
     },
     "user_tz": -330
    },
    "id": "16352034"
   },
   "outputs": [],
   "source": [
    "nulldata_backup=nulldata.copy()"
   ]
  },
  {
   "cell_type": "markdown",
   "metadata": {
    "id": "00f35b8c"
   },
   "source": [
    "### Call the Label Encoder for Nulldata\n",
    "\n",
    "- Note - you are expected to fit \"business_code\" as it is a categorical variable\n",
    "- Note - No need to change the code"
   ]
  },
  {
   "cell_type": "code",
   "execution_count": 136,
   "metadata": {
    "executionInfo": {
     "elapsed": 11,
     "status": "ok",
     "timestamp": 1645689327829,
     "user": {
      "displayName": "Anand Sharma",
      "photoUrl": "https://lh3.googleusercontent.com/a-/AOh14GgGUoK9JeU7aspVqtif0DmXDU4_ZbP-HQf5O3V9d6k=s64",
      "userId": "10219635889505679537"
     },
     "user_tz": -330
    },
    "id": "baf04b17"
   },
   "outputs": [],
   "source": [
    "from sklearn.preprocessing import LabelEncoder\n",
    "business_codern = LabelEncoder()\n",
    "business_codern.fit(nulldata['business_code'])\n",
    "nulldata['business_code_enc'] = business_codern.transform(nulldata['business_code'])"
   ]
  },
  {
   "cell_type": "markdown",
   "metadata": {
    "id": "ZCPBK9karIR-"
   },
   "source": [
    "### Now you need to manually replacing str values with numbers\n",
    "- Note - No need to change the code"
   ]
  },
  {
   "cell_type": "code",
   "execution_count": 137,
   "metadata": {
    "executionInfo": {
     "elapsed": 325,
     "status": "ok",
     "timestamp": 1645689336520,
     "user": {
      "displayName": "Anand Sharma",
      "photoUrl": "https://lh3.googleusercontent.com/a-/AOh14GgGUoK9JeU7aspVqtif0DmXDU4_ZbP-HQf5O3V9d6k=s64",
      "userId": "10219635889505679537"
     },
     "user_tz": -330
    },
    "id": "c64924be"
   },
   "outputs": [],
   "source": [
    "nulldata['cust_number'] = nulldata['cust_number'].str.replace('CCCA',\"1\").str.replace('CCU',\"2\").str.replace('CC',\"3\").astype(int)"
   ]
  },
  {
   "cell_type": "markdown",
   "metadata": {
    "id": "9a55f5f6"
   },
   "source": [
    "## You need to extract day, month and year from the \"clear_date\", \"posting_date\", \"due_in_date\", \"baseline_create_date\" columns\n",
    "\n",
    "\n",
    "##### 1.   Extract day from \"clear_date\" column and store it into 'day_of_cleardate'\n",
    "##### 2.   Extract month from \"clear_date\" column and store it into 'month_of_cleardate'\n",
    "##### 3.   Extract year from \"clear_date\" column and store it into 'year_of_cleardate'\n",
    "\n",
    "\n",
    "\n",
    "##### 4.   Extract day from \"posting_date\" column and store it into 'day_of_postingdate'\n",
    "##### 5.   Extract month from \"posting_date\" column and store it into 'month_of_postingdate'\n",
    "##### 6.   Extract year from \"posting_date\" column and store it into 'year_of_postingdate'\n",
    "\n",
    "\n",
    "\n",
    "\n",
    "##### 7.   Extract day from \"due_in_date\" column and store it into 'day_of_due'\n",
    "##### 8.   Extract month from \"due_in_date\" column and store it into 'month_of_due'\n",
    "##### 9.   Extract year from \"due_in_date\" column and store it into 'year_of_due'\n",
    "\n",
    "\n",
    "\n",
    "\n",
    "##### 10.   Extract day from \"baseline_create_date\" column and store it into 'day_of_createdate'\n",
    "##### 11.   Extract month from \"baseline_create_date\" column and store it into 'month_of_createdate'\n",
    "##### 12.   Extract year from \"baseline_create_date\" column and store it into 'year_of_createdate'\n",
    "\n",
    "\n",
    "\n",
    "\n",
    "- Note - You are supposed To use - \n",
    "\n",
    "*   dt.day\n",
    "*   dt.month\n",
    "*   dt.year"
   ]
  },
  {
   "cell_type": "code",
   "execution_count": 138,
   "metadata": {
    "executionInfo": {
     "elapsed": 318,
     "status": "ok",
     "timestamp": 1645689358877,
     "user": {
      "displayName": "Anand Sharma",
      "photoUrl": "https://lh3.googleusercontent.com/a-/AOh14GgGUoK9JeU7aspVqtif0DmXDU4_ZbP-HQf5O3V9d6k=s64",
      "userId": "10219635889505679537"
     },
     "user_tz": -330
    },
    "id": "4166fbe4"
   },
   "outputs": [],
   "source": [
    "nulldata['day_of_cleardate'] = nulldata['clear_date'].dt.day\n",
    "nulldata['month_of_cleardate'] = nulldata['clear_date'].dt.month\n",
    "nulldata['year_of_cleardate'] = nulldata['clear_date'].dt.year\n",
    "\n",
    "nulldata['day_of_postingdate'] = nulldata['posting_date'].dt.day\n",
    "nulldata['month_of_postingdate'] = nulldata['posting_date'].dt.month\n",
    "nulldata['year_of_postingdate'] = nulldata['posting_date'].dt.year\n",
    "\n",
    "nulldata['day_of_due'] = nulldata['due_in_date'].dt.day\n",
    "nulldata['month_of_due'] = nulldata['due_in_date'].dt.month\n",
    "nulldata['year_of_due'] = nulldata['due_in_date'].dt.year\n",
    "\n",
    "nulldata['day_of_createdate'] = nulldata['baseline_create_date'].dt.day\n",
    "nulldata['month_of_createdate'] = nulldata['baseline_create_date'].dt.month\n",
    "nulldata['year_of_createdate'] = nulldata['baseline_create_date'].dt.year"
   ]
  },
  {
   "cell_type": "markdown",
   "metadata": {
    "id": "QeHWJYrAvOC6"
   },
   "source": [
    "### Use Label Encoder1 of all the following columns - \n",
    "- 'cust_payment_terms' and store into 'cust_payment_terms_enc'\n",
    "- 'business_code' and store into 'business_code_enc'\n",
    "- 'name_customer' and store into 'name_customer_enc'\n",
    "\n",
    "Note - No need to change the code"
   ]
  },
  {
   "cell_type": "code",
   "execution_count": 139,
   "metadata": {
    "executionInfo": {
     "elapsed": 498,
     "status": "ok",
     "timestamp": 1645689386925,
     "user": {
      "displayName": "Anand Sharma",
      "photoUrl": "https://lh3.googleusercontent.com/a-/AOh14GgGUoK9JeU7aspVqtif0DmXDU4_ZbP-HQf5O3V9d6k=s64",
      "userId": "10219635889505679537"
     },
     "user_tz": -330
    },
    "id": "bac330e2"
   },
   "outputs": [],
   "source": [
    "nulldata['cust_payment_terms_enc']=label_encoder1.transform(nulldata['cust_payment_terms'])\n",
    "nulldata['business_code_enc']=label_encoder1.transform(nulldata['business_code'])\n",
    "nulldata['name_customer_enc']=label_encoder.transform(nulldata['name_customer'])\n"
   ]
  },
  {
   "cell_type": "markdown",
   "metadata": {
    "id": "zD9I-XqQwC28"
   },
   "source": [
    "### Check for the datatypes of all the columns of Nulldata"
   ]
  },
  {
   "cell_type": "code",
   "execution_count": 140,
   "metadata": {
    "colab": {
     "base_uri": "https://localhost:8080/"
    },
    "executionInfo": {
     "elapsed": 343,
     "status": "ok",
     "timestamp": 1645689417512,
     "user": {
      "displayName": "Anand Sharma",
      "photoUrl": "https://lh3.googleusercontent.com/a-/AOh14GgGUoK9JeU7aspVqtif0DmXDU4_ZbP-HQf5O3V9d6k=s64",
      "userId": "10219635889505679537"
     },
     "user_tz": -330
    },
    "id": "d4f72517",
    "outputId": "c38b1757-f553-4969-d46a-56928043a07e"
   },
   "outputs": [
    {
     "data": {
      "text/plain": [
       "business_code                     object\n",
       "cust_number                        int32\n",
       "name_customer                     object\n",
       "clear_date                datetime64[ns]\n",
       "buisness_year                      int64\n",
       "doc_id                             int64\n",
       "posting_date              datetime64[ns]\n",
       "due_in_date               datetime64[ns]\n",
       "baseline_create_date      datetime64[ns]\n",
       "cust_payment_terms                object\n",
       "converted_usd                    float64\n",
       "business_code_enc                  int64\n",
       "day_of_cleardate                 float64\n",
       "month_of_cleardate               float64\n",
       "year_of_cleardate                float64\n",
       "day_of_postingdate                 int64\n",
       "month_of_postingdate               int64\n",
       "year_of_postingdate                int64\n",
       "day_of_due                         int64\n",
       "month_of_due                       int64\n",
       "year_of_due                        int64\n",
       "day_of_createdate                  int64\n",
       "month_of_createdate                int64\n",
       "year_of_createdate                 int64\n",
       "cust_payment_terms_enc             int64\n",
       "name_customer_enc                  int64\n",
       "dtype: object"
      ]
     },
     "execution_count": 140,
     "metadata": {},
     "output_type": "execute_result"
    }
   ],
   "source": [
    "nulldata.dtypes"
   ]
  },
  {
   "cell_type": "markdown",
   "metadata": {
    "id": "17cd5452"
   },
   "source": [
    "### Now you need to drop all the unnecessary columns - \n",
    "\n",
    "- 'business_code'\n",
    "- \"baseline_create_date\"\n",
    "- \"due_in_date\"\n",
    "- \"posting_date\"\n",
    "- \"name_customer\"\n",
    "- \"clear_date\"\n",
    "- \"cust_payment_terms\"\n",
    "- 'day_of_cleardate'\n",
    "- \"month_of_cleardate\"\n",
    "- \"year_of_cleardate\""
   ]
  },
  {
   "cell_type": "code",
   "execution_count": 141,
   "metadata": {
    "executionInfo": {
     "elapsed": 315,
     "status": "ok",
     "timestamp": 1645689445968,
     "user": {
      "displayName": "Anand Sharma",
      "photoUrl": "https://lh3.googleusercontent.com/a-/AOh14GgGUoK9JeU7aspVqtif0DmXDU4_ZbP-HQf5O3V9d6k=s64",
      "userId": "10219635889505679537"
     },
     "user_tz": -330
    },
    "id": "d7c82076"
   },
   "outputs": [],
   "source": [
    "lst=['business_code',\"baseline_create_date\",\"due_in_date\",\"posting_date\",\"name_customer\",\"clear_date\",\"cust_payment_terms\",'day_of_cleardate',\"month_of_cleardate\",\"year_of_cleardate\"]\n",
    "\n",
    "nulldata=nulldata.drop(lst,axis=1)"
   ]
  },
  {
   "cell_type": "markdown",
   "metadata": {
    "id": "Q_NCr9IPweVq"
   },
   "source": [
    "### Check the information of the \"nulldata\" dataframe"
   ]
  },
  {
   "cell_type": "code",
   "execution_count": 142,
   "metadata": {
    "colab": {
     "base_uri": "https://localhost:8080/"
    },
    "executionInfo": {
     "elapsed": 333,
     "status": "ok",
     "timestamp": 1645689449251,
     "user": {
      "displayName": "Anand Sharma",
      "photoUrl": "https://lh3.googleusercontent.com/a-/AOh14GgGUoK9JeU7aspVqtif0DmXDU4_ZbP-HQf5O3V9d6k=s64",
      "userId": "10219635889505679537"
     },
     "user_tz": -330
    },
    "id": "4e7ffee0",
    "outputId": "9ca106a3-0175-47aa-bfd6-9ec3214347d1"
   },
   "outputs": [
    {
     "name": "stdout",
     "output_type": "stream",
     "text": [
      "<class 'pandas.core.frame.DataFrame'>\n",
      "Int64Index: 9779 entries, 3 to 50098\n",
      "Data columns (total 16 columns):\n",
      " #   Column                  Non-Null Count  Dtype  \n",
      "---  ------                  --------------  -----  \n",
      " 0   cust_number             9779 non-null   int32  \n",
      " 1   buisness_year           9779 non-null   int64  \n",
      " 2   doc_id                  9779 non-null   int64  \n",
      " 3   converted_usd           9779 non-null   float64\n",
      " 4   business_code_enc       9779 non-null   int64  \n",
      " 5   day_of_postingdate      9779 non-null   int64  \n",
      " 6   month_of_postingdate    9779 non-null   int64  \n",
      " 7   year_of_postingdate     9779 non-null   int64  \n",
      " 8   day_of_due              9779 non-null   int64  \n",
      " 9   month_of_due            9779 non-null   int64  \n",
      " 10  year_of_due             9779 non-null   int64  \n",
      " 11  day_of_createdate       9779 non-null   int64  \n",
      " 12  month_of_createdate     9779 non-null   int64  \n",
      " 13  year_of_createdate      9779 non-null   int64  \n",
      " 14  cust_payment_terms_enc  9779 non-null   int64  \n",
      " 15  name_customer_enc       9779 non-null   int64  \n",
      "dtypes: float64(1), int32(1), int64(14)\n",
      "memory usage: 1.2 MB\n"
     ]
    }
   ],
   "source": [
    "nulldata.info()"
   ]
  },
  {
   "cell_type": "markdown",
   "metadata": {
    "id": "-XvjhWqmwi-C"
   },
   "source": [
    "### Compare \"nulldata\" with the \"X_test\" dataframe \n",
    "\n",
    "- use info() method"
   ]
  },
  {
   "cell_type": "code",
   "execution_count": 143,
   "metadata": {
    "colab": {
     "base_uri": "https://localhost:8080/"
    },
    "executionInfo": {
     "elapsed": 357,
     "status": "ok",
     "timestamp": 1645689468298,
     "user": {
      "displayName": "Anand Sharma",
      "photoUrl": "https://lh3.googleusercontent.com/a-/AOh14GgGUoK9JeU7aspVqtif0DmXDU4_ZbP-HQf5O3V9d6k=s64",
      "userId": "10219635889505679537"
     },
     "user_tz": -330
    },
    "id": "pj0deGOllyYu",
    "outputId": "6981668b-4680-47e1-c8fe-691a16249c6a"
   },
   "outputs": [
    {
     "name": "stdout",
     "output_type": "stream",
     "text": [
      "<class 'pandas.core.frame.DataFrame'>\n",
      "Int64Index: 7832 entries, 23619 to 5096\n",
      "Data columns (total 16 columns):\n",
      " #   Column                  Non-Null Count  Dtype  \n",
      "---  ------                  --------------  -----  \n",
      " 0   cust_number             7832 non-null   int32  \n",
      " 1   buisness_year           7832 non-null   int64  \n",
      " 2   doc_id                  7832 non-null   int64  \n",
      " 3   converted_usd           7832 non-null   float64\n",
      " 4   business_code_enc       7832 non-null   int32  \n",
      " 5   name_customer_enc       7832 non-null   int64  \n",
      " 6   cust_payment_terms_enc  7832 non-null   int64  \n",
      " 7   day_of_postingdate      7832 non-null   int64  \n",
      " 8   month_of_postingdate    7832 non-null   int64  \n",
      " 9   year_of_postingdate     7832 non-null   int64  \n",
      " 10  day_of_createdate       7832 non-null   int64  \n",
      " 11  month_of_createdate     7832 non-null   int64  \n",
      " 12  year_of_createdate      7832 non-null   int64  \n",
      " 13  day_of_due              7832 non-null   int64  \n",
      " 14  month_of_due            7832 non-null   int64  \n",
      " 15  year_of_due             7832 non-null   int64  \n",
      "dtypes: float64(1), int32(2), int64(13)\n",
      "memory usage: 979.0 KB\n"
     ]
    }
   ],
   "source": [
    "X_test.info()"
   ]
  },
  {
   "cell_type": "markdown",
   "metadata": {
    "id": "Us3ey-9zwqjq"
   },
   "source": [
    "### You must have noticed that there is a mismatch in the column sequence while compairing the dataframes\n",
    "\n",
    "- Note - In order to fed into the machine learning model, you need to edit the sequence of \"nulldata\", similar to the \"X_test\" dataframe"
   ]
  },
  {
   "cell_type": "markdown",
   "metadata": {
    "id": "vduVNt1kxPW-"
   },
   "source": [
    "- Display all the columns of the X_test dataframe \n",
    "- Display all the columns of the Nulldata dataframe \n",
    "- Store the Nulldata with new sequence into a new dataframe \n",
    "\n",
    "\n",
    "- Note - The code is given below, no need to change "
   ]
  },
  {
   "cell_type": "code",
   "execution_count": 144,
   "metadata": {
    "colab": {
     "base_uri": "https://localhost:8080/"
    },
    "executionInfo": {
     "elapsed": 1117,
     "status": "ok",
     "timestamp": 1645690283371,
     "user": {
      "displayName": "Anand Sharma",
      "photoUrl": "https://lh3.googleusercontent.com/a-/AOh14GgGUoK9JeU7aspVqtif0DmXDU4_ZbP-HQf5O3V9d6k=s64",
      "userId": "10219635889505679537"
     },
     "user_tz": -330
    },
    "id": "6729353e",
    "outputId": "8b8aa0ff-b269-468c-e5cc-550c6f59994a"
   },
   "outputs": [
    {
     "data": {
      "text/plain": [
       "Index(['cust_number', 'buisness_year', 'doc_id', 'converted_usd',\n",
       "       'business_code_enc', 'name_customer_enc', 'cust_payment_terms_enc',\n",
       "       'day_of_postingdate', 'month_of_postingdate', 'year_of_postingdate',\n",
       "       'day_of_createdate', 'month_of_createdate', 'year_of_createdate',\n",
       "       'day_of_due', 'month_of_due', 'year_of_due'],\n",
       "      dtype='object')"
      ]
     },
     "execution_count": 144,
     "metadata": {},
     "output_type": "execute_result"
    }
   ],
   "source": [
    "X_test.columns"
   ]
  },
  {
   "cell_type": "code",
   "execution_count": 145,
   "metadata": {
    "colab": {
     "base_uri": "https://localhost:8080/"
    },
    "executionInfo": {
     "elapsed": 484,
     "status": "ok",
     "timestamp": 1645690268077,
     "user": {
      "displayName": "Anand Sharma",
      "photoUrl": "https://lh3.googleusercontent.com/a-/AOh14GgGUoK9JeU7aspVqtif0DmXDU4_ZbP-HQf5O3V9d6k=s64",
      "userId": "10219635889505679537"
     },
     "user_tz": -330
    },
    "id": "47bd9c5e",
    "outputId": "bb384ff3-a486-4bc2-e4c0-85f6141b5dab"
   },
   "outputs": [
    {
     "data": {
      "text/plain": [
       "Index(['cust_number', 'buisness_year', 'doc_id', 'converted_usd',\n",
       "       'business_code_enc', 'day_of_postingdate', 'month_of_postingdate',\n",
       "       'year_of_postingdate', 'day_of_due', 'month_of_due', 'year_of_due',\n",
       "       'day_of_createdate', 'month_of_createdate', 'year_of_createdate',\n",
       "       'cust_payment_terms_enc', 'name_customer_enc'],\n",
       "      dtype='object')"
      ]
     },
     "execution_count": 145,
     "metadata": {},
     "output_type": "execute_result"
    }
   ],
   "source": [
    "nulldata.columns"
   ]
  },
  {
   "cell_type": "code",
   "execution_count": 146,
   "metadata": {
    "executionInfo": {
     "elapsed": 334,
     "status": "ok",
     "timestamp": 1645689509458,
     "user": {
      "displayName": "Anand Sharma",
      "photoUrl": "https://lh3.googleusercontent.com/a-/AOh14GgGUoK9JeU7aspVqtif0DmXDU4_ZbP-HQf5O3V9d6k=s64",
      "userId": "10219635889505679537"
     },
     "user_tz": -330
    },
    "id": "aa5a2103"
   },
   "outputs": [],
   "source": [
    "nulldata2=nulldata[['cust_number', 'buisness_year', 'doc_id', 'converted_usd',\n",
    "       'business_code_enc', 'name_customer_enc', 'cust_payment_terms_enc',\n",
    "       'day_of_postingdate', 'month_of_postingdate', 'year_of_postingdate',\n",
    "       'day_of_createdate', 'month_of_createdate', 'year_of_createdate',\n",
    "       'day_of_due', 'month_of_due', 'year_of_due']]"
   ]
  },
  {
   "cell_type": "markdown",
   "metadata": {
    "id": "1dc8b021"
   },
   "source": [
    "### Display the Final Dataset"
   ]
  },
  {
   "cell_type": "code",
   "execution_count": 147,
   "metadata": {
    "colab": {
     "base_uri": "https://localhost:8080/",
     "height": 487
    },
    "executionInfo": {
     "elapsed": 356,
     "status": "ok",
     "timestamp": 1645690733192,
     "user": {
      "displayName": "Anand Sharma",
      "photoUrl": "https://lh3.googleusercontent.com/a-/AOh14GgGUoK9JeU7aspVqtif0DmXDU4_ZbP-HQf5O3V9d6k=s64",
      "userId": "10219635889505679537"
     },
     "user_tz": -330
    },
    "id": "2f39785a",
    "outputId": "7e8caa04-be59-4aac-e90d-4af546b17fb7"
   },
   "outputs": [
    {
     "data": {
      "text/html": [
       "<div>\n",
       "<style scoped>\n",
       "    .dataframe tbody tr th:only-of-type {\n",
       "        vertical-align: middle;\n",
       "    }\n",
       "\n",
       "    .dataframe tbody tr th {\n",
       "        vertical-align: top;\n",
       "    }\n",
       "\n",
       "    .dataframe thead th {\n",
       "        text-align: right;\n",
       "    }\n",
       "</style>\n",
       "<table border=\"1\" class=\"dataframe\">\n",
       "  <thead>\n",
       "    <tr style=\"text-align: right;\">\n",
       "      <th></th>\n",
       "      <th>cust_number</th>\n",
       "      <th>buisness_year</th>\n",
       "      <th>doc_id</th>\n",
       "      <th>converted_usd</th>\n",
       "      <th>business_code_enc</th>\n",
       "      <th>name_customer_enc</th>\n",
       "      <th>cust_payment_terms_enc</th>\n",
       "      <th>day_of_postingdate</th>\n",
       "      <th>month_of_postingdate</th>\n",
       "      <th>year_of_postingdate</th>\n",
       "      <th>day_of_createdate</th>\n",
       "      <th>month_of_createdate</th>\n",
       "      <th>year_of_createdate</th>\n",
       "      <th>day_of_due</th>\n",
       "      <th>month_of_due</th>\n",
       "      <th>year_of_due</th>\n",
       "    </tr>\n",
       "  </thead>\n",
       "  <tbody>\n",
       "    <tr>\n",
       "      <th>3</th>\n",
       "      <td>140105686</td>\n",
       "      <td>2020</td>\n",
       "      <td>2960623488</td>\n",
       "      <td>2309.790</td>\n",
       "      <td>66</td>\n",
       "      <td>2714</td>\n",
       "      <td>5</td>\n",
       "      <td>30</td>\n",
       "      <td>3</td>\n",
       "      <td>2020</td>\n",
       "      <td>31</td>\n",
       "      <td>3</td>\n",
       "      <td>2020</td>\n",
       "      <td>10</td>\n",
       "      <td>4</td>\n",
       "      <td>2020</td>\n",
       "    </tr>\n",
       "    <tr>\n",
       "      <th>7</th>\n",
       "      <td>200744019</td>\n",
       "      <td>2020</td>\n",
       "      <td>1930659387</td>\n",
       "      <td>11173.020</td>\n",
       "      <td>66</td>\n",
       "      <td>2798</td>\n",
       "      <td>18</td>\n",
       "      <td>19</td>\n",
       "      <td>3</td>\n",
       "      <td>2020</td>\n",
       "      <td>19</td>\n",
       "      <td>3</td>\n",
       "      <td>2020</td>\n",
       "      <td>3</td>\n",
       "      <td>4</td>\n",
       "      <td>2020</td>\n",
       "    </tr>\n",
       "    <tr>\n",
       "      <th>10</th>\n",
       "      <td>200418007</td>\n",
       "      <td>2020</td>\n",
       "      <td>1930610806</td>\n",
       "      <td>3525.590</td>\n",
       "      <td>66</td>\n",
       "      <td>89</td>\n",
       "      <td>18</td>\n",
       "      <td>3</td>\n",
       "      <td>11</td>\n",
       "      <td>2020</td>\n",
       "      <td>11</td>\n",
       "      <td>3</td>\n",
       "      <td>2020</td>\n",
       "      <td>26</td>\n",
       "      <td>3</td>\n",
       "      <td>2020</td>\n",
       "    </tr>\n",
       "    <tr>\n",
       "      <th>14</th>\n",
       "      <td>200739534</td>\n",
       "      <td>2020</td>\n",
       "      <td>1930788296</td>\n",
       "      <td>121105.650</td>\n",
       "      <td>66</td>\n",
       "      <td>2043</td>\n",
       "      <td>18</td>\n",
       "      <td>15</td>\n",
       "      <td>4</td>\n",
       "      <td>2020</td>\n",
       "      <td>15</td>\n",
       "      <td>4</td>\n",
       "      <td>2020</td>\n",
       "      <td>30</td>\n",
       "      <td>4</td>\n",
       "      <td>2020</td>\n",
       "    </tr>\n",
       "    <tr>\n",
       "      <th>15</th>\n",
       "      <td>200353024</td>\n",
       "      <td>2020</td>\n",
       "      <td>1930817482</td>\n",
       "      <td>3726.060</td>\n",
       "      <td>66</td>\n",
       "      <td>733</td>\n",
       "      <td>34</td>\n",
       "      <td>23</td>\n",
       "      <td>4</td>\n",
       "      <td>2020</td>\n",
       "      <td>16</td>\n",
       "      <td>4</td>\n",
       "      <td>2020</td>\n",
       "      <td>26</td>\n",
       "      <td>4</td>\n",
       "      <td>2020</td>\n",
       "    </tr>\n",
       "    <tr>\n",
       "      <th>...</th>\n",
       "      <td>...</td>\n",
       "      <td>...</td>\n",
       "      <td>...</td>\n",
       "      <td>...</td>\n",
       "      <td>...</td>\n",
       "      <td>...</td>\n",
       "      <td>...</td>\n",
       "      <td>...</td>\n",
       "      <td>...</td>\n",
       "      <td>...</td>\n",
       "      <td>...</td>\n",
       "      <td>...</td>\n",
       "      <td>...</td>\n",
       "      <td>...</td>\n",
       "      <td>...</td>\n",
       "      <td>...</td>\n",
       "    </tr>\n",
       "    <tr>\n",
       "      <th>50094</th>\n",
       "      <td>140106408</td>\n",
       "      <td>2020</td>\n",
       "      <td>2960618884</td>\n",
       "      <td>64982.589</td>\n",
       "      <td>66</td>\n",
       "      <td>2987</td>\n",
       "      <td>5</td>\n",
       "      <td>3</td>\n",
       "      <td>6</td>\n",
       "      <td>2020</td>\n",
       "      <td>6</td>\n",
       "      <td>3</td>\n",
       "      <td>2020</td>\n",
       "      <td>16</td>\n",
       "      <td>3</td>\n",
       "      <td>2020</td>\n",
       "    </tr>\n",
       "    <tr>\n",
       "      <th>50095</th>\n",
       "      <td>140106408</td>\n",
       "      <td>2020</td>\n",
       "      <td>2960618885</td>\n",
       "      <td>64982.589</td>\n",
       "      <td>66</td>\n",
       "      <td>2987</td>\n",
       "      <td>5</td>\n",
       "      <td>3</td>\n",
       "      <td>6</td>\n",
       "      <td>2020</td>\n",
       "      <td>6</td>\n",
       "      <td>3</td>\n",
       "      <td>2020</td>\n",
       "      <td>16</td>\n",
       "      <td>3</td>\n",
       "      <td>2020</td>\n",
       "    </tr>\n",
       "    <tr>\n",
       "      <th>50096</th>\n",
       "      <td>140106408</td>\n",
       "      <td>2020</td>\n",
       "      <td>2960618886</td>\n",
       "      <td>64982.589</td>\n",
       "      <td>66</td>\n",
       "      <td>2987</td>\n",
       "      <td>5</td>\n",
       "      <td>3</td>\n",
       "      <td>6</td>\n",
       "      <td>2020</td>\n",
       "      <td>6</td>\n",
       "      <td>3</td>\n",
       "      <td>2020</td>\n",
       "      <td>16</td>\n",
       "      <td>3</td>\n",
       "      <td>2020</td>\n",
       "    </tr>\n",
       "    <tr>\n",
       "      <th>50097</th>\n",
       "      <td>140106408</td>\n",
       "      <td>2020</td>\n",
       "      <td>2960618887</td>\n",
       "      <td>64982.589</td>\n",
       "      <td>66</td>\n",
       "      <td>2987</td>\n",
       "      <td>5</td>\n",
       "      <td>3</td>\n",
       "      <td>6</td>\n",
       "      <td>2020</td>\n",
       "      <td>6</td>\n",
       "      <td>3</td>\n",
       "      <td>2020</td>\n",
       "      <td>16</td>\n",
       "      <td>3</td>\n",
       "      <td>2020</td>\n",
       "    </tr>\n",
       "    <tr>\n",
       "      <th>50098</th>\n",
       "      <td>140106408</td>\n",
       "      <td>2020</td>\n",
       "      <td>2960618888</td>\n",
       "      <td>64982.589</td>\n",
       "      <td>66</td>\n",
       "      <td>2987</td>\n",
       "      <td>5</td>\n",
       "      <td>3</td>\n",
       "      <td>6</td>\n",
       "      <td>2020</td>\n",
       "      <td>6</td>\n",
       "      <td>3</td>\n",
       "      <td>2020</td>\n",
       "      <td>16</td>\n",
       "      <td>3</td>\n",
       "      <td>2020</td>\n",
       "    </tr>\n",
       "  </tbody>\n",
       "</table>\n",
       "<p>9779 rows × 16 columns</p>\n",
       "</div>"
      ],
      "text/plain": [
       "       cust_number  buisness_year      doc_id  converted_usd  \\\n",
       "3        140105686           2020  2960623488       2309.790   \n",
       "7        200744019           2020  1930659387      11173.020   \n",
       "10       200418007           2020  1930610806       3525.590   \n",
       "14       200739534           2020  1930788296     121105.650   \n",
       "15       200353024           2020  1930817482       3726.060   \n",
       "...            ...            ...         ...            ...   \n",
       "50094    140106408           2020  2960618884      64982.589   \n",
       "50095    140106408           2020  2960618885      64982.589   \n",
       "50096    140106408           2020  2960618886      64982.589   \n",
       "50097    140106408           2020  2960618887      64982.589   \n",
       "50098    140106408           2020  2960618888      64982.589   \n",
       "\n",
       "       business_code_enc  name_customer_enc  cust_payment_terms_enc  \\\n",
       "3                     66               2714                       5   \n",
       "7                     66               2798                      18   \n",
       "10                    66                 89                      18   \n",
       "14                    66               2043                      18   \n",
       "15                    66                733                      34   \n",
       "...                  ...                ...                     ...   \n",
       "50094                 66               2987                       5   \n",
       "50095                 66               2987                       5   \n",
       "50096                 66               2987                       5   \n",
       "50097                 66               2987                       5   \n",
       "50098                 66               2987                       5   \n",
       "\n",
       "       day_of_postingdate  month_of_postingdate  year_of_postingdate  \\\n",
       "3                      30                     3                 2020   \n",
       "7                      19                     3                 2020   \n",
       "10                      3                    11                 2020   \n",
       "14                     15                     4                 2020   \n",
       "15                     23                     4                 2020   \n",
       "...                   ...                   ...                  ...   \n",
       "50094                   3                     6                 2020   \n",
       "50095                   3                     6                 2020   \n",
       "50096                   3                     6                 2020   \n",
       "50097                   3                     6                 2020   \n",
       "50098                   3                     6                 2020   \n",
       "\n",
       "       day_of_createdate  month_of_createdate  year_of_createdate  day_of_due  \\\n",
       "3                     31                    3                2020          10   \n",
       "7                     19                    3                2020           3   \n",
       "10                    11                    3                2020          26   \n",
       "14                    15                    4                2020          30   \n",
       "15                    16                    4                2020          26   \n",
       "...                  ...                  ...                 ...         ...   \n",
       "50094                  6                    3                2020          16   \n",
       "50095                  6                    3                2020          16   \n",
       "50096                  6                    3                2020          16   \n",
       "50097                  6                    3                2020          16   \n",
       "50098                  6                    3                2020          16   \n",
       "\n",
       "       month_of_due  year_of_due  \n",
       "3                 4         2020  \n",
       "7                 4         2020  \n",
       "10                3         2020  \n",
       "14                4         2020  \n",
       "15                4         2020  \n",
       "...             ...          ...  \n",
       "50094             3         2020  \n",
       "50095             3         2020  \n",
       "50096             3         2020  \n",
       "50097             3         2020  \n",
       "50098             3         2020  \n",
       "\n",
       "[9779 rows x 16 columns]"
      ]
     },
     "execution_count": 147,
     "metadata": {},
     "output_type": "execute_result"
    }
   ],
   "source": [
    "nulldata2"
   ]
  },
  {
   "cell_type": "markdown",
   "metadata": {
    "id": "27b88c5a"
   },
   "source": [
    "### Now you can pass this dataset into you final model and store it into \"final_result\""
   ]
  },
  {
   "cell_type": "code",
   "execution_count": 148,
   "metadata": {
    "executionInfo": {
     "elapsed": 327,
     "status": "ok",
     "timestamp": 1645697596224,
     "user": {
      "displayName": "Anand Sharma",
      "photoUrl": "https://lh3.googleusercontent.com/a-/AOh14GgGUoK9JeU7aspVqtif0DmXDU4_ZbP-HQf5O3V9d6k=s64",
      "userId": "10219635889505679537"
     },
     "user_tz": -330
    },
    "id": "9e0b6388"
   },
   "outputs": [],
   "source": [
    "final_result=regressorfinal.predict(nulldata2)"
   ]
  },
  {
   "cell_type": "markdown",
   "metadata": {
    "id": "9653d3c6"
   },
   "source": [
    "### you need to make the final_result as dataframe, with a column name \"avg_delay\"\n",
    "\n",
    "- Note - No need to change the code"
   ]
  },
  {
   "cell_type": "code",
   "execution_count": 149,
   "metadata": {
    "executionInfo": {
     "elapsed": 338,
     "status": "ok",
     "timestamp": 1645693585263,
     "user": {
      "displayName": "Anand Sharma",
      "photoUrl": "https://lh3.googleusercontent.com/a-/AOh14GgGUoK9JeU7aspVqtif0DmXDU4_ZbP-HQf5O3V9d6k=s64",
      "userId": "10219635889505679537"
     },
     "user_tz": -330
    },
    "id": "25ef814d"
   },
   "outputs": [],
   "source": [
    "final_result = pd.Series(final_result,name='avg_delay')"
   ]
  },
  {
   "cell_type": "markdown",
   "metadata": {
    "id": "C86staIhyf2C"
   },
   "source": [
    "### Display the \"avg_delay\" column"
   ]
  },
  {
   "cell_type": "code",
   "execution_count": 150,
   "metadata": {
    "colab": {
     "base_uri": "https://localhost:8080/"
    },
    "executionInfo": {
     "elapsed": 472,
     "status": "ok",
     "timestamp": 1645698122326,
     "user": {
      "displayName": "Anand Sharma",
      "photoUrl": "https://lh3.googleusercontent.com/a-/AOh14GgGUoK9JeU7aspVqtif0DmXDU4_ZbP-HQf5O3V9d6k=s64",
      "userId": "10219635889505679537"
     },
     "user_tz": -330
    },
    "id": "4fd46406",
    "outputId": "39a8cbe8-5db8-4563-e094-e25ca380f309"
   },
   "outputs": [
    {
     "data": {
      "text/plain": [
       "0       1.866536e+06\n",
       "1       1.114781e+06\n",
       "2       5.050122e+06\n",
       "3      -8.453994e+05\n",
       "4      -7.563377e+05\n",
       "            ...     \n",
       "9774    2.617879e+06\n",
       "9775    2.617879e+06\n",
       "9776    2.617879e+06\n",
       "9777    2.617879e+06\n",
       "9778    2.617879e+06\n",
       "Name: avg_delay, Length: 9779, dtype: float32"
      ]
     },
     "execution_count": 150,
     "metadata": {},
     "output_type": "execute_result"
    }
   ],
   "source": [
    "final_result"
   ]
  },
  {
   "cell_type": "markdown",
   "metadata": {
    "id": "44f71a7e"
   },
   "source": [
    "### Now you need to merge this final_result dataframe with the BACKUP of \"nulldata\" Dataframe which we have created in earlier steps"
   ]
  },
  {
   "cell_type": "code",
   "execution_count": 151,
   "metadata": {
    "executionInfo": {
     "elapsed": 334,
     "status": "ok",
     "timestamp": 1645697783287,
     "user": {
      "displayName": "Anand Sharma",
      "photoUrl": "https://lh3.googleusercontent.com/a-/AOh14GgGUoK9JeU7aspVqtif0DmXDU4_ZbP-HQf5O3V9d6k=s64",
      "userId": "10219635889505679537"
     },
     "user_tz": -330
    },
    "id": "e8f0969d"
   },
   "outputs": [],
   "source": [
    "nulldata_backup.reset_index(drop=True,inplace=True)\n",
    "Final = nulldata_backup.merge(final_result , on = nulldata.index )"
   ]
  },
  {
   "cell_type": "markdown",
   "metadata": {
    "id": "G-hLtxXgy4GZ"
   },
   "source": [
    "### Display the \"Final\" dataframe "
   ]
  },
  {
   "cell_type": "code",
   "execution_count": 152,
   "metadata": {
    "colab": {
     "base_uri": "https://localhost:8080/",
     "height": 522
    },
    "executionInfo": {
     "elapsed": 347,
     "status": "ok",
     "timestamp": 1645697785741,
     "user": {
      "displayName": "Anand Sharma",
      "photoUrl": "https://lh3.googleusercontent.com/a-/AOh14GgGUoK9JeU7aspVqtif0DmXDU4_ZbP-HQf5O3V9d6k=s64",
      "userId": "10219635889505679537"
     },
     "user_tz": -330
    },
    "id": "71fb4dc0",
    "outputId": "2952ac2a-8c7b-4396-815a-a4654b1681ea",
    "scrolled": true
   },
   "outputs": [
    {
     "data": {
      "text/html": [
       "<div>\n",
       "<style scoped>\n",
       "    .dataframe tbody tr th:only-of-type {\n",
       "        vertical-align: middle;\n",
       "    }\n",
       "\n",
       "    .dataframe tbody tr th {\n",
       "        vertical-align: top;\n",
       "    }\n",
       "\n",
       "    .dataframe thead th {\n",
       "        text-align: right;\n",
       "    }\n",
       "</style>\n",
       "<table border=\"1\" class=\"dataframe\">\n",
       "  <thead>\n",
       "    <tr style=\"text-align: right;\">\n",
       "      <th></th>\n",
       "      <th>key_0</th>\n",
       "      <th>business_code</th>\n",
       "      <th>cust_number</th>\n",
       "      <th>name_customer</th>\n",
       "      <th>clear_date</th>\n",
       "      <th>buisness_year</th>\n",
       "      <th>doc_id</th>\n",
       "      <th>posting_date</th>\n",
       "      <th>due_in_date</th>\n",
       "      <th>baseline_create_date</th>\n",
       "      <th>cust_payment_terms</th>\n",
       "      <th>converted_usd</th>\n",
       "      <th>avg_delay</th>\n",
       "    </tr>\n",
       "  </thead>\n",
       "  <tbody>\n",
       "    <tr>\n",
       "      <th>0</th>\n",
       "      <td>3</td>\n",
       "      <td>CA02</td>\n",
       "      <td>140105686</td>\n",
       "      <td>SYSC llc</td>\n",
       "      <td>NaT</td>\n",
       "      <td>2020</td>\n",
       "      <td>2960623488</td>\n",
       "      <td>2020-03-30</td>\n",
       "      <td>2020-04-10</td>\n",
       "      <td>2020-03-31</td>\n",
       "      <td>CA10</td>\n",
       "      <td>2309.790</td>\n",
       "      <td>1.866536e+06</td>\n",
       "    </tr>\n",
       "    <tr>\n",
       "      <th>1</th>\n",
       "      <td>7</td>\n",
       "      <td>U001</td>\n",
       "      <td>200744019</td>\n",
       "      <td>TARG us</td>\n",
       "      <td>NaT</td>\n",
       "      <td>2020</td>\n",
       "      <td>1930659387</td>\n",
       "      <td>2020-03-19</td>\n",
       "      <td>2020-04-03</td>\n",
       "      <td>2020-03-19</td>\n",
       "      <td>NAA8</td>\n",
       "      <td>11173.020</td>\n",
       "      <td>1.114781e+06</td>\n",
       "    </tr>\n",
       "    <tr>\n",
       "      <th>2</th>\n",
       "      <td>10</td>\n",
       "      <td>U001</td>\n",
       "      <td>200418007</td>\n",
       "      <td>AM</td>\n",
       "      <td>NaT</td>\n",
       "      <td>2020</td>\n",
       "      <td>1930610806</td>\n",
       "      <td>2020-11-03</td>\n",
       "      <td>2020-03-26</td>\n",
       "      <td>2020-03-11</td>\n",
       "      <td>NAA8</td>\n",
       "      <td>3525.590</td>\n",
       "      <td>5.050122e+06</td>\n",
       "    </tr>\n",
       "    <tr>\n",
       "      <th>3</th>\n",
       "      <td>14</td>\n",
       "      <td>U001</td>\n",
       "      <td>200739534</td>\n",
       "      <td>OK systems</td>\n",
       "      <td>NaT</td>\n",
       "      <td>2020</td>\n",
       "      <td>1930788296</td>\n",
       "      <td>2020-04-15</td>\n",
       "      <td>2020-04-30</td>\n",
       "      <td>2020-04-15</td>\n",
       "      <td>NAA8</td>\n",
       "      <td>121105.650</td>\n",
       "      <td>-8.453994e+05</td>\n",
       "    </tr>\n",
       "    <tr>\n",
       "      <th>4</th>\n",
       "      <td>15</td>\n",
       "      <td>U001</td>\n",
       "      <td>200353024</td>\n",
       "      <td>DECA corporation</td>\n",
       "      <td>NaT</td>\n",
       "      <td>2020</td>\n",
       "      <td>1930817482</td>\n",
       "      <td>2020-04-23</td>\n",
       "      <td>2020-04-26</td>\n",
       "      <td>2020-04-16</td>\n",
       "      <td>NAM2</td>\n",
       "      <td>3726.060</td>\n",
       "      <td>-7.563377e+05</td>\n",
       "    </tr>\n",
       "    <tr>\n",
       "      <th>...</th>\n",
       "      <td>...</td>\n",
       "      <td>...</td>\n",
       "      <td>...</td>\n",
       "      <td>...</td>\n",
       "      <td>...</td>\n",
       "      <td>...</td>\n",
       "      <td>...</td>\n",
       "      <td>...</td>\n",
       "      <td>...</td>\n",
       "      <td>...</td>\n",
       "      <td>...</td>\n",
       "      <td>...</td>\n",
       "      <td>...</td>\n",
       "    </tr>\n",
       "    <tr>\n",
       "      <th>9774</th>\n",
       "      <td>50094</td>\n",
       "      <td>CA02</td>\n",
       "      <td>140106408</td>\n",
       "      <td>WAL-M corp</td>\n",
       "      <td>NaT</td>\n",
       "      <td>2020</td>\n",
       "      <td>2960618884</td>\n",
       "      <td>2020-06-03</td>\n",
       "      <td>2020-03-16</td>\n",
       "      <td>2020-03-06</td>\n",
       "      <td>CA10</td>\n",
       "      <td>64982.589</td>\n",
       "      <td>2.617879e+06</td>\n",
       "    </tr>\n",
       "    <tr>\n",
       "      <th>9775</th>\n",
       "      <td>50095</td>\n",
       "      <td>CA02</td>\n",
       "      <td>140106408</td>\n",
       "      <td>WAL-M corp</td>\n",
       "      <td>NaT</td>\n",
       "      <td>2020</td>\n",
       "      <td>2960618885</td>\n",
       "      <td>2020-06-03</td>\n",
       "      <td>2020-03-16</td>\n",
       "      <td>2020-03-06</td>\n",
       "      <td>CA10</td>\n",
       "      <td>64982.589</td>\n",
       "      <td>2.617879e+06</td>\n",
       "    </tr>\n",
       "    <tr>\n",
       "      <th>9776</th>\n",
       "      <td>50096</td>\n",
       "      <td>CA02</td>\n",
       "      <td>140106408</td>\n",
       "      <td>WAL-M corp</td>\n",
       "      <td>NaT</td>\n",
       "      <td>2020</td>\n",
       "      <td>2960618886</td>\n",
       "      <td>2020-06-03</td>\n",
       "      <td>2020-03-16</td>\n",
       "      <td>2020-03-06</td>\n",
       "      <td>CA10</td>\n",
       "      <td>64982.589</td>\n",
       "      <td>2.617879e+06</td>\n",
       "    </tr>\n",
       "    <tr>\n",
       "      <th>9777</th>\n",
       "      <td>50097</td>\n",
       "      <td>CA02</td>\n",
       "      <td>140106408</td>\n",
       "      <td>WAL-M corp</td>\n",
       "      <td>NaT</td>\n",
       "      <td>2020</td>\n",
       "      <td>2960618887</td>\n",
       "      <td>2020-06-03</td>\n",
       "      <td>2020-03-16</td>\n",
       "      <td>2020-03-06</td>\n",
       "      <td>CA10</td>\n",
       "      <td>64982.589</td>\n",
       "      <td>2.617879e+06</td>\n",
       "    </tr>\n",
       "    <tr>\n",
       "      <th>9778</th>\n",
       "      <td>50098</td>\n",
       "      <td>CA02</td>\n",
       "      <td>140106408</td>\n",
       "      <td>WAL-M corp</td>\n",
       "      <td>NaT</td>\n",
       "      <td>2020</td>\n",
       "      <td>2960618888</td>\n",
       "      <td>2020-06-03</td>\n",
       "      <td>2020-03-16</td>\n",
       "      <td>2020-03-06</td>\n",
       "      <td>CA10</td>\n",
       "      <td>64982.589</td>\n",
       "      <td>2.617879e+06</td>\n",
       "    </tr>\n",
       "  </tbody>\n",
       "</table>\n",
       "<p>9779 rows × 13 columns</p>\n",
       "</div>"
      ],
      "text/plain": [
       "      key_0 business_code cust_number     name_customer clear_date  \\\n",
       "0         3          CA02   140105686          SYSC llc        NaT   \n",
       "1         7          U001   200744019           TARG us        NaT   \n",
       "2        10          U001   200418007               AM         NaT   \n",
       "3        14          U001   200739534        OK systems        NaT   \n",
       "4        15          U001   200353024  DECA corporation        NaT   \n",
       "...     ...           ...         ...               ...        ...   \n",
       "9774  50094          CA02   140106408        WAL-M corp        NaT   \n",
       "9775  50095          CA02   140106408        WAL-M corp        NaT   \n",
       "9776  50096          CA02   140106408        WAL-M corp        NaT   \n",
       "9777  50097          CA02   140106408        WAL-M corp        NaT   \n",
       "9778  50098          CA02   140106408        WAL-M corp        NaT   \n",
       "\n",
       "      buisness_year      doc_id posting_date due_in_date baseline_create_date  \\\n",
       "0              2020  2960623488   2020-03-30  2020-04-10           2020-03-31   \n",
       "1              2020  1930659387   2020-03-19  2020-04-03           2020-03-19   \n",
       "2              2020  1930610806   2020-11-03  2020-03-26           2020-03-11   \n",
       "3              2020  1930788296   2020-04-15  2020-04-30           2020-04-15   \n",
       "4              2020  1930817482   2020-04-23  2020-04-26           2020-04-16   \n",
       "...             ...         ...          ...         ...                  ...   \n",
       "9774           2020  2960618884   2020-06-03  2020-03-16           2020-03-06   \n",
       "9775           2020  2960618885   2020-06-03  2020-03-16           2020-03-06   \n",
       "9776           2020  2960618886   2020-06-03  2020-03-16           2020-03-06   \n",
       "9777           2020  2960618887   2020-06-03  2020-03-16           2020-03-06   \n",
       "9778           2020  2960618888   2020-06-03  2020-03-16           2020-03-06   \n",
       "\n",
       "     cust_payment_terms  converted_usd     avg_delay  \n",
       "0                  CA10       2309.790  1.866536e+06  \n",
       "1                  NAA8      11173.020  1.114781e+06  \n",
       "2                  NAA8       3525.590  5.050122e+06  \n",
       "3                  NAA8     121105.650 -8.453994e+05  \n",
       "4                  NAM2       3726.060 -7.563377e+05  \n",
       "...                 ...            ...           ...  \n",
       "9774               CA10      64982.589  2.617879e+06  \n",
       "9775               CA10      64982.589  2.617879e+06  \n",
       "9776               CA10      64982.589  2.617879e+06  \n",
       "9777               CA10      64982.589  2.617879e+06  \n",
       "9778               CA10      64982.589  2.617879e+06  \n",
       "\n",
       "[9779 rows x 13 columns]"
      ]
     },
     "execution_count": 152,
     "metadata": {},
     "output_type": "execute_result"
    }
   ],
   "source": [
    "Final"
   ]
  },
  {
   "cell_type": "markdown",
   "metadata": {
    "id": "4sc27Uz-y-0O"
   },
   "source": [
    "### Check for the Number of Rows and Columns in your \"Final\" dataframe "
   ]
  },
  {
   "cell_type": "code",
   "execution_count": 153,
   "metadata": {
    "colab": {
     "base_uri": "https://localhost:8080/"
    },
    "executionInfo": {
     "elapsed": 329,
     "status": "ok",
     "timestamp": 1645697803350,
     "user": {
      "displayName": "Anand Sharma",
      "photoUrl": "https://lh3.googleusercontent.com/a-/AOh14GgGUoK9JeU7aspVqtif0DmXDU4_ZbP-HQf5O3V9d6k=s64",
      "userId": "10219635889505679537"
     },
     "user_tz": -330
    },
    "id": "5iUXOIhzy_HR",
    "outputId": "f25a84d3-fad7-419c-a8ff-6f6221c58730"
   },
   "outputs": [
    {
     "name": "stdout",
     "output_type": "stream",
     "text": [
      "Rows :  9779 \n",
      "Columns :  13\n"
     ]
    }
   ],
   "source": [
    "ctr_rows_cols(Final)"
   ]
  },
  {
   "cell_type": "markdown",
   "metadata": {
    "id": "48886d2c"
   },
   "source": [
    "### Now, you need to do convert the below fields back into date and time format \n",
    "\n",
    "- Convert \"due_in_date\" into datetime format\n",
    "- Convert \"avg_delay\" into datetime format\n",
    "- Create a new column \"clear_date\" and store the sum of \"due_in_date\" and \"avg_delay\"\n",
    "- display the new \"clear_date\" column\n",
    "- Note - Code is given below, no need to change "
   ]
  },
  {
   "cell_type": "code",
   "execution_count": 154,
   "metadata": {
    "executionInfo": {
     "elapsed": 549,
     "status": "ok",
     "timestamp": 1645697810267,
     "user": {
      "displayName": "Anand Sharma",
      "photoUrl": "https://lh3.googleusercontent.com/a-/AOh14GgGUoK9JeU7aspVqtif0DmXDU4_ZbP-HQf5O3V9d6k=s64",
      "userId": "10219635889505679537"
     },
     "user_tz": -330
    },
    "id": "243abc2d"
   },
   "outputs": [],
   "source": [
    "Final['clear_date'] = pd.to_datetime(Final['due_in_date']) + pd.to_timedelta(Final['avg_delay'], unit='s')"
   ]
  },
  {
   "cell_type": "markdown",
   "metadata": {
    "id": "9QcX_fAjIkYR"
   },
   "source": [
    "### Display the \"clear_date\" column"
   ]
  },
  {
   "cell_type": "code",
   "execution_count": 155,
   "metadata": {
    "colab": {
     "base_uri": "https://localhost:8080/",
     "height": 592
    },
    "executionInfo": {
     "elapsed": 340,
     "status": "ok",
     "timestamp": 1645697815218,
     "user": {
      "displayName": "Anand Sharma",
      "photoUrl": "https://lh3.googleusercontent.com/a-/AOh14GgGUoK9JeU7aspVqtif0DmXDU4_ZbP-HQf5O3V9d6k=s64",
      "userId": "10219635889505679537"
     },
     "user_tz": -330
    },
    "id": "740e1486",
    "outputId": "9660d0e2-9d3f-479c-f896-47233ed29e4f"
   },
   "outputs": [
    {
     "data": {
      "text/plain": [
       "0      2020-05-01 14:28:56.250000\n",
       "1      2020-04-15 21:39:40.875000\n",
       "2      2020-05-23 10:48:42.000000\n",
       "3      2020-04-20 05:10:00.562500\n",
       "4      2020-04-17 05:54:22.312500\n",
       "                  ...            \n",
       "9774   2020-04-15 07:11:19.250000\n",
       "9775   2020-04-15 07:11:19.250000\n",
       "9776   2020-04-15 07:11:19.250000\n",
       "9777   2020-04-15 07:11:19.250000\n",
       "9778   2020-04-15 07:11:19.250000\n",
       "Name: clear_date, Length: 9779, dtype: datetime64[ns]"
      ]
     },
     "execution_count": 155,
     "metadata": {},
     "output_type": "execute_result"
    }
   ],
   "source": [
    "Final['clear_date']"
   ]
  },
  {
   "cell_type": "markdown",
   "metadata": {
    "id": "MSkNLq6-z7rZ"
   },
   "source": [
    "### Convert the average delay into number of days format \n",
    "\n",
    "- Note - Formula = avg_delay//(24 * 3600)\n",
    "- Note - full code is given for this, no need to change "
   ]
  },
  {
   "cell_type": "code",
   "execution_count": 156,
   "metadata": {
    "executionInfo": {
     "elapsed": 571,
     "status": "ok",
     "timestamp": 1645697827039,
     "user": {
      "displayName": "Anand Sharma",
      "photoUrl": "https://lh3.googleusercontent.com/a-/AOh14GgGUoK9JeU7aspVqtif0DmXDU4_ZbP-HQf5O3V9d6k=s64",
      "userId": "10219635889505679537"
     },
     "user_tz": -330
    },
    "id": "ce6b618a"
   },
   "outputs": [],
   "source": [
    "Final['avg_delay'] = Final.apply(lambda row: row.avg_delay//(24 * 3600), axis = 1)"
   ]
  },
  {
   "cell_type": "markdown",
   "metadata": {
    "id": "wbBBZPjP0W7o"
   },
   "source": [
    "### Display the \"avg_delay\" column "
   ]
  },
  {
   "cell_type": "code",
   "execution_count": 157,
   "metadata": {
    "colab": {
     "base_uri": "https://localhost:8080/"
    },
    "executionInfo": {
     "elapsed": 621,
     "status": "ok",
     "timestamp": 1645697830627,
     "user": {
      "displayName": "Anand Sharma",
      "photoUrl": "https://lh3.googleusercontent.com/a-/AOh14GgGUoK9JeU7aspVqtif0DmXDU4_ZbP-HQf5O3V9d6k=s64",
      "userId": "10219635889505679537"
     },
     "user_tz": -330
    },
    "id": "a494982f",
    "outputId": "a417252f-f890-4259-ec6c-cb8d2c4854db",
    "scrolled": false
   },
   "outputs": [
    {
     "data": {
      "text/plain": [
       "0       21.0\n",
       "1       12.0\n",
       "2       58.0\n",
       "3      -10.0\n",
       "4       -9.0\n",
       "        ... \n",
       "9774    30.0\n",
       "9775    30.0\n",
       "9776    30.0\n",
       "9777    30.0\n",
       "9778    30.0\n",
       "Name: avg_delay, Length: 9779, dtype: float64"
      ]
     },
     "execution_count": 157,
     "metadata": {},
     "output_type": "execute_result"
    }
   ],
   "source": [
    "Final['avg_delay']"
   ]
  },
  {
   "cell_type": "markdown",
   "metadata": {
    "id": "815d8811"
   },
   "source": [
    "### Now you need to convert average delay column into bucket\n",
    "\n",
    "- Need to perform binning \n",
    "- create a list of bins i.e. bins= [0,15,30,45,60,100]\n",
    "- create a list of labels i.e. labels = ['0-15','16-30','31-45','46-60','Greatar than 60']\n",
    "- perform binning by using cut() function from \"Final\" dataframe\n",
    "\n",
    "\n",
    "- Please fill up the first two rows of the code"
   ]
  },
  {
   "cell_type": "code",
   "execution_count": 158,
   "metadata": {
    "executionInfo": {
     "elapsed": 749,
     "status": "ok",
     "timestamp": 1645697836885,
     "user": {
      "displayName": "Anand Sharma",
      "photoUrl": "https://lh3.googleusercontent.com/a-/AOh14GgGUoK9JeU7aspVqtif0DmXDU4_ZbP-HQf5O3V9d6k=s64",
      "userId": "10219635889505679537"
     },
     "user_tz": -330
    },
    "id": "c797e4b5"
   },
   "outputs": [],
   "source": [
    "bins= [Final['avg_delay'].min(),0,15,30,45,60,Final['avg_delay'].max()+1]\n",
    "labels =['Less than 0','0-15','16-30','31-45','46-60','Greatar than 60']\n",
    "Final['Aging Bucket'] = pd.cut(Final['avg_delay'], bins=bins, labels=labels, right=False)"
   ]
  },
  {
   "cell_type": "markdown",
   "metadata": {
    "id": "1c35725f"
   },
   "source": [
    "### Now you need to drop \"key_0\" and \"avg_delay\" columns from the \"Final\" Dataframe"
   ]
  },
  {
   "cell_type": "code",
   "execution_count": 159,
   "metadata": {
    "executionInfo": {
     "elapsed": 552,
     "status": "ok",
     "timestamp": 1645697841290,
     "user": {
      "displayName": "Anand Sharma",
      "photoUrl": "https://lh3.googleusercontent.com/a-/AOh14GgGUoK9JeU7aspVqtif0DmXDU4_ZbP-HQf5O3V9d6k=s64",
      "userId": "10219635889505679537"
     },
     "user_tz": -330
    },
    "id": "b31bc6a3"
   },
   "outputs": [],
   "source": [
    "lst=['key_0','avg_delay']\n",
    "\n",
    "Final=Final.drop(lst,axis=1)"
   ]
  },
  {
   "cell_type": "markdown",
   "metadata": {
    "id": "Ui-tyIvU0-5u"
   },
   "source": [
    "### Display the count of each categoty of new \"Aging Bucket\" column "
   ]
  },
  {
   "cell_type": "code",
   "execution_count": 160,
   "metadata": {
    "colab": {
     "base_uri": "https://localhost:8080/"
    },
    "executionInfo": {
     "elapsed": 3,
     "status": "ok",
     "timestamp": 1645697845137,
     "user": {
      "displayName": "Anand Sharma",
      "photoUrl": "https://lh3.googleusercontent.com/a-/AOh14GgGUoK9JeU7aspVqtif0DmXDU4_ZbP-HQf5O3V9d6k=s64",
      "userId": "10219635889505679537"
     },
     "user_tz": -330
    },
    "id": "a6e16218",
    "outputId": "0fc8fd0c-60ef-4215-9491-b6c151fd1b8c",
    "scrolled": true
   },
   "outputs": [
    {
     "data": {
      "text/plain": [
       "16-30              2416\n",
       "Less than 0        2297\n",
       "31-45              2137\n",
       "0-15               2112\n",
       "46-60               570\n",
       "Greatar than 60     247\n",
       "Name: Aging Bucket, dtype: int64"
      ]
     },
     "execution_count": 160,
     "metadata": {},
     "output_type": "execute_result"
    }
   ],
   "source": [
    "Final['Aging Bucket'].value_counts()"
   ]
  },
  {
   "cell_type": "markdown",
   "metadata": {
    "id": "kgYegy551GKJ"
   },
   "source": [
    "### Display your final dataset with aging buckets "
   ]
  },
  {
   "cell_type": "code",
   "execution_count": 161,
   "metadata": {
    "colab": {
     "base_uri": "https://localhost:8080/",
     "height": 609
    },
    "executionInfo": {
     "elapsed": 823,
     "status": "ok",
     "timestamp": 1645698150550,
     "user": {
      "displayName": "Anand Sharma",
      "photoUrl": "https://lh3.googleusercontent.com/a-/AOh14GgGUoK9JeU7aspVqtif0DmXDU4_ZbP-HQf5O3V9d6k=s64",
      "userId": "10219635889505679537"
     },
     "user_tz": -330
    },
    "id": "c4bc87ec",
    "outputId": "6ccf2944-ede9-4ece-8ed8-b66a308999c4",
    "scrolled": true
   },
   "outputs": [
    {
     "data": {
      "text/html": [
       "<div>\n",
       "<style scoped>\n",
       "    .dataframe tbody tr th:only-of-type {\n",
       "        vertical-align: middle;\n",
       "    }\n",
       "\n",
       "    .dataframe tbody tr th {\n",
       "        vertical-align: top;\n",
       "    }\n",
       "\n",
       "    .dataframe thead th {\n",
       "        text-align: right;\n",
       "    }\n",
       "</style>\n",
       "<table border=\"1\" class=\"dataframe\">\n",
       "  <thead>\n",
       "    <tr style=\"text-align: right;\">\n",
       "      <th></th>\n",
       "      <th>business_code</th>\n",
       "      <th>cust_number</th>\n",
       "      <th>name_customer</th>\n",
       "      <th>clear_date</th>\n",
       "      <th>buisness_year</th>\n",
       "      <th>doc_id</th>\n",
       "      <th>posting_date</th>\n",
       "      <th>due_in_date</th>\n",
       "      <th>baseline_create_date</th>\n",
       "      <th>cust_payment_terms</th>\n",
       "      <th>converted_usd</th>\n",
       "      <th>Aging Bucket</th>\n",
       "    </tr>\n",
       "  </thead>\n",
       "  <tbody>\n",
       "    <tr>\n",
       "      <th>0</th>\n",
       "      <td>CA02</td>\n",
       "      <td>140105686</td>\n",
       "      <td>SYSC llc</td>\n",
       "      <td>2020-05-01 14:28:56.250000</td>\n",
       "      <td>2020</td>\n",
       "      <td>2960623488</td>\n",
       "      <td>2020-03-30</td>\n",
       "      <td>2020-04-10</td>\n",
       "      <td>2020-03-31</td>\n",
       "      <td>CA10</td>\n",
       "      <td>2309.790</td>\n",
       "      <td>16-30</td>\n",
       "    </tr>\n",
       "    <tr>\n",
       "      <th>1</th>\n",
       "      <td>U001</td>\n",
       "      <td>200744019</td>\n",
       "      <td>TARG us</td>\n",
       "      <td>2020-04-15 21:39:40.875000</td>\n",
       "      <td>2020</td>\n",
       "      <td>1930659387</td>\n",
       "      <td>2020-03-19</td>\n",
       "      <td>2020-04-03</td>\n",
       "      <td>2020-03-19</td>\n",
       "      <td>NAA8</td>\n",
       "      <td>11173.020</td>\n",
       "      <td>0-15</td>\n",
       "    </tr>\n",
       "    <tr>\n",
       "      <th>2</th>\n",
       "      <td>U001</td>\n",
       "      <td>200418007</td>\n",
       "      <td>AM</td>\n",
       "      <td>2020-05-23 10:48:42.000000</td>\n",
       "      <td>2020</td>\n",
       "      <td>1930610806</td>\n",
       "      <td>2020-11-03</td>\n",
       "      <td>2020-03-26</td>\n",
       "      <td>2020-03-11</td>\n",
       "      <td>NAA8</td>\n",
       "      <td>3525.590</td>\n",
       "      <td>46-60</td>\n",
       "    </tr>\n",
       "    <tr>\n",
       "      <th>3</th>\n",
       "      <td>U001</td>\n",
       "      <td>200739534</td>\n",
       "      <td>OK systems</td>\n",
       "      <td>2020-04-20 05:10:00.562500</td>\n",
       "      <td>2020</td>\n",
       "      <td>1930788296</td>\n",
       "      <td>2020-04-15</td>\n",
       "      <td>2020-04-30</td>\n",
       "      <td>2020-04-15</td>\n",
       "      <td>NAA8</td>\n",
       "      <td>121105.650</td>\n",
       "      <td>Less than 0</td>\n",
       "    </tr>\n",
       "    <tr>\n",
       "      <th>4</th>\n",
       "      <td>U001</td>\n",
       "      <td>200353024</td>\n",
       "      <td>DECA corporation</td>\n",
       "      <td>2020-04-17 05:54:22.312500</td>\n",
       "      <td>2020</td>\n",
       "      <td>1930817482</td>\n",
       "      <td>2020-04-23</td>\n",
       "      <td>2020-04-26</td>\n",
       "      <td>2020-04-16</td>\n",
       "      <td>NAM2</td>\n",
       "      <td>3726.060</td>\n",
       "      <td>Less than 0</td>\n",
       "    </tr>\n",
       "    <tr>\n",
       "      <th>...</th>\n",
       "      <td>...</td>\n",
       "      <td>...</td>\n",
       "      <td>...</td>\n",
       "      <td>...</td>\n",
       "      <td>...</td>\n",
       "      <td>...</td>\n",
       "      <td>...</td>\n",
       "      <td>...</td>\n",
       "      <td>...</td>\n",
       "      <td>...</td>\n",
       "      <td>...</td>\n",
       "      <td>...</td>\n",
       "    </tr>\n",
       "    <tr>\n",
       "      <th>9774</th>\n",
       "      <td>CA02</td>\n",
       "      <td>140106408</td>\n",
       "      <td>WAL-M corp</td>\n",
       "      <td>2020-04-15 07:11:19.250000</td>\n",
       "      <td>2020</td>\n",
       "      <td>2960618884</td>\n",
       "      <td>2020-06-03</td>\n",
       "      <td>2020-03-16</td>\n",
       "      <td>2020-03-06</td>\n",
       "      <td>CA10</td>\n",
       "      <td>64982.589</td>\n",
       "      <td>31-45</td>\n",
       "    </tr>\n",
       "    <tr>\n",
       "      <th>9775</th>\n",
       "      <td>CA02</td>\n",
       "      <td>140106408</td>\n",
       "      <td>WAL-M corp</td>\n",
       "      <td>2020-04-15 07:11:19.250000</td>\n",
       "      <td>2020</td>\n",
       "      <td>2960618885</td>\n",
       "      <td>2020-06-03</td>\n",
       "      <td>2020-03-16</td>\n",
       "      <td>2020-03-06</td>\n",
       "      <td>CA10</td>\n",
       "      <td>64982.589</td>\n",
       "      <td>31-45</td>\n",
       "    </tr>\n",
       "    <tr>\n",
       "      <th>9776</th>\n",
       "      <td>CA02</td>\n",
       "      <td>140106408</td>\n",
       "      <td>WAL-M corp</td>\n",
       "      <td>2020-04-15 07:11:19.250000</td>\n",
       "      <td>2020</td>\n",
       "      <td>2960618886</td>\n",
       "      <td>2020-06-03</td>\n",
       "      <td>2020-03-16</td>\n",
       "      <td>2020-03-06</td>\n",
       "      <td>CA10</td>\n",
       "      <td>64982.589</td>\n",
       "      <td>31-45</td>\n",
       "    </tr>\n",
       "    <tr>\n",
       "      <th>9777</th>\n",
       "      <td>CA02</td>\n",
       "      <td>140106408</td>\n",
       "      <td>WAL-M corp</td>\n",
       "      <td>2020-04-15 07:11:19.250000</td>\n",
       "      <td>2020</td>\n",
       "      <td>2960618887</td>\n",
       "      <td>2020-06-03</td>\n",
       "      <td>2020-03-16</td>\n",
       "      <td>2020-03-06</td>\n",
       "      <td>CA10</td>\n",
       "      <td>64982.589</td>\n",
       "      <td>31-45</td>\n",
       "    </tr>\n",
       "    <tr>\n",
       "      <th>9778</th>\n",
       "      <td>CA02</td>\n",
       "      <td>140106408</td>\n",
       "      <td>WAL-M corp</td>\n",
       "      <td>2020-04-15 07:11:19.250000</td>\n",
       "      <td>2020</td>\n",
       "      <td>2960618888</td>\n",
       "      <td>2020-06-03</td>\n",
       "      <td>2020-03-16</td>\n",
       "      <td>2020-03-06</td>\n",
       "      <td>CA10</td>\n",
       "      <td>64982.589</td>\n",
       "      <td>31-45</td>\n",
       "    </tr>\n",
       "  </tbody>\n",
       "</table>\n",
       "<p>9779 rows × 12 columns</p>\n",
       "</div>"
      ],
      "text/plain": [
       "     business_code cust_number     name_customer                 clear_date  \\\n",
       "0             CA02   140105686          SYSC llc 2020-05-01 14:28:56.250000   \n",
       "1             U001   200744019           TARG us 2020-04-15 21:39:40.875000   \n",
       "2             U001   200418007               AM  2020-05-23 10:48:42.000000   \n",
       "3             U001   200739534        OK systems 2020-04-20 05:10:00.562500   \n",
       "4             U001   200353024  DECA corporation 2020-04-17 05:54:22.312500   \n",
       "...            ...         ...               ...                        ...   \n",
       "9774          CA02   140106408        WAL-M corp 2020-04-15 07:11:19.250000   \n",
       "9775          CA02   140106408        WAL-M corp 2020-04-15 07:11:19.250000   \n",
       "9776          CA02   140106408        WAL-M corp 2020-04-15 07:11:19.250000   \n",
       "9777          CA02   140106408        WAL-M corp 2020-04-15 07:11:19.250000   \n",
       "9778          CA02   140106408        WAL-M corp 2020-04-15 07:11:19.250000   \n",
       "\n",
       "      buisness_year      doc_id posting_date due_in_date baseline_create_date  \\\n",
       "0              2020  2960623488   2020-03-30  2020-04-10           2020-03-31   \n",
       "1              2020  1930659387   2020-03-19  2020-04-03           2020-03-19   \n",
       "2              2020  1930610806   2020-11-03  2020-03-26           2020-03-11   \n",
       "3              2020  1930788296   2020-04-15  2020-04-30           2020-04-15   \n",
       "4              2020  1930817482   2020-04-23  2020-04-26           2020-04-16   \n",
       "...             ...         ...          ...         ...                  ...   \n",
       "9774           2020  2960618884   2020-06-03  2020-03-16           2020-03-06   \n",
       "9775           2020  2960618885   2020-06-03  2020-03-16           2020-03-06   \n",
       "9776           2020  2960618886   2020-06-03  2020-03-16           2020-03-06   \n",
       "9777           2020  2960618887   2020-06-03  2020-03-16           2020-03-06   \n",
       "9778           2020  2960618888   2020-06-03  2020-03-16           2020-03-06   \n",
       "\n",
       "     cust_payment_terms  converted_usd Aging Bucket  \n",
       "0                  CA10       2309.790        16-30  \n",
       "1                  NAA8      11173.020         0-15  \n",
       "2                  NAA8       3525.590        46-60  \n",
       "3                  NAA8     121105.650  Less than 0  \n",
       "4                  NAM2       3726.060  Less than 0  \n",
       "...                 ...            ...          ...  \n",
       "9774               CA10      64982.589        31-45  \n",
       "9775               CA10      64982.589        31-45  \n",
       "9776               CA10      64982.589        31-45  \n",
       "9777               CA10      64982.589        31-45  \n",
       "9778               CA10      64982.589        31-45  \n",
       "\n",
       "[9779 rows x 12 columns]"
      ]
     },
     "execution_count": 161,
     "metadata": {},
     "output_type": "execute_result"
    }
   ],
   "source": [
    "Final"
   ]
  },
  {
   "cell_type": "markdown",
   "metadata": {
    "id": "Ji7AoDCB1L_x"
   },
   "source": [
    "### Store this dataframe into the .csv format"
   ]
  },
  {
   "cell_type": "code",
   "execution_count": 162,
   "metadata": {
    "executionInfo": {
     "elapsed": 988,
     "status": "ok",
     "timestamp": 1645698364544,
     "user": {
      "displayName": "Anand Sharma",
      "photoUrl": "https://lh3.googleusercontent.com/a-/AOh14GgGUoK9JeU7aspVqtif0DmXDU4_ZbP-HQf5O3V9d6k=s64",
      "userId": "10219635889505679537"
     },
     "user_tz": -330
    },
    "id": "727d0b8d"
   },
   "outputs": [],
   "source": [
    "Final.to_csv('final.csv')"
   ]
  },
  {
   "cell_type": "markdown",
   "metadata": {
    "id": "FK0fabl61SkC"
   },
   "source": [
    "# END OF THE PROJECT"
   ]
  }
 ],
 "metadata": {
  "colab": {
   "collapsed_sections": [
    "62633a84"
   ],
   "name": "Payment date prediction.ipynb",
   "provenance": [
    {
     "file_id": "1mQPc3QfwNKLwqyreuJGX9qycvErH8OX1",
     "timestamp": 1645522795095
    }
   ]
  },
  "kernelspec": {
   "display_name": "Python 3",
   "language": "python",
   "name": "python3"
  },
  "language_info": {
   "codemirror_mode": {
    "name": "ipython",
    "version": 3
   },
   "file_extension": ".py",
   "mimetype": "text/x-python",
   "name": "python",
   "nbconvert_exporter": "python",
   "pygments_lexer": "ipython3",
   "version": "3.8.5"
  }
 },
 "nbformat": 4,
 "nbformat_minor": 5
}
